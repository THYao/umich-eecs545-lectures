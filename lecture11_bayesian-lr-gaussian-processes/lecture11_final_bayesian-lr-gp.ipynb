{
 "cells": [
  {
   "cell_type": "markdown",
   "metadata": {
    "slideshow": {
     "slide_type": "skip"
    }
   },
   "source": [
    "$$ \\LaTeX \\text{ command declarations here.}\n",
    "\\newcommand{\\R}{\\mathbb{R}}\n",
    "\\newcommand{\\norm}[1]{\\|#1\\|_2}\n",
    "$$"
   ]
  },
  {
   "cell_type": "code",
   "execution_count": 1,
   "metadata": {
    "collapsed": false,
    "slideshow": {
     "slide_type": "skip"
    }
   },
   "outputs": [],
   "source": [
    "from __future__ import division\n",
    "\n",
    "# plotting\n",
    "%matplotlib inline\n",
    "from matplotlib import pyplot as plt;\n",
    "import matplotlib as mpl;\n",
    "from mpl_toolkits.mplot3d import Axes3D\n",
    "if \"bmh\" in plt.style.available: plt.style.use(\"bmh\");\n",
    "    \n",
    "# matplotlib objects\n",
    "from matplotlib import mlab;\n",
    "from matplotlib import gridspec;\n",
    "\n",
    "# scientific\n",
    "import numpy as np;\n",
    "import scipy as scp;\n",
    "import scipy.stats;\n",
    "\n",
    "# scikit-learn\n",
    "import sklearn;\n",
    "from sklearn.kernel_ridge import KernelRidge;\n",
    "\n",
    "# python\n",
    "import random;\n",
    "\n",
    "# warnings\n",
    "import warnings\n",
    "warnings.filterwarnings(\"ignore\")"
   ]
  },
  {
   "cell_type": "code",
   "execution_count": 2,
   "metadata": {
    "collapsed": false,
    "slideshow": {
     "slide_type": "skip"
    }
   },
   "outputs": [],
   "source": [
    "# rise config\n",
    "from notebook.services.config import ConfigManager\n",
    "cm = ConfigManager()\n",
    "cm.update('livereveal', {\n",
    "              'theme': 'simple',\n",
    "              'start_slideshow_at': 'selected',\n",
    "              'transition':'fade',\n",
    "              'scroll': False\n",
    "});"
   ]
  },
  {
   "cell_type": "markdown",
   "metadata": {
    "slideshow": {
     "slide_type": "slide"
    }
   },
   "source": [
    "# EECS 545:  Machine Learning\n",
    "## Lecture 11:  Bayesian Linear Regression & Gaussian Processes\n",
    "* Instructor:  **Jacob Abernethy**\n",
    "* Date:  February 17, 2015\n",
    "\n",
    "*Lecture Exposition Credit: Ben & Valli*"
   ]
  },
  {
   "cell_type": "markdown",
   "metadata": {
    "slideshow": {
     "slide_type": "slide"
    }
   },
   "source": [
    "## References\n",
    "\n",
    "This lecture draws upon the following resources:\n",
    "\n",
    "- **[PRML]** Bishop, Christopher.  [*Pattern Recognition and Machine Learning*](http://www.springer.com/us/book/9780387310732).  2006.\n",
    "- **[MLAPP]** Murphy, Kevin. [*Machine Learning:  A Probabilistic Perspective*](https://mitpress.mit.edu/books/machine-learning-0).  2012.\n",
    "- **[CS229]** Ng, Andrew.  [CS 229:  Machine Learning](http://cs229.stanford.edu/).  Autumn 2015.\n",
    "    - [Gaussian Processes](http://cs229.stanford.edu/section/cs229-gaussian_processes.pdf)\n",
    "    - [More on Gaussians](http://cs229.stanford.edu/section/more_on_gaussians.pdf)"
   ]
  },
  {
   "cell_type": "markdown",
   "metadata": {
    "slideshow": {
     "slide_type": "slide"
    }
   },
   "source": [
    "## Outline\n",
    "\n",
    "- Review Multivariate Gaussians\n",
    "    - Partitioned Marginals and Conditionals\n",
    "    - Bayes' Theorem for Gaussians\n",
    "- Bayesian Linear Regression\n",
    "- Gaussian Process Regression\n",
    "    - Gaussian Processes"
   ]
  },
  {
   "cell_type": "markdown",
   "metadata": {
    "slideshow": {
     "slide_type": "slide"
    }
   },
   "source": [
    "# More on Multivariate Gaussians\n",
    "\n",
    "> Taken from **[PRML]** §2.3, **[MLAPP]** §4.3, 4.4, and **[CS229]**"
   ]
  },
  {
   "cell_type": "markdown",
   "metadata": {
    "slideshow": {
     "slide_type": "slide"
    }
   },
   "source": [
    "### Review:  Multivariate Gaussians\n",
    "\n",
    "Recall the **Multivariate Normal / Gaussian** distribution with \n",
    "- mean $\\mu \\in \\R^D$\n",
    "- covariance matrix $\\Sigma \\in \\R^{D \\times D}$\n",
    "\n",
    "$$\n",
    "\\mathcal{N}(x | \\mu, \\Sigma)\n",
    "= \\frac{1}{(2\\pi)^{D/2}} \\frac{1}{|\\Sigma|^{1/2}}\n",
    "\\exp\\left[ -\\frac{1}{2} (x-\\mu)^T \\Sigma^{-1} (x - \\mu) \\right]\n",
    "$$"
   ]
  },
  {
   "cell_type": "markdown",
   "metadata": {
    "slideshow": {
     "slide_type": "slide"
    }
   },
   "source": [
    "### Partitioned Gaussian Distributions\n",
    "\n",
    "Partition $x \\sim \\mathcal{N}(\\mu, \\Sigma)$ as $x = [x_a, x_b]^T$, and\n",
    "- Mean and covariance\n",
    "$$\n",
    "\\mu = \\begin{bmatrix} \\mu_a \\\\ \\mu_b \\end{bmatrix}\n",
    "\\quad\n",
    "\\Sigma = \\begin{bmatrix}\n",
    "    \\Sigma_{aa} & \\Sigma_{ab} \\\\\n",
    "    \\Sigma_{ba} & \\Sigma_{bb}\n",
    "\\end{bmatrix}\n",
    "$$\n",
    "- Precision Matrix\n",
    "$$\n",
    "\\Lambda = \\Sigma^{-1}\n",
    "= \\begin{bmatrix}\n",
    "    \\Lambda_{aa} & \\Lambda_{ab} \\\\\n",
    "    \\Lambda_{ba} & \\Lambda_{bb}\n",
    "\\end{bmatrix}\n",
    "$$"
   ]
  },
  {
   "cell_type": "markdown",
   "metadata": {
    "slideshow": {
     "slide_type": "slide"
    }
   },
   "source": [
    "### Partitioned Marginals\n",
    "\n",
    "**Exercise:**  Marginals are obtained by taking a subset of rows and columns:\n",
    "\n",
    "$$\n",
    "\\begin{align}\n",
    "P(x_a)\n",
    "&= \\int P(x_a, x_b) \\,dx_b \\\\\n",
    "&= \\mathcal{N}(x_a | \\mu_a, \\Sigma_{aa})\n",
    "\\end{align}\n",
    "$$\n",
    "\n",
    "> Marginals are Gaussian!"
   ]
  },
  {
   "cell_type": "markdown",
   "metadata": {
    "slideshow": {
     "slide_type": "slide"
    }
   },
   "source": [
    "### Partitioned Marginals:  Example Code"
   ]
  },
  {
   "cell_type": "code",
   "execution_count": 8,
   "metadata": {
    "collapsed": true,
    "slideshow": {
     "slide_type": "-"
    }
   },
   "outputs": [],
   "source": [
    "def plot_mvn(sigmax, sigmay, mux, muy, corr):\n",
    "    # dimensions\n",
    "    radius = 3 * max(sigmax, sigmay);\n",
    "    # create grid\n",
    "    x = np.linspace(mux-radius, mux+radius, 100);\n",
    "    y = np.linspace(muy-radius, muy+radius, 100);\n",
    "    X, Y = np.meshgrid(x, y);\n",
    "    \n",
    "    # data limits\n",
    "    xlim = (x.min(), x.max());\n",
    "    ylim = (y.min(), y.max());\n",
    "    \n",
    "    # bivariate and univariate normals\n",
    "    sigmaxy = corr * np.sqrt(sigmax * sigmay);\n",
    "    Z = mlab.bivariate_normal(X, Y, sigmax, sigmay, mux, muy, sigmaxy);\n",
    "    zx = np.sum(Z, axis=0); #mlab.normpdf(x, mux, sigmax);\n",
    "    zy = np.sum(Z, axis=1); #mlab.normpdf(y, muy, sigmay);\n",
    "    \n",
    "    # figure\n",
    "    fig = plt.figure(figsize=(8,8));\n",
    "    \n",
    "    # subplots\n",
    "    gs = gridspec.GridSpec(2, 2, width_ratios=[5,1], height_ratios=[1,5]);\n",
    "    ax_xy = fig.add_subplot(gs[1,0]);\n",
    "    ax_x  = fig.add_subplot(gs[0,0], sharex=ax_xy);\n",
    "    ax_y  = fig.add_subplot(gs[1,1], sharey=ax_xy);\n",
    "    \n",
    "    # plot\n",
    "    ax_xy.imshow(Z, origin='lower', extent=xlim+ylim, aspect='auto');\n",
    "    ax_x.plot(x, zx);\n",
    "    ax_y.plot(zy, y);\n",
    "    \n",
    "    # hide labels\n",
    "    ax_x.xaxis.set_visible(False);\n",
    "    ax_x.yaxis.set_visible(False);\n",
    "    ax_y.xaxis.set_visible(False);\n",
    "    ax_y.yaxis.set_visible(False);\n",
    "    \n",
    "    # layout & title\n",
    "    plt.tight_layout();"
   ]
  },
  {
   "cell_type": "markdown",
   "metadata": {
    "slideshow": {
     "slide_type": "slide"
    }
   },
   "source": [
    "### Partitioned Marginals:  Bivariate Example"
   ]
  },
  {
   "cell_type": "code",
   "execution_count": 9,
   "metadata": {
    "collapsed": false,
    "scrolled": false,
    "slideshow": {
     "slide_type": "-"
    }
   },
   "outputs": [
    {
     "data": {
      "image/png": "[encoded data removed]",
      "text/plain": [
       "<matplotlib.figure.Figure at 0x1085b2278>"
      ]
     },
     "metadata": {},
     "output_type": "display_data"
    }
   ],
   "source": [
    "# sigmax, sigmay, mux, muy, corr\n",
    "plot_mvn(2, 1, 0, 0, 1);"
   ]
  },
  {
   "cell_type": "markdown",
   "metadata": {
    "slideshow": {
     "slide_type": "slide"
    }
   },
   "source": [
    "### Partitioned Conditionals\n",
    "\n",
    "**Exercise:** Conditionals are given by\n",
    "\n",
    "$$\n",
    "\\begin{align}\n",
    "P(x_a | x_b)\n",
    "    &= \\mathcal{N}(x_a | \\mu_{a|b}, \\Sigma_{a|b}) \\\\\n",
    "\\Sigma_{a|b}\n",
    "    &= \\Lambda_{aa}^{-1} \n",
    "    = \\Sigma_{aa} - \\Sigma_{ab}\\Sigma_{bb}^{-1} \\Sigma_{ba} \\\\\n",
    "\\mu_{a|b}\n",
    "    &= \\Sigma_{a|b} \\left[\n",
    "            \\Lambda_{aa}\\mu_a - \\Lambda_{ab}(x_b-\\mu_b) \n",
    "        \\right] \\\\\n",
    "    &= \\mu_a - \\Lambda_{aa}^{-1}\\Lambda_{ab}(x_b - \\mu_b) \\\\\n",
    "    &= \\mu_a + \\Sigma_{ab} \\Sigma_{bb}^{-1} (x_b - \\mu_b)\n",
    "\\end{align}\n",
    "$$"
   ]
  },
  {
   "cell_type": "markdown",
   "metadata": {
    "slideshow": {
     "slide_type": "slide"
    }
   },
   "source": [
    "### Partitioned Conditionals\n",
    "\n",
    "> Obtained by \"slicing\" the joint pdf\n",
    "\n",
    "<img src=\"images/partitioned-conditionals.png\">"
   ]
  },
  {
   "cell_type": "markdown",
   "metadata": {
    "slideshow": {
     "slide_type": "slide"
    }
   },
   "source": [
    "### Linear Gaussian Systems:  Model\n",
    "\n",
    "Suppose $x \\in \\R^{D_x}$ and $y \\in \\R^{D_y}$, and\n",
    "$$\n",
    "\\begin{align}\n",
    "x &\\sim \\mathcal{N}(\\mu_x, \\Sigma_x) \\\\\n",
    "y | x &\\sim \\mathcal{N}(Ax + b, \\Sigma_y)\n",
    "\\end{align}\n",
    "$$\n",
    "\n",
    "for fixed $A \\in \\R^{D_y \\times D_x}$ and $b \\in \\R^{D_y}$."
   ]
  },
  {
   "cell_type": "markdown",
   "metadata": {
    "slideshow": {
     "slide_type": "slide"
    }
   },
   "source": [
    "### Linear Gaussian Systems:  Bayes' Theorem\n",
    "\n",
    "**Exercise:**  Show that\n",
    "\n",
    "$$\n",
    "\\boxed{P(y) = \\mathcal{N}(y | A\\mu_x + b, \\Sigma_y + A\\Sigma_x A^T)}\n",
    "$$"
   ]
  },
  {
   "cell_type": "markdown",
   "metadata": {
    "slideshow": {
     "slide_type": "slide"
    }
   },
   "source": [
    "### Linear Gaussian Systems:  Bayes' Theorem\n",
    "\n",
    "**Exercise:** Show that\n",
    "$$\n",
    "\\boxed{P(x|y) = \\mathcal{N}(x | \\mu_{x|y}, \\Sigma_{x|y})}\n",
    "$$\n",
    "where\n",
    "$$\n",
    "\\begin{align}\n",
    "\\Sigma_{x|y}^{-1} &= \\Sigma_x^{-1} + A^T \\Sigma_y^{-1} A \\\\\n",
    "\\mu_{x|y} &= \\Sigma_{x|y} \\left[\n",
    "        A^T \\Sigma_y^{-1} (y-b) + \\Sigma_x^{-1} \\mu_x \n",
    "    \\right]\n",
    "\\end{align}\n",
    "$$"
   ]
  },
  {
   "cell_type": "markdown",
   "metadata": {
    "slideshow": {
     "slide_type": "slide"
    }
   },
   "source": [
    "# Bayesian Linear Regression \n",
    "\n",
    "> Taken from **[PRML]** §3.3, **[MLAPP]** §7.6, and **[CS229]**"
   ]
  },
  {
   "cell_type": "markdown",
   "metadata": {
    "collapsed": true,
    "slideshow": {
     "slide_type": "slide"
    }
   },
   "source": [
    "### Review:  Regression\n",
    "\n",
    "**Data:**  Given data $\\mathcal{D}=\\{ (x_k, t_k) \\}_{k=1}^N$\n",
    "- Observations $x = \\{ x_1, \\dots, x_N \\}$\n",
    "- Target values $t = \\{t_1, \\dots, t_N \\}$\n",
    "\n",
    "**Predict:** Learn a function $y(x) = t$, e.g.\n",
    "- Linear Regression, $y(x) = w^T \\phi(x)$\n",
    "- Kernel Regression, Locally Weighted Regression, etc."
   ]
  },
  {
   "cell_type": "markdown",
   "metadata": {
    "slideshow": {
     "slide_type": "slide"
    }
   },
   "source": [
    "### Review:  Linear Regression\n",
    "\n",
    "In linear regression, we had a **likelihood** and **prior**\n",
    "$$\n",
    "\\begin{align}\n",
    "w &\\sim \\mathcal{N}(w_0, S_0) \\\\\n",
    "t | x, w, \\beta &\\sim \\mathcal{N}(w^T \\phi(x_n), \\beta^{-1})\n",
    "\\end{align}\n",
    "$$\n",
    "\n",
    "- Alternatively, $y = w^T x + \\epsilon$ with $\\epsilon \\sim \\mathcal{N}(0, \\beta^{-1})$\n",
    "- Ridge regression corresponds to $w_0 = 0$ and $S_0 = \\tau^2 I$."
   ]
  },
  {
   "cell_type": "markdown",
   "metadata": {
    "slideshow": {
     "slide_type": "slide"
    }
   },
   "source": [
    "### Review:  Linear Regression\n",
    "\n",
    "Regularized linear regression gave a **MAP Estimate**:\n",
    "$$\n",
    "w_{MAP} = (\\lambda I + \\Phi^T \\Phi)^{-1} \\Phi^T t\n",
    "$$\n",
    "\n",
    "- where $\\lambda$ is a function of $S_0$ and $\\beta$\n",
    "- this is a *point estimate* of the full posterior $P(w | \\mathcal{D})$"
   ]
  },
  {
   "cell_type": "markdown",
   "metadata": {
    "slideshow": {
     "slide_type": "slide"
    }
   },
   "source": [
    "### Review:  Bayesian Updating\n",
    "\n",
    "Bayesian Linear Regression will compute the full posterior.  Recall that\n",
    "\n",
    "$$\n",
    "\\text{posterior} \\propto \\text{likelihood} \\cdot \\text{prior}\n",
    "$$\n",
    "\n",
    "> weight the *data likelihood* by your *prior beliefs*"
   ]
  },
  {
   "cell_type": "markdown",
   "metadata": {
    "slideshow": {
     "slide_type": "slide"
    }
   },
   "source": [
    "### Bayesian Linear Regression\n",
    "\n",
    "Instead, **Bayesian Linear Regression** computes the full posterior over the weights,\n",
    "$$\n",
    "\\begin{align}\n",
    "P(w | x,t)\n",
    "&\\propto P(t | x,w) P(w) \\\\\n",
    "&= \\mathcal{N}(t \\, | \\, w^T \\phi(x), \\beta^{-1}) \\mathcal{N}(w \\, |\\, w_0, S_0) \\\\\n",
    "&= \\mathcal{N}(w \\, | \\, m_N, S_N)\n",
    "\\end{align}\n",
    "$$\n",
    "\n",
    "where\n",
    "- $m_N = S_N(S_0^{-1} w_0 + \\beta \\Phi^T t)$\n",
    "- $S_N^{-1} = S_0^{-1} + \\beta \\Phi^{T} \\Phi$\n",
    "\n",
    "We got this simply by apply the calcuations on Linear Gaussian Systems (see prev. slides)!"
   ]
  },
  {
   "cell_type": "markdown",
   "metadata": {
    "slideshow": {
     "slide_type": "slide"
    }
   },
   "source": [
    "### BLR:  Simplifying the Prior\n",
    "\n",
    "Assume $w_0 = 0$ and $S_0 = \\alpha^{-1} I$ (zero-mean isotropic Gaussian):\n",
    "\n",
    "$$\n",
    "w \\sim \\mathcal{N}(0, \\alpha^{-1} I)\n",
    "$$\n",
    "\n",
    "**Exercise:**  By Bayes' Rule for Gaussians, the corresponding posterior is:\n",
    "\n",
    "$$\n",
    "P(w | x,t) = \\mathcal{N}(w | m_N, S_N)\n",
    "$$\n",
    "\n",
    "where\n",
    "* $m_N = \\beta S_N \\Phi^T t$\n",
    "* $S_N^{-1} = \\alpha I + \\beta \\Phi^T \\Phi$\n",
    "\n"
   ]
  },
  {
   "cell_type": "markdown",
   "metadata": {
    "slideshow": {
     "slide_type": "slide"
    }
   },
   "source": [
    "### BLR:  Using the Posterior\n",
    "\n",
    "We have just shown the posterior is:\n",
    "$$\n",
    "P(w | x,t) = \\mathcal{N}(w | m_N, S_N)\n",
    "$$\n",
    "\n",
    "where $m_N = \\beta S_N \\Phi^T t$ and $S_N^{-1} = \\alpha I + \\beta \\Phi^T \\Phi$\n",
    "- Note the **posterior mean** is $m_N = w_{MAP}$ from regularized linear regression!\n",
    "- Now we also have the **posterior variance** $S_N$!  This tells us how *confident* we are in our prediction $w_{MAP}$."
   ]
  },
  {
   "cell_type": "markdown",
   "metadata": {},
   "source": [
    "## Break time!\n",
    "\n",
    "<img src=\"https://s-media-cache-ak0.pinimg.com/originals/b2/75/7b/b2757b382dfb6a2e76d95ca85d0556c0.gif\"/>"
   ]
  },
  {
   "cell_type": "markdown",
   "metadata": {
    "slideshow": {
     "slide_type": "slide"
    }
   },
   "source": [
    "### Sequential Bayesian Learning\n",
    "\n",
    "**Note:** The posterior and prior are both Gaussians.\n",
    "- If our data is *streaming*, we can use the posterior for one observation as a prior for the next set of observations.\n",
    "- Starting from a fixed prior, sequentially update our beliefs as new data arrives.\n",
    "\n",
    "This is **Bayesian Updating**."
   ]
  },
  {
   "cell_type": "markdown",
   "metadata": {
    "slideshow": {
     "slide_type": "slide"
    }
   },
   "source": [
    "### Sequential Bayesian Learning\n",
    "\n",
    "**Simple model**: $y(x,w) = w_0 + w_1 x$\n",
    "$$\\text{posterior} \\propto \\text{likelihood} \\cdot \\text{prior}$$\n",
    "\n",
    "<img src = \"images/sbl.png\">\n",
    "\n",
    "$\n",
    "\\text{(A)}  \\quad \\quad \\quad\n",
    "\\quad \\text{(B) } p(\\mathbf{w} | \\mathbf{x},t)\n",
    "\\quad \\text{(C) samples of } \\mathbf{w} |  \\mathbf{x},t\n",
    "$"
   ]
  },
  {
   "cell_type": "markdown",
   "metadata": {
    "slideshow": {
     "slide_type": "slide"
    }
   },
   "source": [
    "### Sequential Bayesian Learning\n",
    "\n",
    "**Simple model**: $y(x,w) = w_0 + w_1 x$\n",
    "$$\\text{posterior} \\propto \\text{likelihood} \\cdot \\text{prior}$$\n",
    "\n",
    "We can sample lines (*hypotheses*) from the posterior:\n",
    "\n",
    "<img src = \"images/sbl2.png\">\n",
    "\n",
    "$$\n",
    "\\text{(A) } p(t | \\mathbf{x}, \\mathbf{w}) \n",
    "\\quad \\text{(B) } p(\\mathbf{w} | \\mathbf{x},t)\n",
    "\\quad \\text{(C) samples of } \\mathbf{w} |  \\mathbf{x},t\n",
    "$$"
   ]
  },
  {
   "cell_type": "markdown",
   "metadata": {
    "slideshow": {
     "slide_type": "slide"
    }
   },
   "source": [
    "### Sequential Bayesian Learning\n",
    "\n",
    "**Simple model**: $y(x,w) = w_0 + w_1 x$\n",
    "$$\\text{posterior} \\propto \\text{likelihood} \\cdot \\text{prior}$$\n",
    "\n",
    "We can sample lines (*hypotheses*) from the posterior:\n",
    "\n",
    "<img src = \"images/sbl3.png\">\n",
    "\n",
    "$$\n",
    "\\text{(A) } p(t | \\mathbf{x}, \\mathbf{w}) \n",
    "\\quad \\text{(B) } p(\\mathbf{w} | \\mathbf{x},t)\n",
    "\\quad \\text{(C) samples of } \\mathbf{w} |  \\mathbf{x},t\n",
    "$$"
   ]
  },
  {
   "cell_type": "markdown",
   "metadata": {
    "slideshow": {
     "slide_type": "slide"
    }
   },
   "source": [
    "### Sequential Bayesian Learning\n",
    "\n",
    "**Simple model**: $y(x,w) = w_0 + w_1 x$\n",
    "$$\\text{posterior} \\propto \\text{likelihood} \\cdot \\text{prior}$$\n",
    "\n",
    "We can sample lines (*hypotheses*) from the posterior:\n",
    "<img src = \"images/sbl4.png\">\n",
    "\n",
    "$$\n",
    "\\text{(A) } p(t | \\mathbf{x}, \\mathbf{w}) \n",
    "\\quad \\text{(B) } p(\\mathbf{w} | \\mathbf{x},t)\n",
    "\\quad \\text{(C) samples of } \\mathbf{w} |  \\mathbf{x},t\n",
    "$$"
   ]
  },
  {
   "cell_type": "markdown",
   "metadata": {
    "slideshow": {
     "slide_type": "slide"
    }
   },
   "source": [
    "### Predictive Distribution\n",
    "\n",
    "Our real goal is to predict $t$ given new $x$ using the **predictive distribution**,\n",
    "\n",
    "$$\n",
    "\\begin{align}\n",
    "P(t | x, \\mathcal{D})\n",
    "&= \\int_w P(t | x, w, \\mathcal{D}) P(w | \\mathcal{D}) \\, dw \\\\\n",
    "&= \\int_w \\mathcal{N}(t | w^T\\phi(x), \\beta^{-1}) \\mathcal{N}(0, \\alpha^{-1}I)\n",
    "\\end{align}\n",
    "$$\n",
    "\n",
    "**Exercise:**  Show that $P(t | x, \\mathcal{D}) = \\mathcal{N}(t | m_N^T \\phi(x), \\sigma_N^2(x))$, where\n",
    "- $\\sigma_N^2(x) = \\frac{1}{\\beta} + \\phi(x)^T S_n \\phi(x)$\n",
    "\n",
    "Intuitively, this corresponds to noise in data + uncertainty in $w$."
   ]
  },
  {
   "cell_type": "markdown",
   "metadata": {
    "slideshow": {
     "slide_type": "slide"
    }
   },
   "source": [
    "### Predictive Distribution:  Samples\n",
    "\n",
    "Using 9 Gaussian basis functions $ \\phi_j(x) = exp\\left\\{ -\\frac{(x- \\mu_j)}{2s^2} \\right\\}$\n",
    "\n",
    "<img src=\"images/predictive-n1.png\">\n",
    "\n",
    "$N=1$ observed point"
   ]
  },
  {
   "cell_type": "markdown",
   "metadata": {
    "slideshow": {
     "slide_type": "slide"
    }
   },
   "source": [
    "### Predictive Distribution:  Samples\n",
    "\n",
    "<img src=\"images/predictive-n2.png\">\n",
    "\n",
    "$N=2$ observed points"
   ]
  },
  {
   "cell_type": "markdown",
   "metadata": {
    "slideshow": {
     "slide_type": "slide"
    }
   },
   "source": [
    "### Predictive Distribution:  Samples\n",
    "\n",
    "<img src=\"images/predictive-n4.png\">\n",
    "\n",
    "$N=4$ observed points"
   ]
  },
  {
   "cell_type": "markdown",
   "metadata": {
    "slideshow": {
     "slide_type": "slide"
    }
   },
   "source": [
    "### Predictive Distribution:  Samples\n",
    "\n",
    "<img src=\"images/predictive-n25.png\">\n",
    "\n",
    "$N=25$ observed points"
   ]
  },
  {
   "cell_type": "markdown",
   "metadata": {
    "slideshow": {
     "slide_type": "slide"
    }
   },
   "source": [
    "# Gaussian Processes\n",
    "\n",
    "> Taken from **[CS229]** and **[MLAPP]**"
   ]
  },
  {
   "cell_type": "markdown",
   "metadata": {
    "slideshow": {
     "slide_type": "slide"
    }
   },
   "source": [
    "### Gaussian Processes\n",
    "\n",
    "**Motivation**: Here are some data points. What function did they come from?\n",
    "- GPs are a nice way of expressing “priors on functions”\n",
    "- Applications: Regression and Classification\n",
    "<img src=\"images/gp1.png\">"
   ]
  },
  {
   "cell_type": "markdown",
   "metadata": {
    "slideshow": {
     "slide_type": "slide"
    }
   },
   "source": [
    "### Gaussian Processes:  Motivation\n",
    "\n",
    "**Multivariate Gaussians** are useful for modeling *finite* collections of real-valued variables.\n",
    "- Nice analytical properties\n",
    "- Distribution over **random vectors**\n",
    "- Easily model *correlations* between variables\n",
    "\n",
    "**Gaussian Processes** extend Multivariate Gaussians to *infinite-sized* collections of real-valued variables.\n",
    "- Distribution over **random functions**"
   ]
  },
  {
   "cell_type": "markdown",
   "metadata": {
    "slideshow": {
     "slide_type": "slide"
    }
   },
   "source": [
    "## How can we parameterize probability distributions over functions?"
   ]
  },
  {
   "cell_type": "markdown",
   "metadata": {
    "slideshow": {
     "slide_type": "slide"
    }
   },
   "source": [
    "### Distributions over Functions:  Finite Domain\n",
    "\n",
    "Consider the following simple example:\n",
    "- Let $\\mathcal{X} = \\{ x_1, \\dots, x_m \\}$ be any finite set.\n",
    "- Let $\\mathcal{H}$ be the set of all functions $h : \\mathcal{X} \\mapsto \\R$.\n",
    "\n",
    "For example, one function $h_0 \\in \\mathcal{H}$ is\n",
    "$$\n",
    "h_0(x_1) = 5 \\quad h_0(x_2) = 2.3 \\quad \\cdots \\quad h_0(x_{m-1}) = -\\pi \\quad h_0(x_m) = 8\n",
    "$$\n",
    "\n",
    "Any function $h \\in \\mathcal{H}$ can be represented as a vector:\n",
    "$$\n",
    "\\vec{h_0} = [5, 2.3, \\dots, \\pi, 8]\n",
    "$$"
   ]
  },
  {
   "cell_type": "markdown",
   "metadata": {
    "slideshow": {
     "slide_type": "slide"
    }
   },
   "source": [
    "### Distributions over Functions:  Finite Domain\n",
    "\n",
    "To specify a distribution over $\\mathcal{H}$, exploit the one-one mapping to $\\R^m$\n",
    "- Assume a distribution over vectors, $\\vec{h} \\sim \\mathcal{N}(\\vec{\\mu}, \\sigma^2 I)$.\n",
    "\n",
    "This **induces** a distribution over $\\mathcal{H}$ given by likelihoods at each *\"sample point\"*:\n",
    "$$\n",
    "P(h) = P(\\vec{h}) = \\prod_{k=1}^m \\frac{1}{\\sqrt{2\\pi} \\sigma} \\exp\\left[ -\\frac{1}{2\\sigma^2} ( f(x_k) - \\mu_k )^2 \\right]\n",
    "$$"
   ]
  },
  {
   "cell_type": "markdown",
   "metadata": {
    "slideshow": {
     "slide_type": "slide"
    }
   },
   "source": [
    "### Distributions over Functions:  Infinite Domain\n",
    "\n",
    "A **stochastic process** is a collection of random variables, $f = \\{ f(x) \\}_{x \\in \\mathcal{X}}$ with index set $\\mathcal{X}$, e.g.\n",
    "- Dirichlet Processes, Poisson Processes, etc.\n",
    "\n",
    "A **Gaussian Process** is a stochastic process such that any finite subcollection of random variables has a multivariate Gaussian distribution"
   ]
  },
  {
   "cell_type": "markdown",
   "metadata": {
    "slideshow": {
     "slide_type": "slide"
    }
   },
   "source": [
    "### Gaussian Processes:  Definition\n",
    "\n",
    "We say $f(\\cdot) \\sim \\mathcal{GP}(m, k)$ is drawn from a Gaussian process with\n",
    "- mean function $m(\\cdot) : \\mathcal{X} \\mapsto \\R$\n",
    "- covariance or kernel function $k(\\cdot, \\cdot) : \\mathcal{X} \\times \\mathcal{X} \\mapsto \\R$\n",
    "\n",
    "provided that for any finite set $\\{x_1, \\dots, x_m\\} \\subset \\mathcal{X}$, the associated random variables have distribution\n",
    "$$\n",
    "\\begin{bmatrix}\n",
    "f(x_1) \\\\ \\vdots \\\\ f(x_m)\n",
    "\\end{bmatrix}\n",
    "\\sim\n",
    "\\mathcal{N}\\left(\n",
    "\\begin{bmatrix}\n",
    "m(x_1) \\\\ \\vdots \\\\ m(x_m)\n",
    "\\end{bmatrix},\n",
    "\\begin{bmatrix}\n",
    "k(x_1, x_1) & \\cdots & k(x_1, x_m) \\\\\n",
    "\\vdots & \\ddots & \\vdots \\\\\n",
    "k(x_m, x_1) & \\cdots & k(x_m, x_m)\n",
    "\\end{bmatrix}\n",
    "\\right)\n",
    "$$"
   ]
  },
  {
   "cell_type": "markdown",
   "metadata": {
    "slideshow": {
     "slide_type": "slide"
    }
   },
   "source": [
    "### Gaussian Processes:  Interpretation\n",
    "\n",
    "Intuitively, $f \\sim \\mathcal{GP}(m, k)$ is an \n",
    "- extremely high-dimensional vector\n",
    "- drawn from an extremely high-dimensional Gaussian\n",
    "\n",
    "Each dimension corresponds to an element $x \\in \\mathcal{X}$,\n",
    "- the corresponding component of the vector represents $f(x)$"
   ]
  },
  {
   "cell_type": "markdown",
   "metadata": {
    "slideshow": {
     "slide_type": "slide"
    }
   },
   "source": [
    "### Gaussian Processes:  Mean and Covariance\n",
    "\n",
    "The **mean function** $m(\\cdot) : \\mathcal{X} \\mapsto \\R$ can be any function.\n",
    "- For most applications, set $m \\equiv 0$.\n",
    "\n",
    "The **covariance function** $k(\\cdot, \\cdot) : \\mathcal{X} \\times \\mathcal{X} \\mapsto \\R$ must be a valid kernel.\n",
    "- $f(x)$ and $f(x')$ will have high covariance if $x$ and $x'$ are \"nearby\"\n",
    "- Therefore, kernel controls **smoothness**"
   ]
  },
  {
   "cell_type": "markdown",
   "metadata": {
    "slideshow": {
     "slide_type": "slide"
    }
   },
   "source": [
    "### Gaussian Processes:  Example\n",
    "\n",
    "When $m \\equiv 0$, the choice of kernel defines the prior.\n",
    "- (Left) Gaussian Kernel $k(x, x') = exp(−\\theta ||x − x'||_2^2)$\n",
    "- (Right) Exponential Kernel $k(x, x') = exp(−\\theta ||x − x'||_1)$\n",
    "\n",
    "Samples from a Gaussian Process:\n",
    "\n",
    "<img src=\"images/gpleft.png\">"
   ]
  },
  {
   "cell_type": "markdown",
   "metadata": {
    "slideshow": {
     "slide_type": "slide"
    }
   },
   "source": [
    "### Linear Regression Revisited\n",
    "\n",
    "**Model:**  Assume $y \\approx w^T \\phi(x)$ is a combination of $M$ fixed basis functions.\n",
    "$$\n",
    "\\begin{align}\n",
    "w &\\sim \\mathcal{N}(w_0, S_0) \\\\\n",
    "y | x, w, \\beta &\\sim \\mathcal{N}(w^T \\phi(x_n), \\beta^{-1})\n",
    "\\end{align}\n",
    "$$\n",
    "\n",
    "Given training points $x_1, \\dots, x_N$, what is the joint distribution $P(\\vec{y})$ of $y(x_1), \\dots, y(x_N)$?\n",
    "$$\n",
    "\\vec{y} = \\Phi w = \\begin{bmatrix} y(x_1) & \\cdots & y(x_N) \\end{bmatrix}^T\n",
    "$$"
   ]
  },
  {
   "cell_type": "markdown",
   "metadata": {
    "slideshow": {
     "slide_type": "slide"
    }
   },
   "source": [
    "### Linear Regression Revisited\n",
    "\n",
    "Note $\\vec{y} = \\Phi w$ is a linear combination of Gaussians $w$, so is itself Gaussian!\n",
    "\n",
    "$$\n",
    "\\begin{align}\n",
    "\\mathrm{E}[\\vec{y}]\n",
    "    &= \\Phi E[w] = 0 \\\\\n",
    "\\mathrm{Cov}[\\vec{y}] \n",
    "    &= \\mathrm{E}[yy^T]\n",
    "    = \\Phi \\mathrm{E}[ww^T] \\Phi^T\n",
    "    = \\frac{1}{\\alpha} \\Phi \\Phi^T\n",
    "    = K\n",
    "\\end{align}\n",
    "$$\n",
    "\n",
    "where $K = [ k(x_i, x_j) ]_{i,j} \\in \\R^{N \\times N}$ is the **Gram Matrix** over the training data with kernel\n",
    "$$\n",
    "k(x_i, x_j) = \\frac{1}{\\alpha} \\phi(x_i)^T \\phi(x_j)\n",
    "$$"
   ]
  },
  {
   "cell_type": "markdown",
   "metadata": {
    "slideshow": {
     "slide_type": "slide"
    }
   },
   "source": [
    "### Bayesian Linear Regression\n",
    "\n",
    "So, Bayesian Kernel Linear Regression is a Gaussian Process!\n",
    "- Kernel $k(\\cdot, \\cdot)$ is dot product in feature space.\n",
    "$$\n",
    "\\begin{align}\n",
    "y &= f(x) + \\epsilon \\\\\n",
    "f &\\sim \\mathcal{GP}(0, k(\\cdot, \\cdot)) \\\\\n",
    "\\epsilon &\\sim \\mathcal{N}(0, \\sigma^2)\n",
    "\\end{align}\n",
    "$$\n",
    "\n",
    "> Features in BLR $\\iff$ Kernel functions for GPs"
   ]
  },
  {
   "cell_type": "markdown",
   "metadata": {
    "slideshow": {
     "slide_type": "slide"
    }
   },
   "source": [
    "### Gaussian Process Regression\n",
    "\n",
    "In general, $k(\\cdot, \\cdot)$ can be any valid kernel,\n",
    "\n",
    "$$\n",
    "\\begin{align}\n",
    "y &= f(x) + \\epsilon \\\\\n",
    "f &\\sim \\mathcal{GP}(0, k(\\cdot, \\cdot)) \\\\\n",
    "\\epsilon &\\sim \\mathcal{N}(0, \\sigma^2)\n",
    "\\end{align}\n",
    "$$\n",
    "\n",
    "> See the book for more details."
   ]
  }
 ],
 "metadata": {
  "celltoolbar": "Slideshow",
  "kernelspec": {
   "display_name": "Python 2",
   "language": "python",
   "name": "python2"
  },
  "language_info": {
   "codemirror_mode": {
    "name": "ipython",
    "version": 2
   },
   "file_extension": ".py",
   "mimetype": "text/x-python",
   "name": "python",
   "nbconvert_exporter": "python",
   "pygments_lexer": "ipython2",
   "version": "2.7.11"
  }
 },
 "nbformat": 4,
 "nbformat_minor": 0
}
