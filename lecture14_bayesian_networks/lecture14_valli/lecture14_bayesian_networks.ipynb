{
 "cells": [
  {
   "cell_type": "code",
   "execution_count": 25,
   "metadata": {
    "collapsed": false,
    "slideshow": {
     "slide_type": "skip"
    }
   },
   "outputs": [],
   "source": [
    "from __future__ import division\n",
    "\n",
    "# plotting\n",
    "%matplotlib inline\n",
    "from matplotlib import pyplot as plt;\n",
    "import matplotlib as mpl;\n",
    "import daft;\n",
    "\n",
    "# scientific\n",
    "import numpy as np;\n",
    "\n",
    "# python\n",
    "import os;"
   ]
  },
  {
   "cell_type": "code",
   "execution_count": 26,
   "metadata": {
    "collapsed": true,
    "slideshow": {
     "slide_type": "skip"
    }
   },
   "outputs": [],
   "source": [
    "# rise config\n",
    "from notebook.services.config import ConfigManager\n",
    "cm = ConfigManager()\n",
    "cm.update('livereveal', {\n",
    "      'theme': 'simple',\n",
    "      'start_slideshow_at': 'selected',\n",
    "      'transition':'fade',\n",
    "      'scroll': False\n",
    "});"
   ]
  },
  {
   "cell_type": "code",
   "execution_count": 27,
   "metadata": {
    "collapsed": false,
    "slideshow": {
     "slide_type": "skip"
    }
   },
   "outputs": [],
   "source": [
    "from PIL import Image, ImageChops\n",
    "\n",
    "def trim(im, percent=36):\n",
    "    bg = Image.new(im.mode, im.size, im.getpixel((0,0)))\n",
    "    diff = ImageChops.difference(im, bg)\n",
    "    diff = ImageChops.add(diff, diff, 2.0, -100)\n",
    "    bbox = diff.getbbox()\n",
    "    if bbox:\n",
    "        x = im.crop(bbox)\n",
    "        return x.resize(((x.size[0]*percent)//100, (x.size[1]*percent)//100))\n",
    "    \n",
    "image_dir = \"images\";\n",
    "os.makedirs(image_dir, exist_ok=True);"
   ]
  },
  {
   "cell_type": "markdown",
   "metadata": {
    "slideshow": {
     "slide_type": "slide"
    }
   },
   "source": [
    "# EECS 545:  Machine Learning\n",
    "## Lecture 14:  Bayesian Networks\n",
    "* Instructor:  **Jacob Abernethy**\n",
    "* Date:  March 9, 2016\n",
    "\n",
    "\n",
    "*Lecture Exposition Credit: Valliappa Chockalingam, Benjamin Bray*"
   ]
  },
  {
   "cell_type": "markdown",
   "metadata": {
    "slideshow": {
     "slide_type": "slide"
    }
   },
   "source": [
    "### Problem Setting\n",
    "\n",
    "- Many problems in Machine Learning can be described with some number random variables.\n",
    "\n",
    "- How do we model interactions between them?"
   ]
  },
  {
   "cell_type": "markdown",
   "metadata": {
    "slideshow": {
     "slide_type": "slide"
    }
   },
   "source": [
    "### Joint Probability Table\n",
    "\n",
    "- Given a set of random variables $\\{x_1, ..., x_N\\}$, the Joint Probability Table (JPT) $p(x_1, ..., x_N)$ lets you answer any probabilistic question that can be asked.\n",
    "\n",
    "- Can we express a JPT any more concisely?"
   ]
  },
  {
   "cell_type": "markdown",
   "metadata": {
    "slideshow": {
     "slide_type": "slide"
    }
   },
   "source": [
    "### Decomposing the JPT using the Chain Rule\n",
    "\n",
    "By the chain rule of probability, we can also represent a joint distribution as follows:\n",
    "\n",
    "$$\\begin{align} \n",
    "p(\\mathbf{x}_{1:N}) \n",
    "&= p(x_1) \\cdot p(x_2 \\mid x_1) \\cdot p(x_3 \\mid x_2, x_1) \\hspace{0.1cm} \\cdot \\hspace{0.1cm} ... \\cdot \\hspace{0.1cm} p(x_N \\mid \\mathbf{x}_{1 : N - 1})\\\\\n",
    "&= \\prod \\limits_{n = 1}^N p(x_n \\mid \\mathbf{x}_{1 : n - 1})\n",
    "\\end{align}$$\n",
    "\n",
    "where $N$ is the number of variables and $\\mathbf{x} = \\{x_1, ..., x_N\\}$."
   ]
  },
  {
   "cell_type": "markdown",
   "metadata": {
    "slideshow": {
     "slide_type": "slide"
    }
   },
   "source": [
    "### Problem?\n",
    "\n",
    "Even with decomposition, ** The expression can become very large! **\n",
    "\n",
    "- As $n$ gets large, $p(x_n \\mid \\mathbf{x}_{1 : n - 1})$ becomes more and more complicated to represent.\n",
    "- Suppose all the variables can take $K$ values, then \n",
    " - $p(x_1)$ has $O(K)$ parameters,\n",
    " - $p(x_2 \\mid x_1)$ has $O(K^2)$ parameters, and so on giving,\n",
    " - $O(K^N)$ parameters in the model."
   ]
  },
  {
   "cell_type": "markdown",
   "metadata": {
    "slideshow": {
     "slide_type": "slide"
    }
   },
   "source": [
    "### A Solution: Use a graphical representation\n",
    "\n",
    "Before explaining the solution, a brief review of graph theory and related terms is presented.\n",
    "\n",
    "**Definition:** A graph $G = (\\nu, \\epsilon)$ consists of \n",
    "- A set of nodes or vertices, $V = \\{\\nu_1 ,···, \\nu_n\\}$, and,\n",
    "- A set of edges or links, $\\epsilon = \\{\\epsilon_{1}, ..., \\epsilon_{m}\\} \\subseteq V \\times V$ where each $\\epsilon_i$ is thus an ordered pair."
   ]
  },
  {
   "cell_type": "markdown",
   "metadata": {
    "slideshow": {
     "slide_type": "slide"
    }
   },
   "source": [
    "### Edge Related Terminology\n",
    "\n",
    "- A node $u$ is said to be **adjacent** to another node $v$ if there is an edge from $u$ to $v$ or from $v$ to $u$. \n",
    "- If there is an edge *from* $u$ *to* $v$ then $u$ is often called the **tail**, while $v$ is called the **head**."
   ]
  },
  {
   "cell_type": "markdown",
   "metadata": {
    "slideshow": {
     "slide_type": "slide"
    }
   },
   "source": [
    "### Sparsity\n",
    " \n",
    " - A fully connected graph of $n$ nodes contains edges between every pair of nodes for a total of $n + (n - 1) + (n - 2) + ... + 1 = \\frac{n(n - 1)}{2}$ edges.\n",
    " \n",
    " - A graph is said to be **sparse** if the number of edges $m \\ll \\frac{n(n - 1)}{2}$.\n",
    " - A graph is said to be **dense** if the number of edges $m \\approx \\frac{n(n - 1)}{2}$."
   ]
  },
  {
   "cell_type": "markdown",
   "metadata": {
    "slideshow": {
     "slide_type": "slide"
    }
   },
   "source": [
    "### Directedness\n",
    "\n",
    "- A graph is said to be undirected if $\\forall s, t, G(s, t) = 1 \\leftrightarrow G(t, s) = 1$. \n",
    "- Otherwise it is said to be directed. "
   ]
  },
  {
   "cell_type": "markdown",
   "metadata": {
    "slideshow": {
     "slide_type": "slide"
    }
   },
   "source": [
    "### Representations: Adjacency Matrices\n",
    "\n",
    " - We often use an adjacency **matrix** to represent graphs: $G(t, s) = 1$ denotes $(s,t) \\in \\epsilon$.\n",
    "     - Space Complexity of Adjacency Matrices: $O(n^2)$ where $n$ is the number of nodes."
   ]
  },
  {
   "cell_type": "markdown",
   "metadata": {
    "slideshow": {
     "slide_type": "slide"
    }
   },
   "source": [
    "### Representations: Adjacency List\n",
    "\n",
    "- For sparse graphs, more compact representations exist such as Adjacency lists: Mapping of nodes to nodes they have an edge to (or from depending on the convention being used).\n",
    " - Space Complexity of Adjacency Lists: $O(m + n)$ where $m$ is the number of edges and $n$ is the number of nodes."
   ]
  },
  {
   "cell_type": "markdown",
   "metadata": {
    "slideshow": {
     "slide_type": "slide"
    }
   },
   "source": [
    "### Cyclicity\n",
    " - A graph is said to be cyclic if there exists a sequence of vertices that can be traversed using edges of the graph such that the sequence's first and last nodes are the same. \n",
    " - If a graph is not cyclic, it is said to be acyclic.\n",
    "  - Note: By definition, an acyclic graph is not reflexive (has no edges from nodes to themselves)."
   ]
  },
  {
   "cell_type": "markdown",
   "metadata": {
    "slideshow": {
     "slide_type": "slide"
    }
   },
   "source": [
    "### The Graphical Representation \n",
    "\n",
    "- Let each node represent a random variable. \n",
    "- Link each variable to those it is conditionally dependent on.\n",
    " - *** Directed Acyclic Graph ***: Directed Edges, No Loops"
   ]
  },
  {
   "cell_type": "markdown",
   "metadata": {
    "slideshow": {
     "slide_type": "slide"
    }
   },
   "source": [
    "### Review: Independence\n",
    "\n",
    "- Random Variables $x$ and $y$ are said to be ***independent*** if $\\boxed{p(x, y) = p(x) \\cdot p(y)}$\n",
    "\n",
    "- Knowing $x$ doesn't tell us any information about $y$ and vice versa."
   ]
  },
  {
   "cell_type": "markdown",
   "metadata": {
    "slideshow": {
     "slide_type": "slide"
    }
   },
   "source": [
    "### Review: Conditional Independence\n",
    "\n",
    "- Random Variables $x$ and $y$ are said to be ***conditionally independent*** given $z$ if $\\boxed{p(x, y \\mid z) = p(x \\mid z) \\cdot p(y \\mid z)}$\n",
    "\n",
    "- Once $z$ is known, information about $x$ does not tell us any information about $y$ and vice versa."
   ]
  },
  {
   "cell_type": "code",
   "execution_count": 53,
   "metadata": {
    "collapsed": false,
    "slideshow": {
     "slide_type": "skip"
    }
   },
   "outputs": [],
   "source": [
    "%%capture\n",
    "\n",
    "### Example \n",
    "pgm = daft.PGM([4, 4], origin=[0, 0])\n",
    "\n",
    "# Nodes\n",
    "pgm.add_node(daft.Node(\"a\", r\"$a$\", 2, 3.5, offset=(0, 20)))\n",
    "pgm.add_node(daft.Node(\"b\", r\"$b$\", 1.3, 2.5, offset=(0, 20)))\n",
    "pgm.add_node(daft.Node(\"c\", r\"$c$\", 2.7, 2.5, offset=(0, 20)))\n",
    "\n",
    "# Add in the edges.\n",
    "pgm.add_edge(\"a\", \"b\", head_length=0.08)\n",
    "pgm.add_edge(\"a\", \"c\", head_length=0.08)\n",
    "pgm.add_edge(\"b\", \"c\", head_length=0.08)\n",
    "\n",
    "# Render and save.\n",
    "pgm.render()\n",
    "pgm.figure.savefig(os.path.join(image_dir, \"Example.png\"), dpi=1000)"
   ]
  },
  {
   "cell_type": "code",
   "execution_count": 29,
   "metadata": {
    "collapsed": false,
    "slideshow": {
     "slide_type": "slide"
    }
   },
   "outputs": [
    {
     "data": {
      "image/png": "[encoded data removed]",
      "text/plain": [
       "<PIL.Image.Image image mode=RGBA size=302x258 at 0x7FC14828FB00>"
      ]
     },
     "execution_count": 29,
     "metadata": {},
     "output_type": "execute_result"
    }
   ],
   "source": [
    "### An Example\n",
    "\n",
    "trim(Image.open(\"images/Example.png\"), 20)\n",
    "\n",
    "# p(a, b, c) = p(c | a, b) x p(a, b) = p(c | a, b) x p(b | a) x p(a)"
   ]
  },
  {
   "cell_type": "markdown",
   "metadata": {
    "slideshow": {
     "slide_type": "slide"
    }
   },
   "source": [
    "### Missing Links\n",
    "\n",
    "- A *** Fully Connected Graph *** represents the fully general Joint Probability Table.\n",
    "- In most domains, some variables will be independent or conditionally independent of others. So, some links will be missing.\n",
    " - The main advantage of the graphical representation."
   ]
  },
  {
   "cell_type": "markdown",
   "metadata": {
    "slideshow": {
     "slide_type": "slide"
    }
   },
   "source": [
    "### Building a Bayesian Network\n",
    "\n",
    "- Specify the variables $\\mathbf{x} = \\{x_1, ..., x_N\\}$.\n",
    "- Identify what each variable depends on: \n",
    " - $x_n$ depends on it's parent variables ${pa}_n \\subseteq \\{x_1, ..., x_{n - 1}\\}$\n",
    " - Observation: Given ${pa}_n$, $x_n$ and $\\{x_1, ..., x_{n - 1}\\} \\setminus {pa}_n$ are conditionally independent."
   ]
  },
  {
   "cell_type": "markdown",
   "metadata": {
    "slideshow": {
     "slide_type": "slide"
    }
   },
   "source": [
    "### Building a Bayesian Network \n",
    "\n",
    "- Add links to $x_n$ from its parent. \n",
    " - These are often causal relations in the domain.\n",
    "- Annotate $x_n$ with $p(x_n \\mid pa_n)$.\n",
    " - $p(x_n \\mid {pa}_n)$ is called a Conditional Probability Table (CPT).\n",
    "- Finally, the Joint Probability Table (JPT) is then given by $p(\\mathbf{x}) = \\prod \\limits_{n = 1}^N p(x_n \\mid {pa}_n)$. This is sometimes refered to as the General Factorization for Bayesian Networks."
   ]
  },
  {
   "cell_type": "markdown",
   "metadata": {
    "slideshow": {
     "slide_type": "slide"
    }
   },
   "source": [
    "### Exercise\n",
    "\n",
    "Construct a Bayesian Network to represent the Joint Probability Distribution: \n",
    "    $$\\begin{align}p(x_1, x_2, x_3, x_4, x_5, x_6, x_7) = \\hspace{0.2cm} &p(x_1) \\cdot p(x_2) \\cdot p(x_3) \\cdot \\\\ &\n",
    "p(x_4 \\mid x_1, x_2, x_3) \\cdot p(x_5 \\mid x_1, x_3) \\cdot \\\\ & p(x_6 \\mid x_4) \\cdot p(x_7 \\mid x_4, x_5) \\end{align}$$"
   ]
  },
  {
   "cell_type": "code",
   "execution_count": 30,
   "metadata": {
    "collapsed": false,
    "slideshow": {
     "slide_type": "skip"
    }
   },
   "outputs": [],
   "source": [
    "%%capture\n",
    "# Answer to Exercise\n",
    "\n",
    "pgm = daft.PGM([4, 4], origin=[0, 0])\n",
    "\n",
    "\n",
    "# Nodes\n",
    "pgm.add_node(daft.Node(\"x1\", r\"$x_1$\", 2, 3.5, offset=(0, 20)))\n",
    "pgm.add_node(daft.Node(\"x2\", r\"$x_2$\", 1.3, 2.5, offset=(0, 20)))\n",
    "pgm.add_node(daft.Node(\"x3\", r\"$x_3$\", 2.7, 2.5, offset=(0, 20)))\n",
    "pgm.add_node(daft.Node(\"x4\", r\"$x_4$\", 1.6, 1.5, offset=(-20, 0)))\n",
    "pgm.add_node(daft.Node(\"x5\", r\"$x_5$\", 2.3, 1.5, offset=(20, 0)))\n",
    "pgm.add_node(daft.Node(\"x6\", r\"$x_6$\", 1.3, 0.5, offset=(-20, 0)))\n",
    "pgm.add_node(daft.Node(\"x7\", r\"$x_7$\", 2.7, 0.5, offset=(20, 0)))\n",
    "\n",
    "# Add in the edges.\n",
    "pgm.add_edge(\"x1\", \"x4\", head_length=0.08)\n",
    "pgm.add_edge(\"x1\", \"x5\", head_length=0.08)\n",
    "pgm.add_edge(\"x2\", \"x4\", head_length=0.08)\n",
    "pgm.add_edge(\"x3\", \"x4\", head_length=0.08)\n",
    "pgm.add_edge(\"x3\", \"x5\", head_length=0.08)\n",
    "pgm.add_edge(\"x4\", \"x6\", head_length=0.08)\n",
    "pgm.add_edge(\"x4\", \"x7\", head_length=0.08)\n",
    "pgm.add_edge(\"x5\", \"x7\", head_length=0.08)\n",
    "\n",
    "# Render and save.\n",
    "pgm.render()\n",
    "pgm.figure.savefig(os.path.join(image_dir, \"Exercise.png\"), dpi=1000)"
   ]
  },
  {
   "cell_type": "code",
   "execution_count": 31,
   "metadata": {
    "collapsed": false,
    "slideshow": {
     "slide_type": "slide"
    }
   },
   "outputs": [
    {
     "data": {
      "image/png": "[encoded data removed]",
      "text/plain": [
       "<PIL.Image.Image image mode=RGBA size=320x516 at 0x7FC149F1D588>"
      ]
     },
     "execution_count": 31,
     "metadata": {},
     "output_type": "execute_result"
    }
   ],
   "source": [
    "# Answer\n",
    "trim(Image.open(\"images/Exercise.png\"), 18)"
   ]
  },
  {
   "cell_type": "markdown",
   "metadata": {
    "slideshow": {
     "slide_type": "slide"
    }
   },
   "source": [
    "### Bayesian Curve-Fitting\n",
    "\n",
    "- Bayesian Regression problem.\n",
    "- Random variables are the:\n",
    "    - Vector of polynimal coefficients, $\\mathbf{w}$, and the\n",
    "    - Vector of observed data, $\\mathbf{t} = (t_1, ..., t_N)^T$.\n",
    "    \n",
    "- Polynomial: $y(x, \\mathbf{w}) = \\sum \\limits_{j = 0}^M w_j x^j$.\n",
    "- Bayes Theorem Formulation: $p(\\mathbf{t}, \\mathbf{w}) = p(\\mathbf{w}) \\prod \\limits_{n = 1}^N p(t_n \\mid y(\\mathbf{w}, x_n))$"
   ]
  },
  {
   "cell_type": "markdown",
   "metadata": {
    "slideshow": {
     "slide_type": "slide"
    }
   },
   "source": [
    "### Plate Models\n",
    "\n",
    "- We can use random variables $t_i$ and a weight vector $\\mathbf{w}$.\n",
    "- $\\mathbf{w}$ is a parent of each of the $t_i$ variables.\n",
    "- This is an ideal scenario for using plate models. \n",
    " - ** Purpose of plate models:** Compactly represent multiple iterated nodes."
   ]
  },
  {
   "cell_type": "code",
   "execution_count": 32,
   "metadata": {
    "collapsed": false,
    "slideshow": {
     "slide_type": "skip"
    }
   },
   "outputs": [],
   "source": [
    "%%capture\n",
    "pgm = daft.PGM([4, 4], origin=[0, 0])\n",
    "\n",
    "# Nodes\n",
    "pgm.add_node(daft.Node(\"w\", r\"$w$\", 2, 3.5, offset=(0, 20)))\n",
    "pgm.add_node(daft.Node(\"t1\", r\"$t_1 . . . . . . . $\", 1.3, 2.5, offset=(35, 0)))\n",
    "pgm.add_node(daft.Node(\"t2\", r\"$t_N$\", 2.7, 2.5, offset=(-20, 0)))\n",
    "\n",
    "# Add in the edges.\n",
    "pgm.add_edge(\"w\", \"t1\", head_length=0.08)\n",
    "pgm.add_edge(\"w\", \"t2\", head_length=0.08)\n",
    "\n",
    "# Render and save.\n",
    "pgm.render()\n",
    "pgm.figure.savefig(os.path.join(image_dir, \"Poly_ellipsis.png\"), dpi=1000)"
   ]
  },
  {
   "cell_type": "code",
   "execution_count": 33,
   "metadata": {
    "collapsed": false,
    "slideshow": {
     "slide_type": "slide"
    }
   },
   "outputs": [
    {
     "data": {
      "image/png": "[encoded data removed]",
      "text/plain": [
       "<PIL.Image.Image image mode=RGBA size=302x258 at 0x7FC1482754E0>"
      ]
     },
     "execution_count": 33,
     "metadata": {},
     "output_type": "execute_result"
    }
   ],
   "source": [
    "trim(Image.open(\"images/Poly_ellipsis.png\"), 20)"
   ]
  },
  {
   "cell_type": "code",
   "execution_count": 34,
   "metadata": {
    "collapsed": false,
    "slideshow": {
     "slide_type": "skip"
    }
   },
   "outputs": [],
   "source": [
    "%%capture\n",
    "pgm = daft.PGM([4, 4], origin=[0, 0])\n",
    "\n",
    "# Nodes\n",
    "pgm.add_node(daft.Node(\"w\", r\"$w$\", 2, 3.5, offset=(0, 20)))\n",
    "pgm.add_node(daft.Node(\"t_n\", r\"$t_n$\", 3, 3.5, offset=(0, 20)))\n",
    "\n",
    "pgm.add_plate(daft.Plate([2.5, 3, 1.1, 1], label=r\"$n = 1, \\ldots, N$\",\n",
    "    shift=-0.1))\n",
    "\n",
    "# Add in the edges.\n",
    "pgm.add_edge(\"w\", \"t_n\", head_length=0.08)\n",
    "\n",
    "# Render and save.\n",
    "pgm.render()\n",
    "pgm.figure.savefig(os.path.join(image_dir, \"Poly_plate.png\"), dpi=1000, frameon=False)"
   ]
  },
  {
   "cell_type": "code",
   "execution_count": 35,
   "metadata": {
    "collapsed": false,
    "slideshow": {
     "slide_type": "slide"
    }
   },
   "outputs": [
    {
     "data": {
      "image/png": "[encoded data removed]",
      "text/plain": [
       "<PIL.Image.Image image mode=RGBA size=294x174 at 0x7FC14591AD68>"
      ]
     },
     "execution_count": 35,
     "metadata": {},
     "output_type": "execute_result"
    }
   ],
   "source": [
    "# Plate Example\n",
    "trim(Image.open(\"images/Poly_plate.png\"), 20)"
   ]
  },
  {
   "cell_type": "markdown",
   "metadata": {},
   "source": [
    "$$\\text{Model: } p(\\mathbf{T}, \\mathbf{w}) = p(\\mathbf{w}) \\prod \\limits_{n = 1}^N p(t_n \\mid \\mathbf{w})$$"
   ]
  },
  {
   "cell_type": "markdown",
   "metadata": {
    "slideshow": {
     "slide_type": "slide"
    }
   },
   "source": [
    "### Constant Parameters and Inputs?\n",
    "\n",
    "- Open circles represent random variables. \n",
    "- Small filled circles represent constant parameters such as input, variance, and hyperparameters."
   ]
  },
  {
   "cell_type": "code",
   "execution_count": 36,
   "metadata": {
    "collapsed": false,
    "slideshow": {
     "slide_type": "skip"
    }
   },
   "outputs": [],
   "source": [
    "%%capture\n",
    "pgm = daft.PGM([5, 5], origin=[0, 0])\n",
    "\n",
    "# Nodes\n",
    "pgm.add_node(daft.Node(\"w\", r\"$w$\", 2, 3.5, offset=(0, 20)))\n",
    "pgm.add_node(daft.Node(\"t_n\", r\"$t_n$\", 3, 3.5, offset=(0, 20)))\n",
    "\n",
    "pgm.add_node(daft.Node(\"x_n\", r\"$x_n$\", 3, 2.5, offset=(0, -20), fixed=True))\n",
    "pgm.add_node(daft.Node(\"var\", r\"$\\sigma^2$\", 4, 3.5, fixed=True))\n",
    "pgm.add_node(daft.Node(\"alpha\", r\"$\\alpha$\", 2, 2.5, offset=(0, -20), fixed=True))\n",
    "\n",
    "pgm.add_plate(daft.Plate([2.5, 2, 1.1, 2], label=r\"$n = 1, \\ldots, N$\",\n",
    "    shift=-0.1))\n",
    "\n",
    "# Add in the edges.\n",
    "pgm.add_edge(\"w\", \"t_n\", head_length=0.08)\n",
    "pgm.add_edge(\"alpha\", \"w\", head_length=0.08)\n",
    "pgm.add_edge(\"x_n\", \"t_n\", head_length=0.08)\n",
    "pgm.add_edge(\"var\", \"t_n\", head_length=0.08)\n",
    "\n",
    "# Render and save.\n",
    "pgm.render()\n",
    "pgm.figure.savefig(os.path.join(image_dir, \"Poly_with_parameters.png\"), dpi=1000)"
   ]
  },
  {
   "cell_type": "code",
   "execution_count": 37,
   "metadata": {
    "collapsed": false,
    "slideshow": {
     "slide_type": "slide"
    }
   },
   "outputs": [
    {
     "data": {
      "image/png": "[encoded data removed]",
      "text/plain": [
       "<PIL.Image.Image image mode=RGBA size=368x333 at 0x7FC14591D198>"
      ]
     },
     "execution_count": 37,
     "metadata": {},
     "output_type": "execute_result"
    }
   ],
   "source": [
    "trim(Image.open(\"images/Poly_with_parameters.png\"), 20)"
   ]
  },
  {
   "cell_type": "markdown",
   "metadata": {},
   "source": [
    "$$\\text{Model: } p(\\mathbf{T}, \\mathbf{w} \\mid \\mathbf{x}, \\alpha, \\sigma^2) = p(\\mathbf{w} \\mid \\alpha) \\prod \\limits_{n = 1}^N p(t_n \\mid \\mathbf{w}, x_n, \\sigma^2)$$"
   ]
  },
  {
   "cell_type": "markdown",
   "metadata": {
    "slideshow": {
     "slide_type": "slide"
    }
   },
   "source": [
    "### Learning\n",
    "Shaded Circles represent random variables with observed values."
   ]
  },
  {
   "cell_type": "code",
   "execution_count": 38,
   "metadata": {
    "collapsed": false,
    "slideshow": {
     "slide_type": "skip"
    }
   },
   "outputs": [],
   "source": [
    "%%capture\n",
    "pgm = daft.PGM([5, 5], origin=[0, 0])\n",
    "\n",
    "# Nodes\n",
    "pgm.add_node(daft.Node(\"w\", r\"$w$\", 2, 3.5, offset=(0, 20)))\n",
    "pgm.add_node(daft.Node(\"t_n\", r\"$t_n$\", 3, 3.5, offset=(0, 20), observed=True))\n",
    "\n",
    "pgm.add_node(daft.Node(\"x_n\", r\"$x_n$\", 3, 2.5, offset=(0, -20), fixed=True))\n",
    "pgm.add_node(daft.Node(\"var\", r\"$\\sigma^2$\", 4, 3.5, fixed=True))\n",
    "pgm.add_node(daft.Node(\"alpha\", r\"$\\alpha$\", 2, 2.5, offset=(0, -20), fixed=True))\n",
    "\n",
    "pgm.add_plate(daft.Plate([2.5, 2, 1.1, 2], label=r\"$n = 1, \\ldots, N$\",\n",
    "    shift=-0.1))\n",
    "\n",
    "# Add in the edges.\n",
    "pgm.add_edge(\"w\", \"t_n\", head_length=0.08)\n",
    "pgm.add_edge(\"alpha\", \"w\", head_length=0.08)\n",
    "pgm.add_edge(\"x_n\", \"t_n\", head_length=0.08)\n",
    "pgm.add_edge(\"var\", \"t_n\", head_length=0.08)\n",
    "\n",
    "# Render and save.\n",
    "pgm.render()\n",
    "pgm.figure.savefig(os.path.join(image_dir, \"Poly_after_observation.png\"), dpi=1000)"
   ]
  },
  {
   "cell_type": "code",
   "execution_count": 39,
   "metadata": {
    "collapsed": false
   },
   "outputs": [
    {
     "data": {
      "image/png": "[encoded data removed]",
      "text/plain": [
       "<PIL.Image.Image image mode=RGBA size=368x333 at 0x7FC14595C358>"
      ]
     },
     "execution_count": 39,
     "metadata": {},
     "output_type": "execute_result"
    }
   ],
   "source": [
    "trim(Image.open(\"images/Poly_after_observation.png\"), 20)"
   ]
  },
  {
   "cell_type": "markdown",
   "metadata": {},
   "source": [
    "$$\\text{Note: } p(\\mathbf{w} \\mid \\mathbf{T}) \\propto p(\\mathbf{w}) \\prod \\limits_{n = 1}^N p(t_n \\mid \\mathbf{w})$$"
   ]
  },
  {
   "cell_type": "markdown",
   "metadata": {
    "slideshow": {
     "slide_type": "slide"
    }
   },
   "source": [
    "### Prediction\n",
    "\n",
    "- Add new variables to represent a query and the estimated target value.\n",
    "- We are interested in the probability distribution $p(\\hat{t})$ for a new input value $\\hat{x}$ conditioned on the observed data. "
   ]
  },
  {
   "cell_type": "markdown",
   "metadata": {
    "slideshow": {
     "slide_type": "slide"
    }
   },
   "source": [
    "### Prediction\n",
    "\n",
    "- The joint distribution can then be formulated as $$p(\\hat{t}, \\mathbf{T}, \\mathbf{w} \\mid \\hat{x}, \\mathbf{x}, \\alpha, \\sigma^2) =\\\\ \\left[ \\prod_{n = 1}^N p(t_n \\mid x_n, \\mathbf{w}, \\sigma^2) \\right] p(\\mathbf{w} \\mid \\alpha) p(\\hat{t} \\mid \\hat{x}, \\mathbf{w}, \\sigma^2)$$\n",
    "- So the predictive distribution for $\\hat{x}$ is given by $$p(\\hat{t} \\mid \\hat{x}, \\mathbf{x}, \\mathbf{T}, \\alpha, \\sigma^2) \\propto \\int p(\\hat{t}, \\mathbf{T}, \\mathbf{w} \\mid \\hat{x}, \\mathbf{x}, \\alpha, \\sigma^2) \\hspace{0.2cm} d\\mathbf{w}$$"
   ]
  },
  {
   "cell_type": "code",
   "execution_count": 40,
   "metadata": {
    "collapsed": false,
    "slideshow": {
     "slide_type": "skip"
    }
   },
   "outputs": [],
   "source": [
    "%%capture\n",
    "pgm = daft.PGM([6, 6], origin=[0, 0])\n",
    "\n",
    "# Nodes\n",
    "pgm.add_node(daft.Node(\"w\", r\"$w$\", 2, 3.5, offset=(0, -20)))\n",
    "pgm.add_node(daft.Node(\"t_n\", r\"$t_n$\", 3, 3.5, offset=(20, 0), observed=True))\n",
    "pgm.add_node(daft.Node(\"that\", r\"$\\hat{t}$\", 2, 4.5, offset=(0, 20)))\n",
    "\n",
    "pgm.add_node(daft.Node(\"x_n\", r\"$x_n$\", 3, 2.5, offset=(0, -20), fixed=True))\n",
    "pgm.add_node(daft.Node(\"var\", r\"$\\sigma^2$\", 3, 4.5, fixed=True))\n",
    "pgm.add_node(daft.Node(\"alpha\", r\"$\\alpha$\", 1, 3.5, fixed=True))\n",
    "pgm.add_node(daft.Node(\"xhat\", r\"$\\hat{x}$\", 1, 4.5, fixed=True))\n",
    "\n",
    "\n",
    "pgm.add_plate(daft.Plate([2.5, 2, 1.1, 2], label=r\"$n = 1, \\ldots, N$\",\n",
    "    shift=-0.1))\n",
    "\n",
    "# Add in the edges.\n",
    "pgm.add_edge(\"w\", \"t_n\", head_length=0.08)\n",
    "pgm.add_edge(\"alpha\", \"w\", head_length=0.08)\n",
    "pgm.add_edge(\"x_n\", \"t_n\", head_length=0.08)\n",
    "pgm.add_edge(\"var\", \"t_n\", head_length=0.08)\n",
    "pgm.add_edge(\"var\", \"that\", head_length=0.08)\n",
    "pgm.add_edge(\"xhat\", \"that\", head_length=0.08)\n",
    "pgm.add_edge(\"w\", \"that\", head_length=0.08)\n",
    "\n",
    "# Render and save.\n",
    "pgm.render()\n",
    "pgm.figure.savefig(os.path.join(image_dir, \"Poly_prediction.png\"), dpi=1000)"
   ]
  },
  {
   "cell_type": "code",
   "execution_count": 41,
   "metadata": {
    "collapsed": false,
    "slideshow": {
     "slide_type": "slide"
    }
   },
   "outputs": [
    {
     "data": {
      "image/png": "[encoded data removed]",
      "text/plain": [
       "<PIL.Image.Image image mode=RGBA size=314x363 at 0x7FC14587E898>"
      ]
     },
     "execution_count": 41,
     "metadata": {},
     "output_type": "execute_result"
    }
   ],
   "source": [
    "trim(Image.open(\"images/Poly_prediction.png\"), 15)"
   ]
  },
  {
   "cell_type": "markdown",
   "metadata": {
    "slideshow": {
     "slide_type": "slide"
    }
   },
   "source": [
    "### Directedness in Bayesian Networks and Sampling the Joint Distribution\n",
    "\n",
    "- Question: How to sample the JPT $p(x_1, ..., x_k)$?\n",
    "\n",
    "- In $p(x_n \\mid {pa}_n)$, the variables in ${pa}_n$ come before $x_k$ in the ordering of variables, so we can sample in sequence."
   ]
  },
  {
   "cell_type": "markdown",
   "metadata": {},
   "source": [
    "### Example \n",
    "\n",
    "Given $p(a, b, c) = p(c \\mid a, b) p(b \\mid a) p(a)$\n",
    "\n",
    "- Draw $a$ from the distribution $p(a)$.\n",
    "- Given that value of $a$, draw $b$ from $p(b \\mid a)$.\n",
    "- Given $a$ and $b$, draw $c$ from $p(c \\mid a, b)$.\n",
    "- $(a, b, c)$ is then drawn from $p(a, b, c)$."
   ]
  },
  {
   "cell_type": "markdown",
   "metadata": {
    "slideshow": {
     "slide_type": "slide"
    }
   },
   "source": [
    "### Factorization: Joint Distribution of Discrete Variables  \n",
    "#### Single Variable Case\n",
    "\n",
    "- The probability distribution $p(\\mathbf{x} \\mid \\mathbf{\\mu})$ for a single discrete variable $\\mathbf{x}$ that can take $K$ states is given by $p(\\mathbf{x} \\mid \\mathbf{\\mu}) = \\prod \\limits_{k = 1}^K \\mu_k^{x_k}$.\n",
    "\n",
    "- With the constraint that $\\sum \\limits_k \\mu_k = 1$, only $K - 1$ free parameters are needed\n",
    " - Another way of thinking of this is with degrees of freedom."
   ]
  },
  {
   "cell_type": "markdown",
   "metadata": {
    "slideshow": {
     "slide_type": "slide"
    }
   },
   "source": [
    "### Factorization: Joint Distribution of Discrete Variables \n",
    "#### Two Variable Case\n",
    "\n",
    "- Consider two discrete random variables $\\mathbf{x}_1$ and $\\mathbf{x}_2$, each of which has $K$ states.\n",
    "\n",
    "- Let the parameter $\\mu_{kl}$ denote the probability $p(\\mathbf{x}_1 = k, \\mathbf{x}_2 = l)$. \n",
    "\n",
    "- The joint distribution is then given by $p(\\mathbf{x}_1, \\mathbf{x}_2 \\mid \\mathbf{\\mu}) = \\prod \\limits_{k = 1}^K \\prod \\limits_{l = 1}^K \\mu_{kl}^{x_{1k}x_{2l}}$\n",
    "\n",
    "- With $\\sum_k \\sum_l \\mu_{kl} = 1$, the distribution is then governed by $K^2 - 1$ parameters."
   ]
  },
  {
   "cell_type": "code",
   "execution_count": 42,
   "metadata": {
    "collapsed": false,
    "slideshow": {
     "slide_type": "skip"
    }
   },
   "outputs": [],
   "source": [
    "%%capture\n",
    "pgm = daft.PGM([4, 4], origin=[0, 0])\n",
    "\n",
    "# Nodes\n",
    "pgm.add_node(daft.Node(\"x1\", r\"$x_1$\", 2, 3.5, offset=(0, 20)))\n",
    "pgm.add_node(daft.Node(\"x2\", r\"$x_2$\", 3, 3.5, offset=(0, 20)))\n",
    "\n",
    "# Add in the edges.\n",
    "pgm.add_edge(\"x1\", \"x2\", head_length=0.08)\n",
    "\n",
    "# Render and save.\n",
    "pgm.render()\n",
    "pgm.figure.savefig(os.path.join(image_dir, \"2-gen.png\"), dpi=1000)"
   ]
  },
  {
   "cell_type": "code",
   "execution_count": 43,
   "metadata": {
    "collapsed": false,
    "slideshow": {
     "slide_type": "-"
    }
   },
   "outputs": [
    {
     "data": {
      "image/png": "[encoded data removed]",
      "text/plain": [
       "<PIL.Image.Image image mode=RGBA size=179x75 at 0x7FC1482C3518>"
      ]
     },
     "execution_count": 43,
     "metadata": {},
     "output_type": "execute_result"
    }
   ],
   "source": [
    "trim(Image.open(\"images/2-gen.png\"), 15)"
   ]
  },
  {
   "cell_type": "markdown",
   "metadata": {
    "slideshow": {
     "slide_type": "slide"
    }
   },
   "source": [
    "### Factorization: Joint Distribution of Discrete Variables \n",
    "#### General Case\n",
    "\n",
    "Extending on the previous observations, we see that for a joint distribution over $N$ discrete variables, there are $K^N - 1$ states which grows ***exponentially*** in $N$."
   ]
  },
  {
   "cell_type": "markdown",
   "metadata": {
    "slideshow": {
     "slide_type": "slide"
    }
   },
   "source": [
    "### Factorization: Joint Distribution of Independent Discrete Variables - Two Variable Case\n",
    "\n",
    "- Consider two random variables $\\mathbf{x}_1$ and $\\mathbf{x}_2$ that are independent and each of which can take $K$ states. \n",
    "\n",
    "- Each variable can then be described a separate multinomial distribution with $K - 1$ parameters for a total of $2(K - 1)$ parameters."
   ]
  },
  {
   "cell_type": "code",
   "execution_count": 44,
   "metadata": {
    "collapsed": false,
    "slideshow": {
     "slide_type": "skip"
    }
   },
   "outputs": [],
   "source": [
    "%%capture\n",
    "pgm = daft.PGM([4, 4], origin=[0, 0])\n",
    "\n",
    "# Nodes\n",
    "pgm.add_node(daft.Node(\"x1\", r\"$x_1$\", 2, 3.5, offset=(0, 20)))\n",
    "pgm.add_node(daft.Node(\"x2\", r\"$x_2$\", 3, 3.5, offset=(0, 20)))\n",
    "\n",
    "# Render and save.\n",
    "pgm.render()\n",
    "pgm.figure.savefig(os.path.join(image_dir, \"2-ind.png\"), dpi=1000)"
   ]
  },
  {
   "cell_type": "code",
   "execution_count": 45,
   "metadata": {
    "collapsed": false,
    "slideshow": {
     "slide_type": "-"
    }
   },
   "outputs": [
    {
     "data": {
      "image/png": "[encoded data removed]",
      "text/plain": [
       "<PIL.Image.Image image mode=RGBA size=179x75 at 0x7FC149F117B8>"
      ]
     },
     "execution_count": 45,
     "metadata": {},
     "output_type": "execute_result"
    }
   ],
   "source": [
    "trim(Image.open(\"images/2-ind.png\"), 15) "
   ]
  },
  {
   "cell_type": "markdown",
   "metadata": {
    "slideshow": {
     "slide_type": "slide"
    }
   },
   "source": [
    "### Factorization: Joint Distribution of Independent  Discrete Variables - General Case\n",
    "\n",
    "- With $N$ independent discrete random variables, we can describe each with a multinomial distribution consisting of $K - 1$ parameters.\n",
    "\n",
    "- Total number of parameters: $N(K - 1)$\n",
    " - Grows ***linearly*** in $N$."
   ]
  },
  {
   "cell_type": "markdown",
   "metadata": {
    "slideshow": {
     "slide_type": "slide"
    }
   },
   "source": [
    "### Observations \n",
    "\n",
    "- A Fully Connected Graph with $N$ nodes has $K^N - 1$ parameters. \n",
    "\n",
    "- A Fully Disconected Graph (one without any edges) had $N(K - 1)$ parameters.\n",
    "\n",
    "- Graphs with intermediate levels of connectivity \n",
    " - Allow for more general distributions than the fully factorized one, and, \n",
    " - Require fewer parameters than the fully connected one."
   ]
  },
  {
   "cell_type": "markdown",
   "metadata": {
    "slideshow": {
     "slide_type": "slide"
    }
   },
   "source": [
    "### Conjugate Priors\n",
    "\n",
    "- Dirichlet Priors can be added to the multinomial random variables. \n",
    "- Furthermore, a Diriclet prior can be shared by conditional distributions."
   ]
  },
  {
   "cell_type": "code",
   "execution_count": 46,
   "metadata": {
    "collapsed": false,
    "slideshow": {
     "slide_type": "skip"
    }
   },
   "outputs": [],
   "source": [
    "%%capture\n",
    "pgm = daft.PGM([6, 6], origin=[0, 0])\n",
    "\n",
    "# Nodes\n",
    "pgm.add_node(daft.Node(\"mu1\", r\"$\\mathbf{\\mu}_1$\", 2, 3.5, offset=(0, 20)))\n",
    "pgm.add_node(daft.Node(\"mu2\", r\"$\\mathbf{\\mu}_2$\", 3, 3.5, offset=(0, 20)))\n",
    "pgm.add_node(daft.Node(\"muN\", r\"$\\mathbf{\\mu}_N$\", 4.5, 3.5, offset=(0, 20)))\n",
    "\n",
    "pgm.add_node(daft.Node(\"x1\", r\"$\\mathbf{x}_n$\", 2, 2.5, offset=(0, -20)))\n",
    "pgm.add_node(daft.Node(\"x2\", r\"$\\mathbf{x}_2$\", 3, 2.5, offset=(0, -20)))\n",
    "pgm.add_node(daft.Node(\"ellipsis\", r\" . . . \", 3.7, 2.5, offset=(0, 0), plot_params={\"ec\" : \"none\"}))\n",
    "pgm.add_node(daft.Node(\"ellipsis_end\", r\"\", 3.7, 2.5, offset=(0, 0), plot_params={\"ec\" : \"none\"}))\n",
    "pgm.add_node(daft.Node(\"xN\", r\"$\\mathbf{x}_N$\", 4.5, 2.5, offset=(0, -20)))\n",
    "\n",
    "\n",
    "# Add in the edges.\n",
    "pgm.add_edge(\"mu1\", \"x1\", head_length=0.08)\n",
    "pgm.add_edge(\"mu2\", \"x2\", head_length=0.08)\n",
    "pgm.add_edge(\"muN\", \"xN\", head_length=0.08)\n",
    "pgm.add_edge(\"x1\", \"x2\", head_length=0.08)\n",
    "pgm.add_edge(\"x2\", \"ellipsis\", head_length=0.08)\n",
    "pgm.add_edge(\"ellipsis_end\", \"xN\", head_length=0.08)\n",
    "\n",
    "# Render and save.\n",
    "pgm.render()\n",
    "pgm.figure.savefig(os.path.join(image_dir, \"Priors.png\"), dpi=1000)"
   ]
  },
  {
   "cell_type": "code",
   "execution_count": 47,
   "metadata": {
    "collapsed": false,
    "slideshow": {
     "slide_type": "slide"
    }
   },
   "outputs": [
    {
     "data": {
      "image/png": "[encoded data removed]",
      "text/plain": [
       "<PIL.Image.Image image mode=RGBA size=356x214 at 0x7FC149F23FD0>"
      ]
     },
     "execution_count": 47,
     "metadata": {},
     "output_type": "execute_result"
    }
   ],
   "source": [
    "# Dirichlet Priors\n",
    "trim(Image.open(\"images/Priors.png\"), 15) "
   ]
  },
  {
   "cell_type": "markdown",
   "metadata": {},
   "source": [
    "$p(\\{\\mathbf{x}_n, \\mathbf{\\mu}_n\\}) = p(\\mathbf{x}_1 \\mid \\mathbf{\\mu}_1) p(\\mathbf{\\mu}_1) \\prod \\limits_{n = 2}^N p(\\mathbf{x}_n \\mid \\mathbf{x}_{n - 1}, \\mathbf{\\mu}_n) p(\\mathbf{\\mu}_n),$ \n",
    "where $p(\\mathbf{\\mu}_n) = Dir(\\mathbf{\\mu}_n \\mid \\mathbf{\\alpha}_n)$"
   ]
  },
  {
   "cell_type": "code",
   "execution_count": 48,
   "metadata": {
    "collapsed": false,
    "slideshow": {
     "slide_type": "skip"
    }
   },
   "outputs": [],
   "source": [
    "%%capture\n",
    "pgm = daft.PGM([6, 6], origin=[0, 0])\n",
    "\n",
    "# Nodes\n",
    "pgm.add_node(daft.Node(\"mu1\", r\"$\\mathbf{\\mu}_1$\", 2, 3.5, offset=(0, 20)))\n",
    "pgm.add_node(daft.Node(\"mu\", r\"$\\mathbf{\\mu}$\", 3.75, 3.5, offset=(0, 20)))\n",
    "\n",
    "pgm.add_node(daft.Node(\"x1\", r\"$\\mathbf{x}_n$\", 2, 2.5, offset=(0, -20)))\n",
    "pgm.add_node(daft.Node(\"x2\", r\"$\\mathbf{x}_2$\", 3, 2.5, offset=(0, -20)))\n",
    "pgm.add_node(daft.Node(\"ellipsis\", r\" . . . \", 3.7, 2.5, offset=(0, 0), plot_params={\"ec\" : \"none\"}))\n",
    "pgm.add_node(daft.Node(\"ellipsis_end\", r\"\", 3.7, 2.5, offset=(0, 0), plot_params={\"ec\" : \"none\"}))\n",
    "pgm.add_node(daft.Node(\"xN\", r\"$\\mathbf{x}_N$\", 4.5, 2.5, offset=(0, -20)))\n",
    "\n",
    "\n",
    "# Add in the edges.\n",
    "pgm.add_edge(\"mu1\", \"x1\", head_length=0.08)\n",
    "pgm.add_edge(\"mu\", \"x2\", head_length=0.08)\n",
    "pgm.add_edge(\"mu\", \"xN\", head_length=0.08)\n",
    "pgm.add_edge(\"x1\", \"x2\", head_length=0.08)\n",
    "pgm.add_edge(\"x2\", \"ellipsis\", head_length=0.08)\n",
    "pgm.add_edge(\"ellipsis_end\", \"xN\", head_length=0.08)\n",
    "\n",
    "# Render and save.\n",
    "pgm.render()\n",
    "pgm.figure.savefig(os.path.join(image_dir, \"SharedPrior.png\"), dpi=1000)"
   ]
  },
  {
   "cell_type": "code",
   "execution_count": 49,
   "metadata": {
    "collapsed": false,
    "slideshow": {
     "slide_type": "slide"
    }
   },
   "outputs": [
    {
     "data": {
      "image/png": "[encoded data removed]",
      "text/plain": [
       "<PIL.Image.Image image mode=RGBA size=356x214 at 0x7FC1481F4DA0>"
      ]
     },
     "execution_count": 49,
     "metadata": {},
     "output_type": "execute_result"
    }
   ],
   "source": [
    "# Shared Prior\n",
    "trim(Image.open(\"images/SharedPrior.png\"), 15) "
   ]
  },
  {
   "cell_type": "markdown",
   "metadata": {},
   "source": [
    "$p(\\{\\mathbf{x}_n\\}, \\mathbf{\\mu}_1, \\mathbf{\\mu}) = p(\\mathbf{x}_1 \\mid \\mathbf{\\mu}_1) p(\\mathbf{\\mu}_1) \\prod \\limits_{n = 2}^N p(\\mathbf{x}_n \\mid \\mathbf{x}_{n - 1}, \\mathbf{\\mu}) p(\\mathbf{\\mu})$ "
   ]
  },
  {
   "cell_type": "markdown",
   "metadata": {
    "slideshow": {
     "slide_type": "slide"
    }
   },
   "source": [
    "### Parametrization Example \n",
    "\n",
    "- Consider $N$ binary random variables, each governed by a single parameter $\\mu_i$ representing the probability $p(x_i = 1)$.\n",
    " - Total number of parameters: $N$"
   ]
  },
  {
   "cell_type": "code",
   "execution_count": 50,
   "metadata": {
    "collapsed": false,
    "slideshow": {
     "slide_type": "skip"
    }
   },
   "outputs": [],
   "source": [
    "%%capture\n",
    "pgm = daft.PGM([4, 4], origin=[0, 0])\n",
    "\n",
    "# Nodes\n",
    "pgm.add_node(daft.Node(\"y\", r\"$w$\", 2, 3.5, offset=(0, 20)))\n",
    "pgm.add_node(daft.Node(\"x1\", r\"$x_1 . . . . . .$\", 1.3, 2.5, offset=(32, 0)))\n",
    "pgm.add_node(daft.Node(\"xN\", r\"$x_N$\", 2.7, 2.5, offset=(-21, 0)))\n",
    "\n",
    "# Add in the edges.\n",
    "pgm.add_edge(\"y\", \"x1\", head_length=0.08)\n",
    "pgm.add_edge(\"y\", \"xN\", head_length=0.08)\n",
    "\n",
    "# Render and save.\n",
    "pgm.render()\n",
    "pgm.figure.savefig(os.path.join(image_dir, \"ParametrizationEx-1.png\"), dpi=1000)"
   ]
  },
  {
   "cell_type": "code",
   "execution_count": 54,
   "metadata": {
    "collapsed": false,
    "slideshow": {
     "slide_type": "-"
    }
   },
   "outputs": [
    {
     "data": {
      "image/png": "[encoded data removed]",
      "text/plain": [
       "<PIL.Image.Image image mode=RGBA size=226x193 at 0x7FC149F60F98>"
      ]
     },
     "execution_count": 54,
     "metadata": {},
     "output_type": "execute_result"
    }
   ],
   "source": [
    "trim(Image.open(\"images/ParametrizationEx-1.png\"), 15)"
   ]
  },
  {
   "cell_type": "markdown",
   "metadata": {},
   "source": [
    "- However, note that the conditional distribution $p(y \\mid x_1, ..., x_N)$ would require $2^N$ parameters."
   ]
  },
  {
   "cell_type": "markdown",
   "metadata": {
    "slideshow": {
     "slide_type": "slide"
    }
   },
   "source": [
    "### Parametrization Example \n",
    "\n",
    "One way to simplify the model is to use the ***logistic sigmoid function*** on a ***linear combination of the parent variables*** as follows $$p(y = 1 \\mid x_1, ..., x_N) = \\sigma \\left( w_0 + \\sum \\limits_{i = 1}^N w_i x_i \\right) = \\sigma(\\mathbf{W}^T\\mathbf{x})$$\n",
    "\n",
    "where $\\sigma(t) = (1 + \\exp(-t))^{-1}$ is the logistic sigmoid, $\\mathbf{x} = (1, x_1, ..., x_N)^T$ is an $(N + 1)$-dimensional vector and $\\mathbf{w} = (w_0, ..., w_N)^T$ is a vector of $N + 1$ parameters! \n",
    "***Note: Linear in the number of variables as opposed to exponential! ***"
   ]
  },
  {
   "cell_type": "markdown",
   "metadata": {
    "slideshow": {
     "slide_type": "slide"
    }
   },
   "source": [
    "### Data Complexity \n",
    "\n",
    "- How many parameters specify the distribution of $N$ discrete (say, binary) variables?\n",
    " - If the graph is disconnected (no edges at all), $O(N)$.\n",
    " - If the graph is fully connected, $O(2^N)$.\n",
    " - Partial structure gives intermediate complexity.\n",
    "- For $N$ Gaussian variables? (Verify these.)\n",
    " - If graph is disconnected (again, no edges at all), $O(N)$.\n",
    " - If graph is fully connected, $O(N^2)$."
   ]
  },
  {
   "cell_type": "markdown",
   "metadata": {
    "slideshow": {
     "slide_type": "slide"
    }
   },
   "source": [
    "### Conditional Independence Revisited\n",
    "\n",
    "- Recall, Random Variables $x$ and $y$ are said to be ***conditionally independent*** given $z$ if $\\boxed{p(x, y \\mid z) = p(x \\mid z) \\cdot p(y \\mid z)}$\n",
    "\n",
    "\n",
    "- Notation: \n",
    " - $a \\!\\perp\\!\\!\\!\\perp b \\mid c$, or,\n",
    " - $a \\perp b \\mid c$.\n",
    " \n",
    " \n",
    "- How to infer such structure from a graph?"
   ]
  },
  {
   "cell_type": "code",
   "execution_count": null,
   "metadata": {
    "collapsed": false,
    "slideshow": {
     "slide_type": "skip"
    }
   },
   "outputs": [],
   "source": [
    "%%capture\n",
    "### Example \n",
    "\n",
    "pgm = daft.PGM([4, 4], origin=[0, 0])\n",
    "\n",
    "# Nodes\n",
    "pgm.add_node(daft.Node(\"c\", r\"$c$\", 2, 3.5, offset=(0, 20)))\n",
    "pgm.add_node(daft.Node(\"a\", r\"$a$\", 1.3, 2.5, offset=(0, 20)))\n",
    "pgm.add_node(daft.Node(\"b\", r\"$b$\", 2.7, 2.5, offset=(0, 20)))\n",
    "\n",
    "# Add in the edges.\n",
    "pgm.add_edge(\"c\", \"a\", head_length=0.08)\n",
    "pgm.add_edge(\"c\", \"b\", head_length=0.08)\n",
    "\n",
    "# Render and save.\n",
    "pgm.render()\n",
    "pgm.figure.savefig(os.path.join(image_dir, \"CondIndExample1.png\"), dpi=1000)"
   ]
  },
  {
   "cell_type": "code",
   "execution_count": null,
   "metadata": {
    "collapsed": false,
    "slideshow": {
     "slide_type": "slide"
    }
   },
   "outputs": [],
   "source": [
    "# Example 1\n",
    "# Question: Are a and b conditionally independent \n",
    "#           in the given scenario?\n",
    "trim(Image.open(\"images/CondIndExample1.png\"), 20)"
   ]
  },
  {
   "cell_type": "markdown",
   "metadata": {
    "slideshow": {
     "slide_type": "slide"
    }
   },
   "source": [
    "### Answer \n",
    "\n",
    "- No, $a$ and $b$ are not conditionally independent given the empty set.\n",
    "\n",
    "- Note: $c$ is ***not*** given! In particular, it is not shaded. \n",
    "\n",
    "- Explanation: \n",
    " - The joint distribution is given by $p(a, b, c) = p(a \\mid c)p(b \\mid c) p(c)$\n",
    " - The marginal distribution is given by $p(a, b) = \\sum_c p(a \\mid c) p(b \\mid c) p(c)$ which in general does not factorize into $p(a) p(b)$. \n",
    " \n",
    " - Therefore, $a \\not\\!\\perp\\!\\!\\!\\perp b \\mid \\emptyset$.\n"
   ]
  },
  {
   "cell_type": "markdown",
   "metadata": {
    "slideshow": {
     "slide_type": "slide"
    }
   },
   "source": [
    "### A subtle point\n",
    "- Following the notation of the book, expressions such as $P(E \\mid \\emptyset)$ and $a \\not\\!\\perp\\!\\!\\!\\perp b \\mid \\emptyset$ are used here.\n",
    "- However, technically, expressions such as $p(E \\mid \\emptyset)$ are undefined. \n",
    "- The intuition is to think of the empty as denoteing \"given no information\" or rather the universal set in fact.\n",
    " - In this scenario, the conditional independence of $a$ and $b$ is really equivalent to $a$ and $b$ being independent. This is the reason we are looking for whether the marginal distribution $p(a, b)$ is equal to $p(a)p(b)$."
   ]
  },
  {
   "cell_type": "code",
   "execution_count": null,
   "metadata": {
    "collapsed": false,
    "slideshow": {
     "slide_type": "skip"
    }
   },
   "outputs": [],
   "source": [
    "%%capture\n",
    "### Example \n",
    "\n",
    "pgm = daft.PGM([4, 4], origin=[0, 0])\n",
    "\n",
    "# Nodes\n",
    "pgm.add_node(daft.Node(\"c\", r\"$c$\", 2, 3.5, offset=(0, 20), \n",
    "                       observed=True))\n",
    "pgm.add_node(daft.Node(\"a\", r\"$a$\", 1.3, 2.5, offset=(0, 20)))\n",
    "pgm.add_node(daft.Node(\"b\", r\"$b$\", 2.7, 2.5, offset=(0, 20)))\n",
    "\n",
    "# Add in the edges.\n",
    "pgm.add_edge(\"c\", \"a\", head_length=0.08)\n",
    "pgm.add_edge(\"c\", \"b\", head_length=0.08)\n",
    "\n",
    "# Render and save.\n",
    "pgm.render()\n",
    "pgm.figure.savefig(os.path.join(image_dir, \"CondIndExample1-observed.png\"), dpi=1000)"
   ]
  },
  {
   "cell_type": "code",
   "execution_count": null,
   "metadata": {
    "collapsed": false,
    "slideshow": {
     "slide_type": "slide"
    }
   },
   "outputs": [],
   "source": [
    "# Example 1 after Observation\n",
    "# Question: Are a and b conditionally independent \n",
    "#           in the given scenario?\n",
    "trim(Image.open(\"images/CondIndExample1-observed.png\"), 20)"
   ]
  },
  {
   "cell_type": "markdown",
   "metadata": {
    "slideshow": {
     "slide_type": "slide"
    }
   },
   "source": [
    "### Answer \n",
    "\n",
    "- Yes, $a$ and $b$ are conditionally independent given the $c$.\n",
    "\n",
    "- Given $c$, $p(a, b \\mid c) = \\frac{p(a, b, c)}{p(c)} = p(a \\mid c) p(b \\mid c)$ (recall previous slide about the joint distribution.)\n",
    "\n",
    "- Thus, we have $a \\!\\perp\\!\\!\\!\\perp b \\mid c.$"
   ]
  },
  {
   "cell_type": "markdown",
   "metadata": {
    "slideshow": {
     "slide_type": "slide"
    }
   },
   "source": [
    "### Tail-to-Tail \n",
    "\n",
    "- Note that there is an ***undirected*** path from node $a$ to node $b$ via $c$. \n",
    "\n",
    "- Node $c$ is tail-to-tail with respect to this path (node c is at the tail of both of the edges).\n",
    "\n",
    "- Thus, for a tail-to-tail connections, \n",
    " - $a$ and $b$ are dependent, but, \n",
    " - the conditioned node, $c$, *** blocks *** the path from a to b and causes a and b to become independent."
   ]
  },
  {
   "cell_type": "code",
   "execution_count": null,
   "metadata": {
    "collapsed": false,
    "slideshow": {
     "slide_type": "skip"
    }
   },
   "outputs": [],
   "source": [
    "%%capture\n",
    "### Example \n",
    "\n",
    "pgm = daft.PGM([4, 4], origin=[0, 0])\n",
    "\n",
    "# Nodes\n",
    "pgm.add_node(daft.Node(\"c\", r\"$c$\", 2, 3.5, offset=(0, 20)))\n",
    "pgm.add_node(daft.Node(\"a\", r\"$a$\", 1.3, 2.5, offset=(0, 20)))\n",
    "pgm.add_node(daft.Node(\"b\", r\"$b$\", 2.7, 2.5, offset=(0, 20)))\n",
    "\n",
    "# Add in the edges.\n",
    "pgm.add_edge(\"a\", \"c\", head_length=0.08)\n",
    "pgm.add_edge(\"c\", \"b\", head_length=0.08)\n",
    "\n",
    "# Render and save.\n",
    "pgm.render()\n",
    "pgm.figure.savefig(os.path.join(image_dir, \"CondIndExample2.png\"), dpi=1000)"
   ]
  },
  {
   "cell_type": "code",
   "execution_count": null,
   "metadata": {
    "collapsed": false,
    "slideshow": {
     "slide_type": "slide"
    }
   },
   "outputs": [],
   "source": [
    "# Example 2\n",
    "# Question: Are a and b conditionally independent \n",
    "#           in the given scenario?\n",
    "trim(Image.open(\"images/CondIndExample2.png\"), 20) "
   ]
  },
  {
   "cell_type": "markdown",
   "metadata": {
    "slideshow": {
     "slide_type": "slide"
    }
   },
   "source": [
    "### Answer \n",
    "\n",
    "- No, $a$ and $b$ are not conditionally independent given the empty set.\n",
    "\n",
    "- Note: Again, $c$ is ***not*** given! In particular, it is not shaded. \n",
    "\n",
    "- Explanation: \n",
    " - The joint distribution is given by $p(a, b, c) = p(a)p(c \\mid a) p(b \\mid c)$\n",
    " - $p(a, b)$ is given by $p(a) \\sum_c p(c \\mid a) p(b \\mid c) = p(a)p(b \\mid a) $ which in general does not factorize into $p(a) p(b)$. \n",
    " \n",
    " - Therefore, $a \\not\\!\\perp\\!\\!\\!\\perp b \\mid \\emptyset$."
   ]
  },
  {
   "cell_type": "code",
   "execution_count": null,
   "metadata": {
    "collapsed": false,
    "slideshow": {
     "slide_type": "skip"
    }
   },
   "outputs": [],
   "source": [
    "%%capture\n",
    "### Example \n",
    "\n",
    "pgm = daft.PGM([4, 4], origin=[0, 0])\n",
    "\n",
    "# Nodes\n",
    "pgm.add_node(daft.Node(\"c\", r\"$c$\", 2, 3.5, offset=(0, 20), \n",
    "                       observed = True))\n",
    "pgm.add_node(daft.Node(\"a\", r\"$a$\", 1.3, 2.5, offset=(0, 20)))\n",
    "pgm.add_node(daft.Node(\"b\", r\"$b$\", 2.7, 2.5, offset=(0, 20)))\n",
    "\n",
    "# Add in the edges.\n",
    "pgm.add_edge(\"a\", \"c\", head_length=0.08)\n",
    "pgm.add_edge(\"c\", \"b\", head_length=0.08)\n",
    "\n",
    "# Render and save.\n",
    "pgm.render()\n",
    "pgm.figure.savefig(os.path.join(image_dir, \"CondIndExample2-observed.png\"), dpi=1000)"
   ]
  },
  {
   "cell_type": "code",
   "execution_count": null,
   "metadata": {
    "collapsed": false,
    "slideshow": {
     "slide_type": "slide"
    }
   },
   "outputs": [],
   "source": [
    "# Example 2 after observation\n",
    "# Question: Are a and b conditionally independent \n",
    "#           in the given scenario?\n",
    "trim(Image.open(\"images/CondIndExample2-observed.png\"), 20) "
   ]
  },
  {
   "cell_type": "markdown",
   "metadata": {
    "slideshow": {
     "slide_type": "slide"
    }
   },
   "source": [
    "### Answer \n",
    "\n",
    "- Yes, $a$ and $b$ are conditionally independent given the $c$.\n",
    "\n",
    "- Given $c$, $p(a, b \\mid c) = \\frac{p(a, b, c)}{p(c)} = \\frac{p(a)p(c \\mid a) p(b \\mid c)}{p(c)} = p(a \\mid c) p(b \\mid c) \\\\$ \n",
    "\n",
    "- Thus, we have $a \\!\\perp\\!\\!\\!\\perp b \\mid c.$"
   ]
  },
  {
   "cell_type": "markdown",
   "metadata": {
    "slideshow": {
     "slide_type": "slide"
    }
   },
   "source": [
    "### Head-to-Tail \n",
    "\n",
    "- Note that there is an ***undirected*** path from node $a$ to node $b$ via $c$. \n",
    "\n",
    "- Node $c$ is head-to-tail with respect to this path (node c is at the head of the edge from $a$ and at the tail of the edge to $b$.)\n",
    "\n",
    "- Thus, for a head-to-tail connection, \n",
    " - $a$ and $b$ are dependent, but, \n",
    " - the conditioned node, $c$, *** blocks *** the path from a to b and causes a and b to become independent."
   ]
  },
  {
   "cell_type": "code",
   "execution_count": null,
   "metadata": {
    "collapsed": false,
    "slideshow": {
     "slide_type": "skip"
    }
   },
   "outputs": [],
   "source": [
    "%%capture\n",
    "### Example \n",
    "\n",
    "pgm = daft.PGM([4, 4], origin=[0, 0])\n",
    "\n",
    "# Nodes\n",
    "pgm.add_node(daft.Node(\"c\", r\"$c$\", 2, 3.5, offset=(0, 20)))\n",
    "pgm.add_node(daft.Node(\"a\", r\"$a$\", 1.3, 2.5, offset=(0, 20)))\n",
    "pgm.add_node(daft.Node(\"b\", r\"$b$\", 2.7, 2.5, offset=(0, 20)))\n",
    "\n",
    "# Add in the edges.\n",
    "pgm.add_edge(\"a\", \"c\", head_length=0.08)\n",
    "pgm.add_edge(\"b\", \"c\", head_length=0.08)\n",
    "\n",
    "# Render and save.\n",
    "pgm.render()\n",
    "pgm.figure.savefig(os.path.join(image_dir, \"CondIndExample3.png\"), dpi=1000)"
   ]
  },
  {
   "cell_type": "code",
   "execution_count": null,
   "metadata": {
    "collapsed": false,
    "slideshow": {
     "slide_type": "slide"
    }
   },
   "outputs": [],
   "source": [
    "# Example 3 \n",
    "# Question: Are a and b conditionally independent \n",
    "#           in the given scenario?\n",
    "trim(Image.open(\"images/CondIndExample3.png\"), 20) "
   ]
  },
  {
   "cell_type": "markdown",
   "metadata": {
    "slideshow": {
     "slide_type": "slide"
    }
   },
   "source": [
    "### Answer \n",
    "\n",
    "- Yes, $a$ and $b$ are conditionally independent given the empty set! \n",
    "\n",
    "- Explanation: \n",
    " - The joint distribution is given by $p(a, b, c) = p(a)p(b)p(c \\mid a, b)$.\n",
    " - When none of the variables are observed, marginalizing both sides leads to $p(a, b) = p(a)P(b)$.\n",
    " - Therefore, $a$ and $b$ are independent with no variables observed, in contrast to the previous two examples, $a \\!\\perp\\!\\!\\!\\perp b \\mid \\emptyset$"
   ]
  },
  {
   "cell_type": "code",
   "execution_count": null,
   "metadata": {
    "collapsed": false,
    "slideshow": {
     "slide_type": "skip"
    }
   },
   "outputs": [],
   "source": [
    "%%capture\n",
    "### Example \n",
    "\n",
    "pgm = daft.PGM([4, 4], origin=[0, 0])\n",
    "\n",
    "# Nodes\n",
    "pgm.add_node(daft.Node(\"c\", r\"$c$\", 2, 3.5, offset=(0, 20), \n",
    "                       observed=True))\n",
    "pgm.add_node(daft.Node(\"a\", r\"$a$\", 1.3, 2.5, offset=(0, 20)))\n",
    "pgm.add_node(daft.Node(\"b\", r\"$b$\", 2.7, 2.5, offset=(0, 20)))\n",
    "\n",
    "# Add in the edges.\n",
    "pgm.add_edge(\"a\", \"c\", head_length=0.08)\n",
    "pgm.add_edge(\"b\", \"c\", head_length=0.08)\n",
    "\n",
    "# Render and save.\n",
    "pgm.render()\n",
    "pgm.figure.savefig(os.path.join(image_dir, \"CondIndExample3-observed.png\"), dpi=1000)"
   ]
  },
  {
   "cell_type": "code",
   "execution_count": null,
   "metadata": {
    "collapsed": false,
    "slideshow": {
     "slide_type": "slide"
    }
   },
   "outputs": [],
   "source": [
    "# Example 3 after observation\n",
    "# Question: Are a and b conditionally independent \n",
    "#           in the given scenario?\n",
    "trim(Image.open(\"images/CondIndExample3-observed.png\"), 20) "
   ]
  },
  {
   "cell_type": "markdown",
   "metadata": {
    "slideshow": {
     "slide_type": "slide"
    }
   },
   "source": [
    "### Answer \n",
    "\n",
    "- No, $a$ and $b$ are not conditionally independent given the $c$.\n",
    "\n",
    "- Given $c$, $p(a, b \\mid c) \\begin{align} = \\frac{p(a, b, c)}{p(c)} = \\frac{p(a)p(b) p(c \\mid a, b)}{p(c)}\\end{align}$.\n",
    " - This in general does not factorize to $p(a \\mid c) p(b \\mid c)$.\n",
    "\n",
    "- Thus, we have $a \\not\\!\\perp\\!\\!\\!\\perp b \\mid c.$"
   ]
  },
  {
   "cell_type": "markdown",
   "metadata": {
    "slideshow": {
     "slide_type": "slide"
    }
   },
   "source": [
    "### Head-to-Head \n",
    "\n",
    "- Note that there is an ***undirected*** path from node $a$ to node $b$ via $c$. \n",
    "\n",
    "- Node $c$ is head-to-head with respect to this path (node c is at the head of both the edges.)\n",
    "\n",
    "- Thus, for a head-to-head connection, \n",
    " - $a$ and $b$ are ***independent***, but, \n",
    " - the conditioned node, $c$, *** unblocks *** the path from a to b and causes a and b to become ***dependent***."
   ]
  },
  {
   "cell_type": "markdown",
   "metadata": {
    "slideshow": {
     "slide_type": "slide"
    }
   },
   "source": [
    "### Battery, Fuel and Gauge Example\n",
    "\n",
    "- Consider three random variables: \n",
    "    - $B$ which represents the state of the battery that is either charged, $B = 1$, or flat, $B = 0$,\n",
    "    - $F$ which represents the state of the fuel tank that is either full, $F = 1$, or empty, $F = 0$, and,\n",
    "    - $G$ which represents the state of an electical fuel gauge which indicates either full, $G = 1$ or empty, $G = 0$. \n",
    "    \n",
    "- $B$ and $F$ are independent with priors: \n",
    " - $p(B = 1) = 0.9$\n",
    " - $p(F = 1) = 0.9$"
   ]
  },
  {
   "cell_type": "markdown",
   "metadata": {
    "slideshow": {
     "slide_type": "slide"
    }
   },
   "source": [
    "### Further Setup of the example\n",
    "\n",
    "Given the state of the fuel tank and the battery, the fuel gauge reads full with probabilities: \n",
    " - $p(G = 1 \\mid B = 1, F = 1) = 0.8$\n",
    " - $p(G = 1 \\mid B = 1, F = 0) = 0.2$\n",
    " - $p(G = 1 \\mid B = 0, F = 1) = 0.2$\n",
    " - $p(G = 1 \\mid B = 0, F = 0) = 0.1$"
   ]
  },
  {
   "cell_type": "markdown",
   "metadata": {
    "slideshow": {
     "slide_type": "slide"
    }
   },
   "source": [
    "### Analysis \n",
    "\n",
    "- Without any observations, the prior of the fuel tank being empty is given by $1 - P(F = 1) = 1 - 0.9 = 0.1$."
   ]
  },
  {
   "cell_type": "code",
   "execution_count": null,
   "metadata": {
    "collapsed": false,
    "slideshow": {
     "slide_type": "skip"
    }
   },
   "outputs": [],
   "source": [
    "%%capture\n",
    "pgm = daft.PGM([4, 4], origin=[0, 0])\n",
    "\n",
    "# Nodes\n",
    "pgm.add_node(daft.Node(\"G\", r\"$G$\", 2, 3.5, offset=(0, 20)))\n",
    "pgm.add_node(daft.Node(\"B\", r\"$B$\", 1.3, 2.5, offset=(0, 20)))\n",
    "pgm.add_node(daft.Node(\"F\", r\"$F$\", 2.7, 2.5, offset=(0, 20)))\n",
    "\n",
    "# Add in the edges.\n",
    "pgm.add_edge(\"B\", \"G\", head_length=0.08)\n",
    "pgm.add_edge(\"F\", \"G\", head_length=0.08)\n",
    "\n",
    "# Render and save.\n",
    "pgm.render()\n",
    "pgm.figure.savefig(os.path.join(image_dir, \"OutOfFuel1.png\"), dpi=1000)"
   ]
  },
  {
   "cell_type": "code",
   "execution_count": null,
   "metadata": {
    "collapsed": false
   },
   "outputs": [],
   "source": [
    "trim(Image.open(\"OutOfFuel1.png\"), 15)"
   ]
  },
  {
   "cell_type": "markdown",
   "metadata": {
    "slideshow": {
     "slide_type": "slide"
    }
   },
   "source": [
    "### Analysis\n",
    "- Now, suppose we observe $G = 0$. \n",
    " - $p(G = 0) = \\\\\n",
    " \\sum \\limits_{B \\in \\{0, 1\\}} \\sum \\limits_{F \\in \\{0, 1\\}} \n",
    " p(G = 0 \\mid B, F) p(B) p(F) = 0.315$\n",
    " \n",
    "(Try to verify this.)"
   ]
  },
  {
   "cell_type": "code",
   "execution_count": null,
   "metadata": {
    "collapsed": false,
    "slideshow": {
     "slide_type": "skip"
    }
   },
   "outputs": [],
   "source": [
    "%%capture\n",
    "pgm = daft.PGM([4, 4], origin=[0, 0])\n",
    "\n",
    "# Nodes\n",
    "pgm.add_node(daft.Node(\"G\", r\"$G$\", 2, 3.5, offset=(0, 20), observed=True))\n",
    "pgm.add_node(daft.Node(\"B\", r\"$B$\", 1.3, 2.5, offset=(0, 20)))\n",
    "pgm.add_node(daft.Node(\"F\", r\"$F$\", 2.7, 2.5, offset=(0, 20)))\n",
    "\n",
    "# Add in the edges.\n",
    "pgm.add_edge(\"B\", \"G\", head_length=0.08)\n",
    "pgm.add_edge(\"F\", \"G\", head_length=0.08)\n",
    "\n",
    "# Render and save.\n",
    "pgm.render()\n",
    "pgm.figure.savefig(os.path.join(image_dir, \"OutOfFuel2.png\"), dpi=1000)"
   ]
  },
  {
   "cell_type": "code",
   "execution_count": null,
   "metadata": {
    "collapsed": false
   },
   "outputs": [],
   "source": [
    "trim(Image.open(\"OutOfFuel2.png\"), 15)"
   ]
  },
  {
   "cell_type": "markdown",
   "metadata": {
    "slideshow": {
     "slide_type": "slide"
    }
   },
   "source": [
    "### Analysis\n",
    "\n",
    "- Now, we also have $p(G = 0 \\mid F = 0) = \\\\ \\sum \\limits_{B \\in \\{0, 1\\}} p(G = 0 \\mid B, F = 0) p(B) = 0.81.$ \n",
    "\n",
    "- So, by Bayes Rule, $p(F = 0 \\mid G = 0) = \\frac{p(G = 0 \\mid F = 0) p(F = 0)}{p(G = 0)} \\\\ \\approx 0.257 > p(F = 0) = 0.1$\n",
    "\n",
    "- Thus, observing the gauge reads empty makes it more likely that the tank is empty."
   ]
  },
  {
   "cell_type": "markdown",
   "metadata": {
    "slideshow": {
     "slide_type": "slide"
    }
   },
   "source": [
    "### Analysis\n",
    "\n",
    "- Now, suppose we also observe that the battery is flat, $B = 0$.\n",
    "\n",
    "- The posterior that the fuel tank is empty given this new observation is then $p(F = 0 \\mid G = 0, B = 0) = \\frac{p(G = 0 \\mid B = 0, F = 0) p(F = 0)}{\\sum_{F \\in \\{0, 1\\}} p(G = 0 \\mid B = 0, F) p(F)} \\approx 0.111$"
   ]
  },
  {
   "cell_type": "code",
   "execution_count": null,
   "metadata": {
    "collapsed": false,
    "slideshow": {
     "slide_type": "skip"
    }
   },
   "outputs": [],
   "source": [
    "%%capture\n",
    "pgm = daft.PGM([4, 4], origin=[0, 0])\n",
    "\n",
    "# Nodes\n",
    "pgm.add_node(daft.Node(\"G\", r\"$G$\", 2, 3.5, offset=(0, 20), observed=True))\n",
    "pgm.add_node(daft.Node(\"B\", r\"$B$\", 1.3, 2.5, offset=(0, 20), observed=True))\n",
    "pgm.add_node(daft.Node(\"F\", r\"$F$\", 2.7, 2.5, offset=(0, 20)))\n",
    "\n",
    "# Add in the edges.\n",
    "pgm.add_edge(\"B\", \"G\", head_length=0.08)\n",
    "pgm.add_edge(\"F\", \"G\", head_length=0.08)\n",
    "\n",
    "# Render and save.\n",
    "pgm.render()\n",
    "pgm.figure.savefig(os.path.join(image_dir, \"OutOfFuel3.png\"), dpi=1000)"
   ]
  },
  {
   "cell_type": "code",
   "execution_count": null,
   "metadata": {
    "collapsed": false
   },
   "outputs": [],
   "source": [
    "trim(Image.open(\"OutOfFuel3.png\"), 20)"
   ]
  },
  {
   "cell_type": "markdown",
   "metadata": {
    "slideshow": {
     "slide_type": "slide"
    }
   },
   "source": [
    "### \"Explanining Away\"\n",
    "\n",
    "- The probability that the tank is empty has now decreased from 0.257 to 0.111 as a result of oberving the state of the battery!\n",
    "\n",
    "- On the other hand (try to verify this as well), on observing that the battery is full, the posterior, $p(F = 0 \\mid G = 0, B = 1)$ increases to 0.308.\n",
    "\n",
    "- Observing B = 0 (battery is flat) explains away F = 0 (the fuel tank is empty). Therefore, B and F become dependent on each other as a result of observing G = 0."
   ]
  },
  {
   "cell_type": "markdown",
   "metadata": {
    "slideshow": {
     "slide_type": "slide"
    }
   },
   "source": [
    "### D-Separation\n",
    "\n",
    "- Method to determine whether any pair of sets $A$ and $B$ of variables are conditionally independent, given knowledge of values of variables in $C$.\n",
    "\n",
    "- Graphical model contains everything needed to infer conditional independence."
   ]
  },
  {
   "cell_type": "markdown",
   "metadata": {
    "slideshow": {
     "slide_type": "slide"
    }
   },
   "source": [
    "### D-Separation\n",
    "\n",
    "- Let $A$, $B$, and $C$ be ***mutually exclusive*** subsets of nodes in a Bayesian Network.\n",
    "- A path from $A$ to $B$ is blocked (when $C$ is observed) if it contains a node such that either: \n",
    " - The arrows on the path meet head-to-tail or tail-to-tail at the node, and the node is in set $C$, or\n",
    " - The arrows meet head-to-head at the node, and neither the node, nor *** any *** of its descendants, are in set $C$."
   ]
  },
  {
   "cell_type": "markdown",
   "metadata": {
    "slideshow": {
     "slide_type": "slide"
    }
   },
   "source": [
    "### D-Separation\n",
    "\n",
    "- If all paths from $A$ to $B$ are blocked,\n",
    " - $A$ is said to be d-separated from $B$ by $C$, and,\n",
    " - The joint distribution over all variables in the graph satsifies $A \\perp B \\mid C$."
   ]
  },
  {
   "cell_type": "code",
   "execution_count": null,
   "metadata": {
    "collapsed": false,
    "slideshow": {
     "slide_type": "skip"
    }
   },
   "outputs": [],
   "source": [
    "%%capture\n",
    "pgm = daft.PGM([5, 5], origin=[0, 0])\n",
    "\n",
    "# Nodes\n",
    "pgm.add_node(daft.Node(\"a\", r\"$a$\", 2, 3.5, offset=(0, 20)))\n",
    "pgm.add_node(daft.Node(\"b\", r\"$b$\", 3.5, 2.5, offset=(-20, 0)))\n",
    "pgm.add_node(daft.Node(\"c\", r\"$c$\", 2.5, 1.5, offset=(-20, 0), observed=True))\n",
    "pgm.add_node(daft.Node(\"e\", r\"$e$\", 2.5, 2.5, offset=(-20, 0)))\n",
    "pgm.add_node(daft.Node(\"f\", r\"$f$\", 3, 3.5, offset=(0, 20)))\n",
    "\n",
    "# Add in the edges.\n",
    "pgm.add_edge(\"a\", \"e\", head_length=0.08)\n",
    "pgm.add_edge(\"f\", \"e\", head_length=0.08)\n",
    "pgm.add_edge(\"e\", \"c\", head_length=0.08)\n",
    "pgm.add_edge(\"f\", \"b\", head_length=0.08)\n",
    "\n",
    "# Render and save.\n",
    "pgm.render()\n",
    "pgm.figure.savefig(os.path.join(image_dir, \"DSepExample-1.png\"), dpi=1000)"
   ]
  },
  {
   "cell_type": "code",
   "execution_count": null,
   "metadata": {
    "collapsed": false,
    "slideshow": {
     "slide_type": "slide"
    }
   },
   "outputs": [],
   "source": [
    "# Example\n",
    "# Question: Given c, are a and b conditionally independent?\n",
    "trim(Image.open(\"DSepExample-1.png\"), 20)"
   ]
  },
  {
   "cell_type": "markdown",
   "metadata": {
    "slideshow": {
     "slide_type": "slide"
    }
   },
   "source": [
    "### Answer \n",
    "\n",
    "- The path from $a$ to $b$ is not blocked by node $f$ as $f$ is a tail-to-tail node and it is not observed.\n",
    "- Furthermore, while $e$ is a head-to-head node with respect to the undirected path from $a$ to $b$, the path is not blocked by $e$ since $e$ has a descendant $c$ in the conditioning set.\n",
    "\n",
    "- Therefore, $a \\not \\perp b \\mid c$."
   ]
  },
  {
   "cell_type": "code",
   "execution_count": null,
   "metadata": {
    "collapsed": false,
    "slideshow": {
     "slide_type": "skip"
    }
   },
   "outputs": [],
   "source": [
    "%%capture\n",
    "pgm = daft.PGM([5, 5], origin=[0, 0])\n",
    "\n",
    "# Nodes\n",
    "pgm.add_node(daft.Node(\"a\", r\"$a$\", 2, 3.5, offset=(0, 20)))\n",
    "pgm.add_node(daft.Node(\"b\", r\"$b$\", 3.5, 2.5, offset=(-20, 0)))\n",
    "pgm.add_node(daft.Node(\"c\", r\"$c$\", 2.5, 1.5, offset=(-20, 0)))\n",
    "pgm.add_node(daft.Node(\"e\", r\"$e$\", 2.5, 2.5, offset=(-20, 0)))\n",
    "pgm.add_node(daft.Node(\"f\", r\"$f$\", 3, 3.5, offset=(0, 20), observed=True))\n",
    "\n",
    "# Add in the edges.\n",
    "pgm.add_edge(\"a\", \"e\", head_length=0.08)\n",
    "pgm.add_edge(\"f\", \"e\", head_length=0.08)\n",
    "pgm.add_edge(\"e\", \"c\", head_length=0.08)\n",
    "pgm.add_edge(\"f\", \"b\", head_length=0.08)\n",
    "\n",
    "# Render and save.\n",
    "pgm.render()\n",
    "pgm.figure.savefig(os.path.join(image_dir, \"DSepExample-2.png\"), dpi=1000)"
   ]
  },
  {
   "cell_type": "code",
   "execution_count": null,
   "metadata": {
    "collapsed": false,
    "slideshow": {
     "slide_type": "slide"
    }
   },
   "outputs": [],
   "source": [
    "# Example\n",
    "# Question: Given f, are a and b conditionally independent?\n",
    "trim(Image.open(\"DSepExample-2.png\"), 20)"
   ]
  },
  {
   "cell_type": "markdown",
   "metadata": {
    "slideshow": {
     "slide_type": "slide"
    }
   },
   "source": [
    "### Answer \n",
    "\n",
    "- The path from $a$ to $b$ is blocked by node $f$ as $f$ is a tail-to-tail node and it is observed.\n",
    "\n",
    "- Therefore, $a \\perp b \\mid f$.\n",
    "\n",
    "- Furthermore, the undirected path from $a$ to $b$ is blocked by $e$ because \n",
    " - $e$ is a head-to-head node, and,\n",
    " - Neither it nor any of its descendants (in this case only $c$) are in the conditioning set. \n",
    "\n",
    "- Thus, clearly, we again then have that $a \\perp b \\mid f$ "
   ]
  },
  {
   "cell_type": "markdown",
   "metadata": {
    "slideshow": {
     "slide_type": "slide"
    }
   },
   "source": [
    "### Parameters in D-Separation?\n",
    "\n",
    "- Recall that parameter nodes are the small filled nodes.\n",
    "\n",
    "- In D-Sepration, they behave in a similar manner to observed nodes.\n",
    "- There are no marginal distributions associated with such nodes, and therefore, parameter nodes never have parents and all paths through these will always be \n",
    " - Tail-to-tail, and hence,\n",
    " - Blocked.\n",
    "- Hence, parameters play no role in D-Separation."
   ]
  },
  {
   "cell_type": "markdown",
   "metadata": {
    "slideshow": {
     "slide_type": "slide"
    }
   },
   "source": [
    "### D-separation: I.I.D. Data"
   ]
  },
  {
   "cell_type": "code",
   "execution_count": null,
   "metadata": {
    "collapsed": false,
    "slideshow": {
     "slide_type": "skip"
    }
   },
   "outputs": [],
   "source": [
    "%%capture\n",
    "pgm = daft.PGM([4, 4], origin=[0, 0])\n",
    "\n",
    "# Nodes\n",
    "pgm.add_node(daft.Node(\"mu\", r\"$\\mu$\", 2, 3.5, offset=(0, 20)))\n",
    "pgm.add_node(daft.Node(\"x1\", r\"$x_1 . . . . . .$\", 1.3, 2.5, offset=(32, 0), observed=True))\n",
    "pgm.add_node(daft.Node(\"xN\", r\"$x_N$\", 2.7, 2.5, offset=(-21, 0), observed=True))\n",
    "\n",
    "# Add in the edges.\n",
    "pgm.add_edge(\"mu\", \"x1\", head_length=0.08)\n",
    "pgm.add_edge(\"mu\", \"xN\", head_length=0.08)\n",
    "\n",
    "# Render and save.\n",
    "pgm.render()\n",
    "pgm.figure.savefig(os.path.join(image_dir, \"IID.png\"), dpi=1000)"
   ]
  },
  {
   "cell_type": "code",
   "execution_count": null,
   "metadata": {
    "collapsed": false,
    "slideshow": {
     "slide_type": "-"
    }
   },
   "outputs": [],
   "source": [
    "trim(Image.open(\"IID.png\"), 15)"
   ]
  },
  {
   "cell_type": "markdown",
   "metadata": {
    "slideshow": {
     "slide_type": "-"
    }
   },
   "source": [
    "- Let us condition on $\\mu$ and consider the joint distribution of the observations, $\\mathcal{D} = \\{x_1 , · · · , x_N\\}$. \n",
    "- There is a unique path from any $x_i$ to any other $x_{j \\neq i}$.\n",
    " - This path is tail-to-tail w.r.t. $\\mu$.\n",
    " - Every such path is blocked and the observations are independent given $\\mu$: $p(\\mathcal{D} \\mid \\mu) = \\prod \\limits_{n = 1}^N p(x_n \\mid \\mu)$\n"
   ]
  },
  {
   "cell_type": "markdown",
   "metadata": {
    "slideshow": {
     "slide_type": "slide"
    }
   },
   "source": [
    "### D-Separation: I.I.D. Data\n",
    "\n",
    "- Now, integrating over $\\mu$ (taking $\\mu$ to be unobserved), the observations ($\\mathcal{D}$) are in general no longer independent: \n",
    " $$p(\\mathcal{D}) = \\int \\limits_{-\\infty}^{\\infty} p(\\mathcal{D} \\mid \\mu) p(\\mu) d\\mu \\neq \\prod \\limits_{n = 1}^N p(x_n)$$"
   ]
  },
  {
   "cell_type": "markdown",
   "metadata": {
    "slideshow": {
     "slide_type": "slide"
    }
   },
   "source": [
    "### Markov Blanket\n",
    "\n",
    "- Consider a joint distribution $p(\\mathbf{x}_1, ..., \\mathbf{x}_N)$ represented by a directed graph having $N$ nodes, and the conditional distribution of a node $\\mathbf{x}_i$ conditioned on all of the remaining variables $\\mathbf{x}_{j \\neq i}$.\n",
    "\n",
    "- Using factorization, we can express the conditional distribution in the form $$p(\\mathbf{x}_i \\mid \\mathbf{x}_{j \\neq i}) = \\frac{p(\\mathbf{x}_1, ..., \\mathbf{x}_N)}{\\int p(\\mathbf{x}_1, ..., \\mathbf{x}_N) d\\mathbf{x}_i} = \\frac{\\prod_k p(\\mathbf{x}_k \\mid {pa}_k)}{\\int \\prod_k p(\\mathbf{x}_k \\mid {pa}_k) d\\mathbf{x}_i}$$"
   ]
  },
  {
   "cell_type": "markdown",
   "metadata": {
    "slideshow": {
     "slide_type": "slide"
    }
   },
   "source": [
    "### Markov Blanket\n",
    "\n",
    "- Any factor $p(\\mathbf{x}_k \\mid {pa}_k)$ that does not have a function dependence on $\\mathbf{x}_i$ can be taken outside the intergral over $\\mathbf{x}_i$, and will cancel with the numerator.\n",
    "\n",
    "- Remaining factors will then be: \n",
    " - The conditional distribution $p(\\mathbf{x}_i \\mid {pa}_i)$ for node $\\mathbf{x}_i$ itself, and,\n",
    " - Conditional distributions for nodes $\\mathbf{x}_k$ such that $\\mathbf{x}_i \\in {pa}_k$"
   ]
  },
  {
   "cell_type": "markdown",
   "metadata": {
    "slideshow": {
     "slide_type": "slide"
    }
   },
   "source": [
    "### Markov Blanket\n",
    "\n",
    "- The conditional $p(\\mathbf{x}_i \\mid {pa}_i)$ depends on the parents of $\\mathbf{x}_i$.\n",
    "- The conditionals $p(\\mathbf{x}_k \\mid {pa}_k)$ depend on the children of $\\mathbf{x}_i$ as well as the co-parents.\n",
    "\n",
    "- Definition: The set of nodes comprising the parents, the children and the co-parents is called the\n",
    "Markov blanket\n",
    " - The minimal set of nodes that isolates $\\mathbf{x}_i$ from the rest of the graph. "
   ]
  },
  {
   "cell_type": "code",
   "execution_count": null,
   "metadata": {
    "collapsed": false,
    "slideshow": {
     "slide_type": "skip"
    }
   },
   "outputs": [],
   "source": [
    "%%capture\n",
    "# Instantiate the PGM.\n",
    "pgm = daft.PGM([6, 6], origin=[-1, -1])\n",
    "\n",
    "pgm.add_node(daft.Node(\"x2\", \"\", 1, 0, observed=True))\n",
    "pgm.add_node(daft.Node(\"x1\", \"\", 0, 1, observed=True))\n",
    "pgm.add_node(daft.Node(\"x3\", \"\", 1, 2, observed=True))\n",
    "pgm.add_node(daft.Node(\"xi\", r\"$\\mathbf{x}_i$\", 2, 1, offset=(0, 20)))\n",
    "pgm.add_node(daft.Node(\"x4\", \"\", 3, 0, observed=True))\n",
    "pgm.add_node(daft.Node(\"x6\", \"\", 4, 1, observed=True))\n",
    "pgm.add_node(daft.Node(\"x5\", \"\", 3, 2, observed=True))\n",
    "\n",
    "pgm.add_edge(\"x1\", \"x2\", head_length=0.08)\n",
    "pgm.add_edge(\"xi\", \"x2\", head_length=0.08)\n",
    "pgm.add_edge(\"x3\", \"xi\", head_length=0.08)\n",
    "pgm.add_edge(\"x5\", \"xi\", head_length=0.08)\n",
    "pgm.add_edge(\"xi\", \"x4\", head_length=0.08)\n",
    "pgm.add_edge(\"x6\", \"x4\", head_length=0.08)\n",
    "\n",
    "# Render and save.\n",
    "pgm.render()\n",
    "pgm.figure.savefig(os.path.join(image_dir, \"MarkovBlanket.png\"), dpi=1000)"
   ]
  },
  {
   "cell_type": "code",
   "execution_count": null,
   "metadata": {
    "collapsed": false
   },
   "outputs": [],
   "source": [
    "trim(Image.open(\"MarkovBlanket.png\"), 10)"
   ]
  },
  {
   "cell_type": "markdown",
   "metadata": {
    "slideshow": {
     "slide_type": "slide"
    }
   },
   "source": [
    "### Example Application of Bayesian Networks\n",
    "#### Medical Diagnosis\n",
    "\n",
    "- Findings: $\\mathbf{f}$\n",
    "- Diseases: $\\mathbf{d}$"
   ]
  },
  {
   "cell_type": "code",
   "execution_count": 1,
   "metadata": {
    "collapsed": false,
    "slideshow": {
     "slide_type": "skip"
    }
   },
   "outputs": [
    {
     "ename": "NameError",
     "evalue": "name 'daft' is not defined",
     "output_type": "error",
     "traceback": [
      "\u001b[1;31m---------------------------------------------------------------------------\u001b[0m",
      "\u001b[1;31mNameError\u001b[0m                                 Traceback (most recent call last)",
      "\u001b[1;32m<ipython-input-1-20f86f1ef657>\u001b[0m in \u001b[0;36m<module>\u001b[1;34m()\u001b[0m\n\u001b[1;32m----> 1\u001b[1;33m \u001b[0mpgm\u001b[0m \u001b[1;33m=\u001b[0m \u001b[0mdaft\u001b[0m\u001b[1;33m.\u001b[0m\u001b[0mPGM\u001b[0m\u001b[1;33m(\u001b[0m\u001b[1;33m[\u001b[0m\u001b[1;36m6\u001b[0m\u001b[1;33m,\u001b[0m \u001b[1;36m6\u001b[0m\u001b[1;33m]\u001b[0m\u001b[1;33m,\u001b[0m \u001b[0morigin\u001b[0m\u001b[1;33m=\u001b[0m\u001b[1;33m[\u001b[0m\u001b[1;36m0\u001b[0m\u001b[1;33m,\u001b[0m \u001b[1;36m0\u001b[0m\u001b[1;33m]\u001b[0m\u001b[1;33m)\u001b[0m\u001b[1;33m\u001b[0m\u001b[0m\n\u001b[0m\u001b[0;32m      2\u001b[0m \u001b[1;33m\u001b[0m\u001b[0m\n\u001b[0;32m      3\u001b[0m \u001b[1;31m# Nodes\u001b[0m\u001b[1;33m\u001b[0m\u001b[1;33m\u001b[0m\u001b[0m\n\u001b[0;32m      4\u001b[0m \u001b[0mpgm\u001b[0m\u001b[1;33m.\u001b[0m\u001b[0madd_node\u001b[0m\u001b[1;33m(\u001b[0m\u001b[0mdaft\u001b[0m\u001b[1;33m.\u001b[0m\u001b[0mNode\u001b[0m\u001b[1;33m(\u001b[0m\u001b[1;34m\"d1\"\u001b[0m\u001b[1;33m,\u001b[0m \u001b[1;34mr\"$d_1$\"\u001b[0m\u001b[1;33m,\u001b[0m \u001b[1;36m2\u001b[0m\u001b[1;33m,\u001b[0m \u001b[1;36m3.5\u001b[0m\u001b[1;33m,\u001b[0m \u001b[0moffset\u001b[0m\u001b[1;33m=\u001b[0m\u001b[1;33m(\u001b[0m\u001b[1;36m0\u001b[0m\u001b[1;33m,\u001b[0m \u001b[1;36m25\u001b[0m\u001b[1;33m)\u001b[0m\u001b[1;33m)\u001b[0m\u001b[1;33m)\u001b[0m\u001b[1;33m\u001b[0m\u001b[0m\n\u001b[0;32m      5\u001b[0m \u001b[0mpgm\u001b[0m\u001b[1;33m.\u001b[0m\u001b[0madd_node\u001b[0m\u001b[1;33m(\u001b[0m\u001b[0mdaft\u001b[0m\u001b[1;33m.\u001b[0m\u001b[0mNode\u001b[0m\u001b[1;33m(\u001b[0m\u001b[1;34m\"di\"\u001b[0m\u001b[1;33m,\u001b[0m \u001b[1;34mr\"\"\u001b[0m\u001b[1;33m,\u001b[0m \u001b[1;36m3\u001b[0m\u001b[1;33m,\u001b[0m \u001b[1;36m3.5\u001b[0m\u001b[1;33m)\u001b[0m\u001b[1;33m)\u001b[0m\u001b[1;33m\u001b[0m\u001b[0m\n",
      "\u001b[1;31mNameError\u001b[0m: name 'daft' is not defined"
     ]
    }
   ],
   "source": [
    "%%capture\n",
    "pgm = daft.PGM([6, 6], origin=[0, 0])\n",
    "\n",
    "# Nodes\n",
    "pgm.add_node(daft.Node(\"d1\", r\"$d_1$\", 2, 3.5, offset=(0, 25)))\n",
    "pgm.add_node(daft.Node(\"di\", r\"\", 3, 3.5))\n",
    "pgm.add_node(daft.Node(\"dn\", r\"$d_n$\", 4, 3.5, offset=(0, 25)))\n",
    "\n",
    "pgm.add_node(daft.Node(\"f1\", r\"$f_1$\", 1, 2.5, offset=(0, -25)))\n",
    "pgm.add_node(daft.Node(\"fi-1\", r\"\", 2, 2.5))\n",
    "pgm.add_node(daft.Node(\"fi\", r\"\", 3, 2.5))\n",
    "pgm.add_node(daft.Node(\"fi+1\", r\"\", 4, 2.5))\n",
    "pgm.add_node(daft.Node(\"fm\", r\"$f_m$\", 5, 2.5, offset=(0, -25)))\n",
    "\n",
    "\n",
    "# Add in the edges.\n",
    "pgm.add_edge(\"d1\", \"f1\", head_length=0.08)\n",
    "pgm.add_edge(\"d1\", \"fi-1\", head_length=0.08)\n",
    "pgm.add_edge(\"d1\", \"fi\", head_length=0.08)\n",
    "pgm.add_edge(\"d1\", \"fi+1\", head_length=0.08)\n",
    "pgm.add_edge(\"d1\", \"fm\", head_length=0.08)\n",
    "\n",
    "pgm.add_edge(\"di\", \"f1\", head_length=0.08)\n",
    "pgm.add_edge(\"di\", \"fi-1\", head_length=0.08)\n",
    "pgm.add_edge(\"di\", \"fi\", head_length=0.08)\n",
    "pgm.add_edge(\"di\", \"fi+1\", head_length=0.08)\n",
    "pgm.add_edge(\"di\", \"fm\", head_length=0.08)\n",
    "\n",
    "pgm.add_edge(\"dn\", \"f1\", head_length=0.08)\n",
    "pgm.add_edge(\"dn\", \"fi-1\", head_length=0.08)\n",
    "pgm.add_edge(\"dn\", \"fi\", head_length=0.08)\n",
    "pgm.add_edge(\"dn\", \"fi+1\", head_length=0.08)\n",
    "pgm.add_edge(\"dn\", \"fm\", head_length=0.08)\n",
    "\n",
    "# Render and save.\n",
    "pgm.render()\n",
    "pgm.figure.savefig(os.path.join(image_dir, \"DiagnosisExample.png\"), dpi=1000)"
   ]
  },
  {
   "cell_type": "code",
   "execution_count": null,
   "metadata": {
    "collapsed": false,
    "scrolled": true
   },
   "outputs": [],
   "source": [
    "trim(Image.open(\"DiagnosisExample.png\"), 15)"
   ]
  },
  {
   "cell_type": "markdown",
   "metadata": {
    "slideshow": {
     "slide_type": "slide"
    }
   },
   "source": [
    "### Medical Diagnosis\n",
    "\n",
    "- Joint distribution factors as: $p(\\mathbf{f}, \\mathbf{d}) = \\prod_j p(d_j) \\prod_i p(f_i \\mid \\mathbf{d})$\n",
    "- Model assumes: $d_i \\perp d_j$ and $f_i \\perp f_j \\mid \\mathbf{d}$"
   ]
  },
  {
   "cell_type": "markdown",
   "metadata": {
    "slideshow": {
     "slide_type": "slide"
    }
   },
   "source": [
    "### Medical Diagnosis\n",
    "\n",
    "- Problem: Common findings can be caused by many diseases.\n",
    " - Too many parameters needed to specify the Conditional Probability Distribution of $p(f_i \\mid \\mathbf{d})$.\n",
    " \n",
    "- Parametrization: Use Noisy-OR\n",
    " - $p(f_i = 0 \\mid \\mathbf{d}) = (1 - q_{i0}) \\prod \\limits_{j \\in {pa}_i} (1 - q_{ij})^d_j$ where $q_{ij}$ represents the \"independent failure probability\" of witnessing disease $d_j$ without finding $f_i$."
   ]
  },
  {
   "cell_type": "markdown",
   "metadata": {
    "slideshow": {
     "slide_type": "slide"
    }
   },
   "source": [
    "### Example Application of Bayesian Networks\n",
    "#### Hidden Markov Model \n",
    "\n",
    "- Frequently used for speech recognition and part-of-speech tagging."
   ]
  },
  {
   "cell_type": "code",
   "execution_count": null,
   "metadata": {
    "collapsed": false,
    "slideshow": {
     "slide_type": "skip"
    }
   },
   "outputs": [],
   "source": [
    "%%capture\n",
    "pgm = daft.PGM([7, 7], origin=[0, 0])\n",
    "\n",
    "# Nodes\n",
    "pgm.add_node(daft.Node(\"Y1\", r\"$Y_1$\", 1, 3.5, offset=(0, 25)))\n",
    "pgm.add_node(daft.Node(\"Y2\", r\"$Y_2$\", 2, 3.5, offset=(0, 25)))\n",
    "pgm.add_node(daft.Node(\"Y3\", r\"$Y_3$\", 3, 3.5, offset=(0, 25)))\n",
    "pgm.add_node(daft.Node(\"Y4\", r\"$Y_4$\", 4, 3.5, offset=(0, 25)))\n",
    "pgm.add_node(daft.Node(\"Y5\", r\"$Y_5$\", 5, 3.5, offset=(0, 25)))\n",
    "pgm.add_node(daft.Node(\"Y6\", r\"$Y_6$\", 6, 3.5, offset=(0, 25)))\n",
    "\n",
    "pgm.add_node(daft.Node(\"x1\", r\"$x_1$\", 1, 2.5, offset=(0, -25), observed=True))\n",
    "pgm.add_node(daft.Node(\"x2\", r\"$x_2$\", 2, 2.5, offset=(0, -25), observed=True))\n",
    "pgm.add_node(daft.Node(\"x3\", r\"$x_3$\", 3, 2.5, offset=(0, -25), observed=True))\n",
    "pgm.add_node(daft.Node(\"x4\", r\"$x_4$\", 4, 2.5, offset=(0, -25), observed=True))\n",
    "pgm.add_node(daft.Node(\"x5\", r\"$x_5$\", 5, 2.5, offset=(0, -25), observed=True))\n",
    "pgm.add_node(daft.Node(\"x6\", r\"$x_6$\", 6, 2.5, offset=(0, -25), observed=True))\n",
    "\n",
    "\n",
    "# Add in the edges.\n",
    "pgm.add_edge(\"Y1\", \"Y2\", head_length=0.08)\n",
    "pgm.add_edge(\"Y2\", \"Y3\", head_length=0.08)\n",
    "pgm.add_edge(\"Y3\", \"Y4\", head_length=0.08)\n",
    "pgm.add_edge(\"Y4\", \"Y5\", head_length=0.08)\n",
    "pgm.add_edge(\"Y5\", \"Y6\", head_length=0.08)\n",
    "\n",
    "pgm.add_edge(\"Y1\", \"x1\", head_length=0.08)\n",
    "pgm.add_edge(\"Y2\", \"x2\", head_length=0.08)\n",
    "pgm.add_edge(\"Y3\", \"x3\", head_length=0.08)\n",
    "pgm.add_edge(\"Y4\", \"x4\", head_length=0.08)\n",
    "pgm.add_edge(\"Y5\", \"x5\", head_length=0.08)\n",
    "pgm.add_edge(\"Y6\", \"x6\", head_length=0.08)\n",
    "\n",
    "# Render and save.\n",
    "pgm.render()\n",
    "pgm.figure.savefig(os.path.join(image_dir, \"HMM.png\"), dpi=1000)"
   ]
  },
  {
   "cell_type": "code",
   "execution_count": null,
   "metadata": {
    "collapsed": false
   },
   "outputs": [],
   "source": [
    "trim(Image.open(\"HMM.png\"), 15)"
   ]
  },
  {
   "cell_type": "markdown",
   "metadata": {
    "slideshow": {
     "slide_type": "slide"
    }
   },
   "source": [
    "### Hidden Markov Model \n",
    "\n",
    "- Joint Distribution factors as: $p(\\mathbf{y}, \\mathbf{x}) = p(y_1)p(x_1 \\mid y_1) \\prod \\limits_{t = 2}^T p(y_t \\mid y_{t - 1})p(x_t \\mid y_t) $ where \n",
    " - $p(y_1)$ is the distribution of the starting state, \n",
    " - $p(y_t \\mid y_{t - i})$ is the *** transition probability *** between states $y_{t - 1}$ and $y_t$, and,\n",
    " - $p(x_t \\mid y_t)$ is the *** observation *** or *** emission *** probability."
   ]
  },
  {
   "cell_type": "markdown",
   "metadata": {
    "slideshow": {
     "slide_type": "slide"
    }
   },
   "source": [
    "### Hidden Markov Model\n",
    " \n",
    "- *** Markov Assumption ***\n",
    " - $Y_{i + 1} \\perp \\{Y_1, ..., Y_i-1\\} \\mid Y_i $ or $ Y_{i - 1} \\perp \\{Y_{i + 1}, ..., Y_T\\} \\mid Y_i$\n",
    " - \"The future is independent of the past given on the present.\""
   ]
  }
 ],
 "metadata": {
  "celltoolbar": "Slideshow",
  "kernelspec": {
   "display_name": "Python 3",
   "language": "python",
   "name": "python3"
  },
  "language_info": {
   "codemirror_mode": {
    "name": "ipython",
    "version": 3
   },
   "file_extension": ".py",
   "mimetype": "text/x-python",
   "name": "python",
   "nbconvert_exporter": "python",
   "pygments_lexer": "ipython3",
   "version": "3.5.1"
  }
 },
 "nbformat": 4,
 "nbformat_minor": 0
}
