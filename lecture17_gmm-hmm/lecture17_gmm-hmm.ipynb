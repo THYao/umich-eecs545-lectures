{
 "cells": [
  {
   "cell_type": "markdown",
   "metadata": {
    "slideshow": {
     "slide_type": "skip"
    }
   },
   "source": [
    "$$ \\LaTeX \\text{ command declarations here.}\n",
    "\\newcommand{\\R}{\\mathbb{R}}\n",
    "\\renewcommand{\\vec}[1]{\\mathbf{#1}}\n",
    "\\newcommand{\\X}{\\mathcal{X}}\n",
    "\\newcommand{\\D}{\\mathcal{D}}\n",
    "\\newcommand{\\G}{\\mathcal{G}}\n",
    "\\newcommand{\\L}{\\mathcal{L}}\n",
    "\\newcommand{\\X}{\\mathcal{X}}\n",
    "\\newcommand{\\Parents}{\\mathrm{Parents}}\n",
    "\\newcommand{\\NonDesc}{\\mathrm{NonDesc}}\n",
    "\\newcommand{\\I}{\\mathcal{I}}\n",
    "\\newcommand{\\dsep}{\\text{d-sep}}\n",
    "\\newcommand{\\Cat}{\\mathrm{Categorical}}\n",
    "\\newcommand{\\Bin}{\\mathrm{Binomial}}\n",
    "$$"
   ]
  },
  {
   "cell_type": "code",
   "execution_count": 10,
   "metadata": {
    "collapsed": false,
    "slideshow": {
     "slide_type": "skip"
    }
   },
   "outputs": [],
   "source": [
    "from __future__ import division\n",
    "\n",
    "# scientific\n",
    "%matplotlib inline\n",
    "from matplotlib import pyplot as plt;\n",
    "import matplotlib as mpl;\n",
    "import numpy as np;\n",
    "import sklearn as skl;\n",
    "import sklearn.datasets;\n",
    "import sklearn.cluster;\n",
    "import sklearn.mixture;\n",
    "\n",
    "# ipython\n",
    "import IPython;\n",
    "\n",
    "# python\n",
    "import os;\n",
    "import random;\n",
    "\n",
    "#####################################################\n",
    "\n",
    "# image processing\n",
    "import PIL;\n",
    "\n",
    "# trim and scale images\n",
    "def trim(im, percent=100):\n",
    "    print(\"trim:\", percent);\n",
    "    bg = PIL.Image.new(im.mode, im.size, im.getpixel((0,0)))\n",
    "    diff = PIL.ImageChops.difference(im, bg)\n",
    "    diff = PIL.ImageChops.add(diff, diff, 2.0, -100)\n",
    "    bbox = diff.getbbox()\n",
    "    if bbox:\n",
    "        x = im.crop(bbox)\n",
    "        return x.resize(((x.size[0]*percent)//100, \n",
    "                         (x.size[1]*percent)//100), PIL.Image.ANTIALIAS);\n",
    "\n",
    "\n",
    "#####################################################\n",
    "\n",
    "# daft (rendering PGMs)\n",
    "import daft;\n",
    "\n",
    "# set to FALSE to load PGMs from static images\n",
    "RENDER_PGMS = True;\n",
    "\n",
    "# decorator for pgm rendering\n",
    "def pgm_render(pgm_func):\n",
    "    def render_func(path, percent=100, render=None, *args, **kwargs):\n",
    "        print(\"render_func:\", percent);\n",
    "        # render\n",
    "        render = render if (render is not None) else RENDER_PGMS;\n",
    "        \n",
    "        if render:\n",
    "            print(\"rendering\");\n",
    "            # render\n",
    "            pgm = pgm_func(*args, **kwargs);\n",
    "            pgm.render();\n",
    "            pgm.figure.savefig(path, dpi=300);\n",
    "            \n",
    "            # trim\n",
    "            img = trim(PIL.Image.open(path), percent);\n",
    "            img.save(path, 'PNG');\n",
    "        else:\n",
    "            print(\"not rendering\");\n",
    "        \n",
    "        # error\n",
    "        if not os.path.isfile(path):\n",
    "            raise Exception(\"Error:  Graphical model image %s not found.\\\n",
    "                You may need to set RENDER_PGMS=True.\" % path);\n",
    "        \n",
    "        # display\n",
    "        return IPython.display.Image(filename=path);\n",
    "        \n",
    "    return render_func;\n",
    "\n",
    "######################################################"
   ]
  },
  {
   "cell_type": "markdown",
   "metadata": {
    "slideshow": {
     "slide_type": "slide"
    }
   },
   "source": [
    "# EECS 545:  Machine Learning\n",
    "\n",
    "## Lecture 17:  GMMs & Hidden Markov Models\n",
    "\n",
    "- Instructor:  **Jacob Abernethy**\n",
    "- Date:  March 21, 2016\n",
    "\n",
    "*Lecture Exposition:*  Benjamin Bray"
   ]
  },
  {
   "cell_type": "markdown",
   "metadata": {
    "slideshow": {
     "slide_type": "slide"
    }
   },
   "source": [
    "# Gaussian Mixture Models\n",
    "\n",
    "> (Left over from last time!)"
   ]
  },
  {
   "cell_type": "markdown",
   "metadata": {
    "slideshow": {
     "slide_type": "slide"
    }
   },
   "source": [
    "### Gaussian Mixture Models:  Specification\n",
    "\n",
    "Recall from earlier the **Gaussian Mixture Model**:\n",
    "$$\n",
    "\\begin{align}\n",
    "\\theta &= (\\vec\\pi, \\vec\\mu, \\vec\\Sigma) && \\text{model parameters} \\\\\n",
    "z_n &\\sim \\Cat[\\pi]  && \\text{cluster indicators} \\\\\n",
    "x_n | z_n, \\theta &\\sim \\mathcal{N}(\\mu_{z_n}, \\Sigma_{z_n}) && \\text{base distribution}\n",
    "\\end{align}\n",
    "$$"
   ]
  },
  {
   "cell_type": "markdown",
   "metadata": {
    "slideshow": {
     "slide_type": "slide"
    }
   },
   "source": [
    "### GMM:  Complete Log Likelihood\n",
    "\n",
    "The complete data log-likelihood for a single datapoint $(x_n, z_n)$ is\n",
    "$$\n",
    "\\begin{align}\n",
    "\\log p(x_n, z_n | \\theta)\n",
    "&= \\log \\prod_{k=1}^K \\pi_k \\mathcal{N}(x_n \\mid \\mu_k, \\Sigma_k)^{\\mathbb{I}(z_n = k)} \\\\\n",
    "&= \\sum_{k=1}^K \\mathbb{I}(z_n = k) \\log \\pi_k \\mathcal{N}(x_n \\mid \\mu_k, \\Sigma_k)\n",
    "\\end{align}\n",
    "$$"
   ]
  },
  {
   "cell_type": "markdown",
   "metadata": {
    "slideshow": {
     "slide_type": "slide"
    }
   },
   "source": [
    "### GMM:  Hidden Posterior\n",
    "\n",
    "The hidden posterior for a single point $(x_n, z_n)$ can be found using Bayes' rule:\n",
    "$$\n",
    "\\begin{align}\n",
    "p(z_n = k | x_n, \\theta)\n",
    "&= \\frac{P(z_n=k | \\theta) p(x_n | z_n=k, \\theta)}{p(x_N | \\theta)} \\\\\n",
    "&= \\frac{\\pi_k \\mathcal{N}(x_n | \\mu_k, \\Sigma_k)}{\\sum_{k'=1}^K \\pi_{k'} \\mathcal{N}(x_n | \\mu_{k'}, \\Sigma_{k'})}\n",
    "\\end{align}\n",
    "$$"
   ]
  },
  {
   "cell_type": "markdown",
   "metadata": {
    "slideshow": {
     "slide_type": "slide"
    }
   },
   "source": [
    "### GMM: Visual example\n",
    "<img src=\"images/sample_gmm.png\"/>"
   ]
  },
  {
   "cell_type": "markdown",
   "metadata": {
    "slideshow": {
     "slide_type": "slide"
    }
   },
   "source": [
    "### GMM:  E-Step\n",
    "\n",
    "The **expected complete likelihood** is\n",
    "$$\n",
    "\\begin{align}\n",
    "E_q[ \\log p(\\X,Z|\\theta)]\n",
    "&= \\sum_{n=1}^N \\sum_{k=1}^K \n",
    "        E_q\\big[ \\mathbb{I}(z_n = k) \\big] \n",
    "        \\log \\pi_k \\mathcal{N}(x_n \\mid \\mu_k, \\Sigma_k) \\\\\n",
    "&= \\sum_{n=1}^N \\sum_{k=1}^K \n",
    "        r_{nk} \\log \\pi_k\n",
    " + \\sum_{n=1}^N \\sum_{k=1}^K \n",
    "        r_{nk} \\log \\mathcal{N}(x_n \\mid \\mu_k, \\Sigma_k)\n",
    "\\end{align}\n",
    "$$\n",
    "\n",
    "where $r_{nk} \\equiv p(z_n = k \\mid x_n,\\theta_t)$ is the **responsibility** that cluster $k$ takes for datapoint $x_n$ after step $t$."
   ]
  },
  {
   "cell_type": "markdown",
   "metadata": {
    "slideshow": {
     "slide_type": "slide"
    }
   },
   "source": [
    "### GMM:  M-Step\n",
    "\n",
    "During the M-Step, we optimize the lower bound with respect to $\\theta=(\\pi,\\mu,\\Sigma)$.  Verify that the correct updates are\n",
    "$$\n",
    "\\begin{gather}\n",
    "\\pi_k = \\frac{1}{N} \\sum_{n=1}^N r_{nk} = \\frac{r_k}{N}\n",
    "\\quad\n",
    "\\mu_k = \\frac{\\sum_{n=1}^N r_{nk} x_n}{r_k}\n",
    "\\\\\n",
    "\\Sigma_k = \\frac{\\sum_{n=1}^N r_{nk} x_n x_n^T}{r_k} - \\mu_k \\mu_k^T\n",
    "\\end{gather}\n",
    "$$\n",
    "\n",
    "where $r_k = \\sum_{n=1}^N r_{nk}$ is the *effective* sample size for cluster $k$."
   ]
  },
  {
   "cell_type": "markdown",
   "metadata": {
    "slideshow": {
     "slide_type": "slide"
    }
   },
   "source": [
    "# Markov Models\n",
    "\n",
    "> Uses material from **[MLAPP]**"
   ]
  },
  {
   "cell_type": "markdown",
   "metadata": {
    "slideshow": {
     "slide_type": "slide"
    }
   },
   "source": [
    "### Sequential Data\n",
    "\n",
    "Some data has intrinsic sequential structure\n",
    "- **Time Series:** Speech, EKGs, stock market, robot sensors, etc.\n",
    "- **Spatial Data:** DNA, natural language, etc.\n",
    "\n",
    "We could treat data points as iid samples\n",
    "- e.g. \"bag of words\" assumption for spam classification\n",
    "- But this is false!  We are ignoring valuable constraints in the data."
   ]
  },
  {
   "cell_type": "markdown",
   "metadata": {
    "slideshow": {
     "slide_type": "slide"
    }
   },
   "source": [
    "### Markov Models\n",
    "\n",
    "A **Markov chain** is a series of random variables $X_1, \\dots, X_N$ satisfying the *Markov property*:\n",
    "> The future is independent of the past, given the present.\n",
    "    $$\n",
    "    p(x_n | x_1, \\dots, x_{n-1}) = p(x_n | x_{n-1})\n",
    "    $$\n",
    "    \n",
    "A chain is **stationary** if the transition probabilities do not change with time."
   ]
  },
  {
   "cell_type": "markdown",
   "metadata": {
    "slideshow": {
     "slide_type": "slide"
    }
   },
   "source": [
    "### Example:  [Random Shakespeare](http://www.cs.princeton.edu/courses/archive/spr05/cos126/assignments/markov.html)\n",
    "\n",
    "```\n",
    "DUKE SENIOR\tNow, my co-mates and thus bolden'd, man, how now, monsieur Jaques,\n",
    "\tUnclaim'd of his absence, as the holly!\n",
    "\tThough in the slightest for the fashion of his absence, as the only wear.\n",
    "\n",
    "TOUCHSTONE\tI care not for meed!\n",
    "\tThis I must woo yours: your request than your father: the time,\n",
    "\tThat ever love I broke\n",
    "\tmy sword upon some kind of men\n",
    "\tThen, heigh-ho! sing, heigh-ho! sing, heigh-ho! sing, heigh-ho! unto the needless stream;\n",
    "\t'Poor deer,' quoth he,\n",
    "\t'Call me not so keen,\n",
    "\tBecause thou the creeping hours of the sun,\n",
    "\tAs man's feasts and women merely players:\n",
    "\tThus we may rest ourselves and neglect the cottage, pasture?\n",
    "\n",
    "[Exit]\n",
    "```"
   ]
  },
  {
   "cell_type": "markdown",
   "metadata": {
    "slideshow": {
     "slide_type": "slide"
    }
   },
   "source": [
    "### Markov Models:  PGM"
   ]
  },
  {
   "cell_type": "code",
   "execution_count": 5,
   "metadata": {
    "collapsed": true,
    "slideshow": {
     "slide_type": "skip"
    }
   },
   "outputs": [],
   "source": [
    "@pgm_render\n",
    "def pgm_markov_chain():\n",
    "    pgm = daft.PGM([6, 6], origin=[0, 0])\n",
    "\n",
    "    # Nodes\n",
    "    pgm.add_node(daft.Node(\"x1\", r\"$X_n$\", 2, 2.5))\n",
    "    pgm.add_node(daft.Node(\"x2\", r\"$X_2$\", 3, 2.5))\n",
    "    pgm.add_node(daft.Node(\"ellipsis\", r\" . . . \", 3.7, 2.5, \n",
    "                           offset=(0, 0), plot_params={\"ec\" : \"none\"}))\n",
    "    pgm.add_node(daft.Node(\"ellipsis_end\", r\"\", 3.7, 2.5, \n",
    "                           offset=(0, 0), plot_params={\"ec\" : \"none\"}))\n",
    "    pgm.add_node(daft.Node(\"xN\", r\"$X_N$\", 4.5, 2.5))\n",
    "\n",
    "    # Add in the edges.\n",
    "    pgm.add_edge(\"x1\", \"x2\", head_length=0.08)\n",
    "    pgm.add_edge(\"x2\", \"ellipsis\", head_length=0.08)\n",
    "    pgm.add_edge(\"ellipsis_end\", \"xN\", head_length=0.08)\n",
    "    \n",
    "    return pgm;"
   ]
  },
  {
   "cell_type": "code",
   "execution_count": 6,
   "metadata": {
    "collapsed": false,
    "slideshow": {
     "slide_type": "-"
    }
   },
   "outputs": [
    {
     "data": {
      "image/png": "[encoded data removed]",
      "text/plain": [
       "<IPython.core.display.Image object>"
      ]
     },
     "execution_count": 6,
     "metadata": {},
     "output_type": "execute_result"
    }
   ],
   "source": [
    "%%capture\n",
    "pgm_markov_chain(\"images/pgm/markov-chain.png\")"
   ]
  },
  {
   "cell_type": "markdown",
   "metadata": {
    "slideshow": {
     "slide_type": "slide"
    }
   },
   "source": [
    "### Markov Models:  Joint Distribution\n",
    "\n",
    "If a sequence has the Markov property, then the joint distribution factorizes according to\n",
    "    $$\n",
    "    p(x_1, \\dots, x_N) = p(x_1) \\prod_{n=2}^N p(x_n | x_{n-1})\n",
    "    $$"
   ]
  },
  {
   "cell_type": "markdown",
   "metadata": {
    "slideshow": {
     "slide_type": "slide"
    }
   },
   "source": [
    "### Example: Language Modeling\n",
    "\n",
    "One important application is statistical **language models**.\n",
    "- Bag-of-words assumption is inadequate\n",
    "- Assume each word $X_t$ depends on the previous $n$ words\n",
    "\n",
    "Can model longer-range dependencies\n",
    "<table border=0px>\n",
    "  <tr>\n",
    "    <td>\n",
    "*Zero-Order:* $P(X_t)$ <br>\n",
    "*First-Order:* $P(X_t | X_{t-1})$<br>\n",
    "*Second-Order:* $P(X_t | X_{t-1}, X_{t-2})$\n",
    "    </td> \n",
    "    <td>\n",
    "    <img src=\"images/2ndorder_markov.png\" width=400px></td>\n",
    "  </tr>\n",
    "</table>\n",
    "\n",
    "One we've learned an $n$th order Markov chain, we can use it to generate text!"
   ]
  },
  {
   "cell_type": "markdown",
   "metadata": {
    "slideshow": {
     "slide_type": "slide"
    }
   },
   "source": [
    "### Example:  [Garkov Chain](http://joshmillard.com/garkov/)\n",
    "\n",
    "<img src=\"images/garkov-1.png\">\n",
    "<img src=\"images/garkov-2.png\">"
   ]
  },
  {
   "cell_type": "markdown",
   "metadata": {
    "slideshow": {
     "slide_type": "slide"
    }
   },
   "source": [
    "### Markov Models:  Transition Matrix\n",
    "\n",
    "Suppose $X_t \\in \\{1,\\dots,K\\}$ is discrete.  Then, a stationary chain with $N$ states can be described by a **transition matrix**, $A \\in \\R^{N \\times N}$ where\n",
    "    $$\n",
    "    a_{ij} = p(X_t=j \\mid X_{t-1}=i)\n",
    "    $$\n",
    "\n",
    "is the probability of transitioning from state $i$ to $j$.\n",
    "\n",
    "> Each row sums to one, $\\sum_{j=1}^K A_{ij} = 1$, so $A$ is a *row-stochastic matrix*."
   ]
  },
  {
   "cell_type": "markdown",
   "metadata": {
    "slideshow": {
     "slide_type": "slide"
    }
   },
   "source": [
    "### Markov Models:  Transition Diagram\n",
    "\n",
    "Transitions between states can be represented as a graph:\n",
    "\n",
    "<img src=\"images/murphy-fig174-markov.png\">\n",
    "\n",
    "> This is *not* a Bayesian network!\n",
    "\n",
    "<span style=\"color:gray; font-size:10px; float:right\">(Figure 17.4b from **[MLAPP]**)</span>"
   ]
  },
  {
   "cell_type": "markdown",
   "metadata": {
    "slideshow": {
     "slide_type": "slide"
    }
   },
   "source": [
    "### Markov Models:  State Vectors\n",
    "\n",
    "Consider a row vector $x_t \\in \\R^{K \\times 1}$ with entries $x_{tj} = p(X_t = j)$.  Then,\n",
    "    $$\n",
    "    \\begin{align}\n",
    "    p(X_t = j)\n",
    "    &= \\sum_{i=1}^K p(X_t = j \\mid X_{t-1} = i) p(X_{t-1} = i) \\\\\n",
    "    &= \\sum_{i=1}^K A_{ij} x_{t-1,i} \\\\\n",
    "    \\end{align}\n",
    "    $$\n",
    "Therefore, we conclude $x_t = x_{t-1} A$.  Note $\\sum_{j=1}^K x_{tj} = 1$."
   ]
  },
  {
   "cell_type": "markdown",
   "metadata": {
    "slideshow": {
     "slide_type": "slide"
    }
   },
   "source": [
    "### Markov Models:  Matrix Powers\n",
    "\n",
    "Since $x_t = x_{t-1} A$, this suggests that in general,\n",
    "    $$\n",
    "    x_{t} = x_{t-1} A = x_{t-2} A^2 = \\cdots x_{0} A^t\n",
    "    $$\n",
    "If we know the initial state probabilities $x_0$, we can find the probabilities of landing in any state at time $t > 0$."
   ]
  },
  {
   "cell_type": "markdown",
   "metadata": {
    "slideshow": {
     "slide_type": "slide"
    }
   },
   "source": [
    "### Example:  Weather\n",
    "\n",
    "Suppose the weather is either $R=\\text{Rainy}$ or $S=\\text{Sunny}$,\n",
    "    $$\n",
    "    A = \\begin{bmatrix}\n",
    "        0.9 & 0.1 \\\\\n",
    "        0.5 & 0.5\n",
    "    \\end{bmatrix}\n",
    "    $$\n",
    "\n",
    "<img src=\"images/markov-chain-weather.png\">\n",
    "\n",
    "<span style=\"color:gray; font-size:10px; float:right\">(Taken from [Wikipedia](https://en.wikipedia.org/wiki/Examples_of_Markov_chains#A_very_simple_weather_model))</span>"
   ]
  },
  {
   "cell_type": "markdown",
   "metadata": {
    "slideshow": {
     "slide_type": "slide"
    }
   },
   "source": [
    "### Example:  Weather\n",
    "\n",
    "Suppose today is sunny, $x_0 = \\begin{bmatrix} 1 & 0 \\end{bmatrix}$.  We can predict tomorrow's weather,\n",
    "    $$\n",
    "    x_1 = x_0 A = \\begin{bmatrix} 0.9 & 0.1 \\end{bmatrix}\n",
    "    $$\n",
    "The weather over the next several days will be\n",
    "    $$\n",
    "    \\begin{align}\n",
    "    x_2 &= x_1 A = \\begin{bmatrix} 0.86 & 0.14 \\end{bmatrix} \\\\\n",
    "    x_3 &= x_2 A = \\begin{bmatrix} 0.844 & 0.156 \\end{bmatrix} \\\\\n",
    "    x_4 &= x_3 A = \\begin{bmatrix} 0.8376 & 0.1624 \\end{bmatrix}\n",
    "    \\end{align}\n",
    "    $$\n",
    "\n",
    "> **Question:** What happens to $x_0 A^n$ as $n \\rightarrow \\infty$?"
   ]
  },
  {
   "cell_type": "markdown",
   "metadata": {
    "slideshow": {
     "slide_type": "slide"
    }
   },
   "source": [
    "### Markov Chains:  Stationary Distribution\n",
    "\n",
    "If we ever reach a stage $x$ where\n",
    "    $$\n",
    "    x = xA\n",
    "    $$\n",
    "then we have reached the **stationary distribution** of the chain.\n",
    "- To find $x=v^T$, solve the eigenvalue problem $A^T v = v$\n",
    "- Under certain conditions, the limiting distribution $\\lim_{n \\rightarrow \\infty} x_0 A^n = x$\n",
    "- Stationary distribution $x$ does not depend on the starting state $x_0$"
   ]
  },
  {
   "cell_type": "markdown",
   "metadata": {
    "slideshow": {
     "slide_type": "slide"
    }
   },
   "source": [
    "## Break time!\n",
    "![](images/garfield_dancing.gif)"
   ]
  },
  {
   "cell_type": "markdown",
   "metadata": {
    "slideshow": {
     "slide_type": "slide"
    }
   },
   "source": [
    "# Hidden Markov Models\n",
    "\n",
    "> Uses material from **[MLAPP]**"
   ]
  },
  {
   "cell_type": "markdown",
   "metadata": {
    "slideshow": {
     "slide_type": "slide"
    }
   },
   "source": [
    "### Hidden Markov Models\n",
    "\n",
    "Noisy observations $X_k$ generated from *discrete* hidden Markov chain $Z_k$.\n",
    "$$\n",
    "P(\\vec{X}, \\vec{Z}) = P(Z_1) P(X_1 \\mid Z_1) \\prod_{k=2}^T P(Z_k \\mid Z_{k-1}) P(X_k \\mid Z_k)\n",
    "$$"
   ]
  },
  {
   "cell_type": "code",
   "execution_count": 31,
   "metadata": {
    "collapsed": true,
    "slideshow": {
     "slide_type": "skip"
    }
   },
   "outputs": [],
   "source": [
    "@pgm_render\n",
    "def pgm_hmm():\n",
    "    pgm = daft.PGM([7, 7], origin=[0, 0])\n",
    "\n",
    "    # Nodes\n",
    "    pgm.add_node(daft.Node(\"Z1\", r\"$Z_1$\", 1, 3.5))\n",
    "    pgm.add_node(daft.Node(\"Z2\", r\"$Z_2$\", 2, 3.5))\n",
    "    pgm.add_node(daft.Node(\"Z3\", r\"$\\dots$\", 3, 3.5, plot_params={'ec':'none'}))\n",
    "    pgm.add_node(daft.Node(\"Z4\", r\"$Z_T$\", 4, 3.5))\n",
    "\n",
    "    pgm.add_node(daft.Node(\"x1\", r\"$X_1$\", 1, 2.5, observed=True))\n",
    "    pgm.add_node(daft.Node(\"x2\", r\"$X_2$\", 2, 2.5, observed=True))\n",
    "    pgm.add_node(daft.Node(\"x3\", r\"$\\dots$\", 3, 2.5, plot_params={'ec':'none'}))\n",
    "    pgm.add_node(daft.Node(\"x4\", r\"$X_T$\", 4, 2.5, observed=True))\n",
    "\n",
    "\n",
    "    # Add in the edges.\n",
    "    pgm.add_edge(\"Z1\", \"Z2\", head_length=0.08)\n",
    "    pgm.add_edge(\"Z2\", \"Z3\", head_length=0.08)\n",
    "    pgm.add_edge(\"Z3\", \"Z4\", head_length=0.08)\n",
    "\n",
    "    pgm.add_edge(\"Z1\", \"x1\", head_length=0.08)\n",
    "    pgm.add_edge(\"Z2\", \"x2\", head_length=0.08)\n",
    "    pgm.add_edge(\"Z4\", \"x4\", head_length=0.08)\n",
    "    \n",
    "    return pgm;"
   ]
  },
  {
   "cell_type": "code",
   "execution_count": 32,
   "metadata": {
    "collapsed": false,
    "slideshow": {
     "slide_type": "slide"
    }
   },
   "outputs": [
    {
     "data": {
      "image/png": "[encoded data removed]",
      "text/plain": [
       "<IPython.core.display.Image object>"
      ]
     },
     "execution_count": 32,
     "metadata": {},
     "output_type": "execute_result"
    }
   ],
   "source": [
    "%%capture\n",
    "pgm_hmm(\"images/pgm/hmm.png\")"
   ]
  },
  {
   "cell_type": "markdown",
   "metadata": {
    "slideshow": {
     "slide_type": "slide"
    }
   },
   "source": [
    "### HMM:  Parameters\n",
    "\n",
    "For a Hidden Markov Model with $N$ hidden states and $M$ observed states, there are three *row-stochastic* parameters $\\theta=(A,B,\\pi)$,\n",
    "- Transition matrix  $A \\in \\R^{N \\times N}$\n",
    "    $$\n",
    "    A_{ij} = p(Z_t = j | Z_{t-1} = i)\n",
    "    $$\n",
    "- Emission matrix $B \\in \\R^{N \\times M}$\n",
    "    $$\n",
    "    B_{jk} = p(X_t = k | Z_t = j)\n",
    "    $$\n",
    "- Initial distribution $\\pi \\in \\R^N$,\n",
    "    $$\n",
    "    \\pi_j = p(Z_1 = j)\n",
    "    $$"
   ]
  },
  {
   "cell_type": "markdown",
   "metadata": {
    "slideshow": {
     "slide_type": "slide"
    }
   },
   "source": [
    "### HMM:  Filtering Problem\n",
    "\n",
    "**Filtering** means to compute the current *belief state* $p(z_t | x_1, \\dots, x_t,\\theta)$.\n",
    "    $$\n",
    "    p(z_t | x_1,\\dots,x_t) = \\frac{p(x_1,\\dots,x_t,z_t)}{p(x_1,\\dots,x_t)}\n",
    "    $$\n",
    "- Given observations $x_{1:t}$ so far, infer $z_t$.\n",
    "- *Example*:  Estimate robot position given previous sensor readings.\n",
    "\n",
    "> Solved by the **forward algorithm**."
   ]
  },
  {
   "cell_type": "markdown",
   "metadata": {
    "slideshow": {
     "slide_type": "slide"
    }
   },
   "source": [
    "### HMM:  Filtering Problem\n",
    "\n",
    "As an example of filtering, consider **robot localization**, in which we \n",
    "- estimate the current location $z_t$\n",
    "- given **noisy** sensor readings $x_1,\\dots,x_t$.\n",
    "\n",
    "<img src=\"images/murphy-fig183-filtering.png\">\n",
    "\n",
    "<span style=\"color:gray; font-size:10px; float:right\">(Figure 18.3a from **[MLAPP]**)</span>"
   ]
  },
  {
   "cell_type": "markdown",
   "metadata": {
    "slideshow": {
     "slide_type": "slide"
    }
   },
   "source": [
    "### HMM:  Forward Algorithm\n",
    "\n",
    "The **forward algorithm** computes $\\alpha(z_t) \\equiv p(x_1,\\dots,x_t,z_t)$.\n",
    "    $$\n",
    "    \\begin{align}\n",
    "    \\alpha(z_t)\n",
    "    &= \\sum_{z_{t-1}} p(x_1, \\dots, x_t, z_{t-1}, z_t) \\\\\n",
    "    &= \\sum_{z_{t-1}} p(x_1, \\dots, x_{t-1}, z_{t-1}) p(z_t | z_{t-1}) p(x_t | z_t) \\\\\n",
    "    &= p(x_t | z_t) \\sum_{z_{t-1}} \\alpha(z_{t-1}) p(z_t | z_{t-1})\n",
    "    \\end{align}\n",
    "    $$\n",
    "\n",
    "> Compute recursively starting from the *front* of the chain."
   ]
  },
  {
   "cell_type": "markdown",
   "metadata": {
    "slideshow": {
     "slide_type": "slide"
    }
   },
   "source": [
    "### HMM:  Smoothing Problem\n",
    "\n",
    "Compute $p(z_t | \\X)$ offline, given all observations.  \n",
    "- Retroactively infer $z_t$.  (Hindsight!)\n",
    "\n",
    "We can break the chain into two parts, the *past* and *future*:\n",
    "    $$\n",
    "    \\begin{align}\n",
    "    p(z_t | \\X)\n",
    "    &= p(x_{1:t}, z_t, x_{t+1:T}) \\frac{1}{p(\\X)} \\\\\n",
    "    &= p(x_{1:t}, z_t) p(x_{t+1:T} | x_{1:t}, z_t)\\frac{1}{p(\\X)} \\\\\n",
    "    &= p(x_{1:t}, z_t) p(x_{t+1:T} | z_t)\\frac{1}{p(\\X)}\n",
    "    \\end{align}\n",
    "    $$"
   ]
  },
  {
   "cell_type": "markdown",
   "metadata": {
    "slideshow": {
     "slide_type": "slide"
    }
   },
   "source": [
    "### HMM:  Smoothing Problem\n",
    "\n",
    "Overall, the **smoothing problem** is to compute\n",
    "    $$\n",
    "    \\gamma(z_t)\n",
    "    \\equiv p(z_t | \\X)\n",
    "    \\equiv \\frac{\\alpha(z_t) \\beta(z_t) }{p(\\X)}\n",
    "    $$\n",
    "\n",
    "We solve this via the **forward-backward algorithm**, where\n",
    "- $\\alpha(z_t) \\equiv p(x_1,\\dots,x_t,z_t)$ is found with the **forward algorithm**\n",
    "- $\\beta(z_t) \\equiv p(x_{t+1},\\dots,x_{T} | z_t)$ is found with the **backward algorithm**"
   ]
  },
  {
   "cell_type": "markdown",
   "metadata": {
    "slideshow": {
     "slide_type": "slide"
    }
   },
   "source": [
    "### HMM:  Backward Algorithm\n",
    "\n",
    "The **backward algorithm** computes $\\beta(z_t) \\equiv p(x_{t+1},\\dots,x_{T} | z_t)$,\n",
    "    $$\n",
    "    \\begin{align}\n",
    "    \\beta(z_t)\n",
    "    &= \\sum_{z_{t+1}} p(x_{t+1},\\dots,x_{T},z_{t+1} | z_t) \\\\\n",
    "    &= \\sum_{z_{t+1}} p(z_{t+1}|z_t) p(x_{t+1}, \\dots, x_T |z_{t+1}, z_t)\\\\\n",
    "        (\\text{since } x_{t+1:T} \\perp z_t \\mid z_{t+1}) \\quad \n",
    "    &= \\sum_{z_{t+1}} p(z_{t+1}|z_t) p(x_{t+1}, \\dots, x_T |z_{t+1})\\\\\n",
    "        (\\text{since } x_{t+2:T} \\perp x_{t+1} \\mid z_{t+1}) \\quad \n",
    "    &= \\sum_{z_{t+1}} p(z_{t+1}|z_t) p(x_{t+1}|z_{t+1})  p(x_{t+2}, \\dots, x_T |z_{t+1})\\\\\n",
    "    &= \\sum_{z_{t+1}} p(z_{t+1}|z_t) p(x_{t+1}|z_{t+1}) \\beta(z_{t+1})\n",
    "    \\end{align}\n",
    "    $$\n",
    "\n",
    "> Compute recursively starting from the *back* of the chain."
   ]
  },
  {
   "cell_type": "markdown",
   "metadata": {
    "slideshow": {
     "slide_type": "slide"
    }
   },
   "source": [
    "### HMM:  Decoding Problem\n",
    "\n",
    "**Decoding** computes the most probable state sequence, given observations.\n",
    "    $$\n",
    "    \\vec{z}^* = \\arg\\max_{z_1,\\dots,z_T} p(z_1,\\dots,z_T | x_1, \\dots, x_T, \\theta)\n",
    "    $$\n",
    "\n",
    "> The decoding problem is solved by the **Viterbi algorithm**, which uses dynamic programming.  See **[PRML]** or **[MLAPP]** for more details."
   ]
  },
  {
   "cell_type": "markdown",
   "metadata": {
    "slideshow": {
     "slide_type": "slide"
    }
   },
   "source": [
    "### HMM:  Part-of-Speech Tagging\n",
    "\n",
    "In English, some words can have multiple parts of speech.  For instance,\n",
    "\n",
    "- Business is going **well** (*Adverb*).\n",
    "- All is **well** with us (*Adjective*).\n",
    "- **Well**, who would have thought he could do it? (*Interjection*)\n",
    "- The **well** was drilled fifty meters deep. (*Noun*)\n",
    "- Tears **well** up in my eyes. (*Verb*)\n",
    "\n",
    "<span style=\"color:gray; font-size:10px; float:right\">(Example taken from [here](http://english.stackexchange.com/questions/46277/what-word-can-fulfill-the-most-parts-of-speech).)</span>"
   ]
  },
  {
   "cell_type": "markdown",
   "metadata": {
    "slideshow": {
     "slide_type": "slide"
    }
   },
   "source": [
    "### HMM:  Part-of-Speech Tagging\n",
    "\n",
    "We can use a Hidden Markov Model to **disambiguate** the part of speech using context clues!\n",
    "- Hidden states $z_t$ are parts-of-speech\n",
    "- Observed states $x_t$ are words\n",
    "\n",
    "Certain sequences of POS tags are unlikely.  This allows us to infer the correct tags!"
   ]
  },
  {
   "cell_type": "markdown",
   "metadata": {
    "slideshow": {
     "slide_type": "slide"
    }
   },
   "source": [
    "### HMM:  Learning Problem\n",
    "\n",
    "It is usually necessary to **learn** the model parameters $\\theta = (A,B,\\pi)$ from data.\n",
    "- Given observations $\\mathcal{X} = \\{ x_1, \\dots, x_T \\}$\n",
    "- Given model dimensions $N$ and $M$\n",
    "- Find parameters that best fit the data\n",
    "\n",
    "> The learning problem is solved by the **Baum-Welch algorithm**, a special case of expectation maximization."
   ]
  },
  {
   "cell_type": "markdown",
   "metadata": {
    "slideshow": {
     "slide_type": "slide"
    }
   },
   "source": [
    "### Recall:  Expectation-Maximization\n",
    "\n",
    "<div style=\"margin:10px;padding:10px;border:2px solid black;\">\n",
    "<div>\n",
    "**E-Step:** Write down an expression for \n",
    "    $$\n",
    "    Q(\\theta_t, \\theta) = E_{q}[ \\log p(\\X,Z | \\theta) ] \\quad \\quad \\text{ where } q = q(\\cdot | \\theta_t)\n",
    "    $$\n",
    "</div><div>\n",
    "**M-Step:** Maximize the auxiliary function,\n",
    "    $$\n",
    "    \\theta_{t+1}\n",
    "    = \\arg\\max_\\theta Q(\\theta_t, \\theta)\n",
    "    $$\n",
    "</div>\n",
    "</div>\n",
    "\n",
    "> Recall $q_t(Z) = p(Z|\\X,\\theta_t)$"
   ]
  },
  {
   "cell_type": "markdown",
   "metadata": {
    "slideshow": {
     "slide_type": "slide"
    }
   },
   "source": [
    "### HMM:  Complete-Data Log-Likelihood\n",
    "\n",
    "The joint likelihood of the hidden and observed states is\n",
    "\n",
    "$$\n",
    "\\begin{align}\n",
    "\\log p(x_{1:T}, z_{1:T} | \\theta)\n",
    "&= \\log \\left[ p(z_1|\\pi)\n",
    "    \\prod_{t=2}^T p(z_t | z_{t-1}, A)\n",
    "    \\prod_{t=1}^T p(x_t | z_t, B) \\right] \\\\\n",
    "&=  \\log p(z_1|\\pi)\n",
    "    + \\sum_{t=2}^T \\log p(z_t | z_{t-1}, A) \\\\\n",
    "    & \\qquad \\qquad + \\sum_{t=1}^T \\log p(x_t | z_t, B) \n",
    "\\end{align}\n",
    "$$"
   ]
  },
  {
   "cell_type": "markdown",
   "metadata": {
    "slideshow": {
     "slide_type": "slide"
    }
   },
   "source": [
    "### HMM:  Complete-Data Log-Likelihood\n",
    "\n",
    "Each term of the complete-data log-likelihood is:\n",
    "\n",
    "$$\n",
    "\\begin{align}\n",
    "\\log p(z_1 | \\pi)\n",
    "    &= \\sum_{j=1}^N \\mathbb{I}(z_t=j) \\log \\pi_j \\\\\n",
    "\\log p(z_t | z_{t-1}, A)\n",
    "    &= \\sum_{i=1}^N \\sum_{j=1}^N \n",
    "        \\mathbb{I}(z_{t-1}=i)\\mathbb{I}(z_t=j) \\log A_{ij} \\\\\n",
    "\\log p(x_t | z_t, B)\n",
    "    &= \\sum_{j=1}^N \\sum_{k=1}^M \n",
    "        \\mathbb{I}(z_t=j)\\mathbb{I}(x_t=k) \\log B_{jk} \n",
    "\\end{align}\n",
    "$$"
   ]
  },
  {
   "cell_type": "markdown",
   "metadata": {
    "slideshow": {
     "slide_type": "slide"
    }
   },
   "source": [
    "### HMM:  Expected Complete Likelihood\n",
    "\n",
    "The expected complete likelihood $Q(\\theta_t, \\theta)$ is\n",
    "\n",
    "$$\n",
    "\\begin{align}\n",
    "Q(\\theta_t,\\theta)\n",
    "&= E_q[ \\log p(\\X,Z|\\theta) ] \\\\\n",
    "&= E_q[ \\log p(z_1|\\pi) ]\n",
    "    + E_q\\left[ \\sum_{t=2}^T \\log p(z_t | z_{t-1}, A) \\right]\\\\\n",
    "    &\\qquad + E_q\\left[ \\sum_{t=1}^T \\log p(x_t | z_t, B) \\right]\n",
    "\\end{align}\n",
    "$$"
   ]
  },
  {
   "cell_type": "markdown",
   "metadata": {
    "slideshow": {
     "slide_type": "slide"
    }
   },
   "source": [
    "### HMM:  Expected Complete Likelihood\n",
    "\n",
    "Taking expectations with respect to $q(Z) = p(Z|\\X,\\theta)$,\n",
    "\n",
    "$$\n",
    "\\begin{align}\n",
    "E_q[\\log p(z_1 | \\pi)]\n",
    "    &= \\sum_{j=1}^N q(z_t=j) \\log \\pi_j \\\\\n",
    "E_q[\\log p(z_t | z_{t-1}, A)]\n",
    "    &= \\sum_{i=1}^N \\sum_{j=1}^N \n",
    "        q(z_{t-1}=i, z_t=j) \\log A_{ij} \\\\\n",
    "E_q[\\log p(x_t | z_t, B)]\n",
    "    &= \\sum_{j=1}^N \\sum_{k=1}^M \n",
    "        q(z_t=j | x_t=k) \\log B_{jk} \n",
    "\\end{align}\n",
    "$$"
   ]
  },
  {
   "cell_type": "markdown",
   "metadata": {
    "slideshow": {
     "slide_type": "slide"
    }
   },
   "source": [
    "### HMM:  Baum-Welch\n",
    "\n",
    "- The **E-Step** consists of computing the $q$ terms from the previous slide, which can all be computed using the **forward-backward algorithm**!\n",
    "\n",
    "- The **M-Step** consists of normalizing the expected transition and emission counts\n",
    "    - Similar to MLE for complete data\n",
    "    - Left as an exercise"
   ]
  }
 ],
 "metadata": {
  "celltoolbar": "Slideshow",
  "kernelspec": {
   "display_name": "Python 2",
   "language": "python",
   "name": "python2"
  },
  "language_info": {
   "codemirror_mode": {
    "name": "ipython",
    "version": 2
   },
   "file_extension": ".py",
   "mimetype": "text/x-python",
   "name": "python",
   "nbconvert_exporter": "python",
   "pygments_lexer": "ipython2",
   "version": "2.7.11"
  }
 },
 "nbformat": 4,
 "nbformat_minor": 0
}
