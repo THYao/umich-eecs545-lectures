{
 "cells": [
  {
   "cell_type": "markdown",
   "metadata": {
    "slideshow": {
     "slide_type": "skip"
    }
   },
   "source": [
    "$$ \\LaTeX \\text{ command declarations here.}\n",
    "\\newcommand{\\R}{\\mathbb{R}}\n",
    "\\renewcommand{\\vec}[1]{\\mathbf{#1}}\n",
    "\\newcommand{\\norm}[1]{\\|#1\\|_2}\n",
    "$$"
   ]
  },
  {
   "cell_type": "code",
   "execution_count": 1,
   "metadata": {
    "collapsed": false,
    "scrolled": true,
    "slideshow": {
     "slide_type": "skip"
    }
   },
   "outputs": [],
   "source": [
    "# plotting\n",
    "%matplotlib inline\n",
    "from matplotlib import pyplot as plt;\n",
    "import matplotlib as mpl;\n",
    "from mpl_toolkits.mplot3d import Axes3D\n",
    "\n",
    "# scientific\n",
    "import numpy as np;\n",
    "import scipy as scp;\n",
    "import scipy.stats;\n",
    "\n",
    "# python\n",
    "import random;\n",
    "\n",
    "# rise config\n",
    "from notebook.services.config import ConfigManager\n",
    "cm = ConfigManager()\n",
    "cm.update('livereveal', {\n",
    "              'theme': 'simple',\n",
    "              'start_slideshow_at': 'selected',\n",
    "              'transition':'fade',\n",
    "              'scroll':False\n",
    "})\n",
    "\n",
    "# scikit-learn\n",
    "from sklearn import svm\n",
    "from sklearn.linear_model import Ridge\n",
    "from sklearn.preprocessing import PolynomialFeatures\n",
    "from sklearn.pipeline import make_pipeline\n",
    "from sklearn.grid_search import GridSearchCV\n",
    "from sklearn.learning_curve import learning_curve\n",
    "from sklearn.kernel_ridge import KernelRidge\n",
    "\n",
    "# math\n",
    "from __future__ import division"
   ]
  },
  {
   "cell_type": "markdown",
   "metadata": {
    "slideshow": {
     "slide_type": "slide"
    }
   },
   "source": [
    "# EECS 545:  Machine Learning\n",
    "## Lecture 08:  Kernel Methods, Part I\n",
    "- Instructor:  **Jacob Abernethy**\n",
    "- Date:  February 8, 2016\n",
    "\n",
    "\n",
    "*Lecture Exposition Credit*:  Benjamin Bray, Saket Dewangan"
   ]
  },
  {
   "cell_type": "markdown",
   "metadata": {
    "slideshow": {
     "slide_type": "slide"
    }
   },
   "source": [
    "## Outline\n",
    "\n",
    "* Perceptron Algorithm\n",
    "* Recap Classification Algorithms\n",
    "* Kernel Methods\n",
    "    - Kernel functions\n",
    "    - Kernel trick\n",
    "    - Constructing kernels"
   ]
  },
  {
   "cell_type": "markdown",
   "metadata": {
    "slideshow": {
     "slide_type": "slide"
    }
   },
   "source": [
    "## Perceptron Algorithm\n",
    "* The *Perceptron*, perhaps the oldest \"learning algorithm\", goes back to Rosenblatt in the 1960s\n",
    "* The Perceptron is the most basic model of a training a linear predictor with sequential update steps:\n",
    "-------------"
   ]
  },
  {
   "cell_type": "markdown",
   "metadata": {
    "slideshow": {
     "slide_type": "fragment"
    }
   },
   "source": [
    "**INIT:** set $\\vec{w}_1 = \\mathbf{0}$;\n",
    "\n",
    "**FOR:** $t=1,2,\\ldots$\n",
    "  * Observe $\\vec{x}_t$, predict $\\hat{y}_t = \\text{sign}(\\vec{w}_t ^{\\top} \\phi(\\vec{x}_t))$\n",
    "  * Receive $y_t \\in \\{-1,1\\}$, update:\n",
    "$\n",
    "\\vec{w}_{t+1} = \\begin{cases}\n",
    "\\vec{w}_t, & \\text{if } y_t\\vec{w}_t ^{\\top} \\phi(\\vec{x}_t) > 0\\\\\n",
    "\\vec{w}_t + y_t \\phi(\\vec{x}_t), & \\mbox{otherwise.}\n",
    "\\end{cases}\n",
    "$"
   ]
  },
  {
   "cell_type": "markdown",
   "metadata": {
    "slideshow": {
     "slide_type": "slide"
    }
   },
   "source": [
    "## Perceptron is just Stochastic Gradient Descent\n",
    "* Perceptron update: \n",
    "$$\n",
    "\\vec{w}_{t+1} = \\begin{cases}\n",
    "\\vec{w}_t, & \\text{if } y_t\\vec{w}_t ^{\\top} \\phi(\\vec{x}_t) > 0\\\\\n",
    "\\vec{w}_t + y_t \\phi(\\vec{x}_t), & \\mbox{otherwise.}\n",
    "\\end{cases}\n",
    "$$\n",
    "* This is just SGD on the following error func.:\n",
    "$$\n",
    "E(\\vec{w}) := \\sum_{t=1}^n \\max(0, -y_t \\vec{w}^\\top \\phi(\\vec{x}_t))\n",
    "$$\n",
    "* Notice the \"step size\" is $\\eta = 1$! This is atypical.\n",
    "* Perceptron was (originally) viewed as building block of the *neural network* (NN). Indeed, NN often called the MultiLayerPerceptron (MLP)."
   ]
  },
  {
   "cell_type": "markdown",
   "metadata": {
    "slideshow": {
     "slide_type": "slide"
    }
   },
   "source": [
    "## Perceptron has a magical property\n",
    "* If problem is *linearly separable*, i.e. a hyperplane separates positives/negatives, then Perceptron *will find a separating* $\\vec{w}^*$.\n",
    "* **Theorem**: \n",
    "    * Assume that $\\|\\vec{x}_t\\| \\leq 1$ for all $t$\n",
    "    * Assume $\\exists \\vec{w}$, with $\\|\\vec{w}\\|_2 = 1$, such that for all $(\\vec{x}_t,y_t)$ that $ y_t\\vec{w} ^{\\top} \\phi(\\vec{x}_t) > \\gamma$ for some $\\gamma > 0$.\n",
    "    * Then the Perceptron algorithm will find some $\\vec{w}^*$ which perfectly classifies all examples\n",
    "    * The number of updates/mistakes in learning is bounded by $\\frac{1}{\\gamma^2}$\n",
    "* This is a *margin bound*, notice that it depends on $\\gamma$ not the dimension of $\\phi(\\vec{x})$"
   ]
  },
  {
   "cell_type": "markdown",
   "metadata": {
    "slideshow": {
     "slide_type": "slide"
    }
   },
   "source": [
    "**Proof Sketch**: (See [learning theory lecture notes](http://web.eecs.umich.edu/~jabernet/eecs598course/fall2015/web/notes/lec16_110515.pdf) for full details.)\n",
    "\n",
    "Let $\\vec{w}_*$ be perfect classifier scaled by $\\frac{1}{\\gamma}$.\n",
    "\\begin{align}\n",
    "\\frac{1}{\\gamma^2} = \\norm{\\vec{w}_*}^2 & \\ge \\norm{\\vec{w}_* - \\mathbf 0}^2 - \\norm{\\vec{w}_* - \\vec{w}_{T+1}} \\nonumber \\\\\n",
    "& = \\sum_{t=1}^T \\norm{\\vec{w}_* - \\vec{w}_{t}}^2 - \\norm{\\vec{w}_* - \\vec{w}_{t+1}}^2  \\\\\n",
    "& = \\sum_{t:y_t(\\vec{w}_t^\\top \\vec{x}_t)<0} \\norm{\\vec{w}_* - \\vec{w}_{t}}^2 - \\norm{\\vec{w}_* - (\\vec{w}_t + y_t \\vec{x}_t)}^2 \\\\\n",
    "& = \\sum_{t:y_t(\\vec{w}_t^\\top \\vec{x}_t)<0} 2 \\left( \\underbrace{y_t (\\vec{w}_*^{\\top}\\vec{x}_t)}_{\\ge 1} \\underbrace{- y_t (\\vec{w}_t^{\\top}\\vec{x}_t)}_{\\ge 0} \\right) \\underbrace{- y_t^2 \\norm{\\vec{x}_t}^2}_{\\ge -1} \\\\\n",
    "& \\ge \\sum_{t:y_t(\\vec{w}_t^\\top \\vec{x}_t)<0} 1 \\quad = \\quad \\text{#mistakes[Perceptron]}\n",
    "\\end{align}"
   ]
  },
  {
   "cell_type": "markdown",
   "metadata": {
    "slideshow": {
     "slide_type": "slide"
    }
   },
   "source": [
    "## A Recap of Classification Methods\n",
    "* **Logistic Regression**\n",
    "    * Provides model for $P(y | x, w)$ using sigmoid\n",
    "    * No explicit model for $P(x | w)$ or $P(x | y, w)$\n",
    "* **Naive Bayes**\n",
    "    * Provides a full model for $P(x,y|w)$\n",
    "    * Assumes independence between features *conditioned on* target $y$\n",
    "    * Typically requires discrete data (can generalize to continuous spaces)\n",
    "    * ML estimates are pretty straightforward"
   ]
  },
  {
   "cell_type": "markdown",
   "metadata": {
    "slideshow": {
     "slide_type": "slide"
    }
   },
   "source": [
    "## A Recap of Classification Methods\n",
    "* **Gaussian Discriminant Analysis**\n",
    "    * Gives full model $P(x|y,w)$ via *multivariate Gaussian*\n",
    "    * Requires esimating $\\mu, \\Sigma$ for each class\n",
    "    * When we include additional assumption that all class covariances matrices are identical, we get *Linear Discriminant Analysis*, and decision threshold becomes linear. (**Exercise:** why?)\n",
    "* **Perceptron**\n",
    "    * No probability model on $x,y,w$\n",
    "    * Can prove algorithmic benefits (i.e. guaranteed convergence) under *margin assumption*"
   ]
  },
  {
   "cell_type": "markdown",
   "metadata": {
    "slideshow": {
     "slide_type": "slide"
    }
   },
   "source": [
    "## References\n",
    "\n",
    "This lecture draws upon the following resources:\n",
    "\n",
    "- **[MLAPP]** Murphy, Kevin. [*Machine Learning:  A Probabilistic Perspective*](https://mitpress.mit.edu/books/machine-learning-0).  2012.\n",
    "- **[PRML]** Bishop, Christopher.  [*Pattern Recognition and Machine Learning*](http://www.springer.com/us/book/9780387310732).  2006.\n",
    "- **[CS229]** Ng, Andrew.  [CS 229:  Machine Learning](http://cs229.stanford.edu/).  Autumn 2015.\n",
    "    - Lecture Notes 03:  [Support Vector Machines & Kernels](http://cs229.stanford.edu/notes/cs229-notes3.pdf)"
   ]
  },
  {
   "cell_type": "markdown",
   "metadata": {
    "slideshow": {
     "slide_type": "slide"
    }
   },
   "source": [
    "# Feature Mapping:  Linear Regression\n",
    "\n",
    "<br><div style=\"text-align: center\">*(recall Lectures 04 & 05)*</div>"
   ]
  },
  {
   "cell_type": "markdown",
   "metadata": {
    "slideshow": {
     "slide_type": "slide"
    }
   },
   "source": [
    "### Review:  Feature Mapping\n",
    "\n",
    "Our models so far employ a nonlinear **feature mapping** $\\phi : \\mathcal{X} \\mapsto \\R^M$\n",
    "- in general, features are nonlinear functions of the data\n",
    "- each feature $\\phi_j(x)$ extracts important properties from $x$\n",
    "\n",
    "Allows us to use *linear* methods for *nonlinear* tasks.\n",
    "- For example, **polynomial features** for linear regression..."
   ]
  },
  {
   "cell_type": "markdown",
   "metadata": {
    "slideshow": {
     "slide_type": "slide"
    }
   },
   "source": [
    "### Linear Regression:  Polynomial Features\n",
    "\n",
    "**Problem:** Linear model $y(x) = w^T x$ can only produce straight lines through the origin.\n",
    "- Not very flexible / powerful\n",
    "- Can't handle nonlinearities"
   ]
  },
  {
   "cell_type": "markdown",
   "metadata": {
    "slideshow": {
     "slide_type": "fragment"
    }
   },
   "source": [
    "**Solution:** Polynomial Regression\n",
    "- Replace $x$ by $\\phi(x) = \\begin{bmatrix} 1 & x & x^2 & \\cdots & x^p \\end{bmatrix}^T$\n",
    "- The feature mapping $\\phi$ is nonlinear"
   ]
  },
  {
   "cell_type": "markdown",
   "metadata": {
    "slideshow": {
     "slide_type": "slide"
    }
   },
   "source": [
    "### Linear Regression:  Polynomial Features"
   ]
  },
  {
   "cell_type": "code",
   "execution_count": 2,
   "metadata": {
    "collapsed": true
   },
   "outputs": [],
   "source": [
    "def poly_reg_example(fn):\n",
    "    # generate random points\n",
    "    x = np.random.random(20) * 5;\n",
    "    y = fn(x);\n",
    "    # format into matrix\n",
    "    X = x[:, np.newaxis];\n",
    "    \n",
    "    # plot ground truth\n",
    "    x_plot = np.linspace(0,5,100)[:, np.newaxis];\n",
    "    plt.plot(x_plot, fn(x_plot), label=\"ground truth\")\n",
    "    plt.scatter(x, y, label=\"data-points\")\n",
    "\n",
    "    # polynomial regression for degree 1,3 and 5\n",
    "    for degree in [1, 3, 5]:\n",
    "        model = make_pipeline(PolynomialFeatures(degree), Ridge())\n",
    "        model.fit(X, y)\n",
    "        y_plot = model.predict(x_plot)\n",
    "        plt.plot(x_plot, y_plot, label=\"degree %d\" % degree)\n",
    "    \n",
    "    plt.legend(loc='lower left')\n",
    "    plt.show()\n",
    "    "
   ]
  },
  {
   "cell_type": "markdown",
   "metadata": {
    "slideshow": {
     "slide_type": "slide"
    }
   },
   "source": [
    "### Linear Regression:  Polynomial Features"
   ]
  },
  {
   "cell_type": "code",
   "execution_count": 3,
   "metadata": {
    "collapsed": false,
    "slideshow": {
     "slide_type": "-"
    }
   },
   "outputs": [
    {
     "data": {
      "image/png": "[encoded data removed]",
      "text/plain": [
       "<matplotlib.figure.Figure at 0x7f35648c2cf8>"
      ]
     },
     "metadata": {},
     "output_type": "display_data"
    }
   ],
   "source": [
    "# ground truth:  function to be approximated\n",
    "def fn(x): return np.sin(x);\n",
    "\n",
    "# plot\n",
    "poly_reg_example(fn);"
   ]
  },
  {
   "cell_type": "markdown",
   "metadata": {
    "slideshow": {
     "slide_type": "slide"
    }
   },
   "source": [
    "### Linear Regression: Nonlinear Features\n",
    "\n",
    "Linear Regression Model \n",
    "$$ y(x,w) = w^T \\phi (x) = \\sum_{j=0}^{M} w_j \\cdot \\phi_j(x) $$\n",
    "\n",
    "Least-squares with L-2 regularization\n",
    "$$ J(w) = \\frac{1}{2} \\sum_{n=1}^{N}(w^T \\phi (x_n) - t_n)^2 + \\frac{\\lambda}{2}w^Tw $$\n",
    "\n",
    "Closed-form Solution\n",
    "$$ w = (\\phi^T \\phi + \\lambda I)^{-1}\\phi^T \\cdot t $$"
   ]
  },
  {
   "cell_type": "markdown",
   "metadata": {
    "slideshow": {
     "slide_type": "slide"
    }
   },
   "source": [
    "### This is neat, but...\n",
    "\n",
    "How do I choose a feature mapping $\\phi(x)$?\n",
    "- Manually?  Learn features?\n",
    "\n",
    "With $N$ examples and $M$ features,\n",
    "- design matrix is $\\Phi \\in \\R^{N \\times M}$\n",
    "- linear regression requires inverting $\\Phi^T \\Phi \\in \\R^{M \\times M}$\n",
    "- computational complexity of $O(M^3)$\n",
    "        "
   ]
  },
  {
   "cell_type": "markdown",
   "metadata": {
    "slideshow": {
     "slide_type": "slide"
    }
   },
   "source": [
    "# Feature Mapping:  Linear Classifiers\n",
    "\n",
    "<br><div style=\"text-align: center\">*(recall Lectures 06 & 07)*</div>"
   ]
  },
  {
   "cell_type": "markdown",
   "metadata": {
    "slideshow": {
     "slide_type": "slide"
    }
   },
   "source": [
    "### Linear Classifiers:  Review\n",
    "\n",
    "**Recall:**  Linear (binary) classifiers separate data with a **hyperplane** in feature space,\n",
    "\n",
    "$$\n",
    "h(x) = \\begin{cases}\n",
    "    1 & \\text{if } w^T \\phi(x) > 0 \\\\\n",
    "    0 & \\text{otherwise}\n",
    "\\end{cases}\n",
    "$$\n",
    "\n",
    "**Examples:** Differ only in how the weights $w$ are learned.\n",
    "- Logistic regression\n",
    "- Linear Discriminant Analysis\n",
    "- Fisher's Linear Discriminant\n",
    "- Perceptron Learning"
   ]
  },
  {
   "cell_type": "markdown",
   "metadata": {
    "slideshow": {
     "slide_type": "slide"
    }
   },
   "source": [
    "### Feature Mapping:  Example"
   ]
  },
  {
   "cell_type": "code",
   "execution_count": 4,
   "metadata": {
    "collapsed": true,
    "slideshow": {
     "slide_type": "-"
    }
   },
   "outputs": [],
   "source": [
    "def get_circular_data(n):\n",
    "    # sample outer circle\n",
    "    theta0 = np.random.random(n) * 2 * np.pi;\n",
    "    r0 = 2 + np.random.randn(n) / 3;\n",
    "    # sample inner circle\n",
    "    theta1 = np.random.random(n) * 2 * np.pi;\n",
    "    r1 = 5 + np.random.randn(n) / 3;\n",
    "    # join data\n",
    "    x0 = r0 * [np.cos(theta0), np.sin(theta0)];\n",
    "    x1 = r1 * [np.cos(theta1), np.sin(theta1)];\n",
    "    return x0, x1;\n",
    "\n",
    "def plot_circular_data(n):\n",
    "    # get data\n",
    "    x0, x1 = get_circular_data(n);\n",
    "\n",
    "    # plot\n",
    "    plt.figure(figsize=(10,6))\n",
    "    plt.scatter(*x0, c=\"r\")\n",
    "    plt.scatter(*x1, c=\"b\", marker=\"^\")\n",
    "    plt.axis(\"equal\");\n",
    "\n",
    "def plot_circular_3d(n):\n",
    "    # get data\n",
    "    x0, x1 = get_circular_data(n);\n",
    "    \n",
    "    # plot\n",
    "    fig = plt.figure(figsize=(10,6));\n",
    "    ax = fig.add_subplot(111, projection='3d');\n",
    "    # plot 3d points\n",
    "    ax.scatter(*x0, np.linalg.norm(x0, axis=0)**2, c=\"r\")\n",
    "    ax.scatter(*x1, np.linalg.norm(x1, axis=0)**2, c=\"b\", marker=\"^\");\n",
    "    # set camera\n",
    "    ax.view_init(elev=20, azim=45);\n",
    "\n",
    "def plot_circular_squared(n):\n",
    "    # get data\n",
    "    x0, x1 = get_circular_data(n);\n",
    "\n",
    "    # plot\n",
    "    plt.figure(figsize=(10,6))\n",
    "    plt.scatter(*(x0**2), c=\"r\")\n",
    "    plt.scatter(*(x1**2), c=\"b\", marker=\"^\")\n",
    "    plt.axis(\"equal\");"
   ]
  },
  {
   "cell_type": "markdown",
   "metadata": {
    "slideshow": {
     "slide_type": "slide"
    }
   },
   "source": [
    "### Feature Mapping:  Example\n",
    "\n",
    "**Problem:**  The following data is **not** linearly separable.\n",
    "- Every linear classifier will fail."
   ]
  },
  {
   "cell_type": "code",
   "execution_count": 5,
   "metadata": {
    "collapsed": false,
    "slideshow": {
     "slide_type": "-"
    }
   },
   "outputs": [
    {
     "data": {
      "image/png": "[encoded data removed]",
      "text/plain": [
       "<matplotlib.figure.Figure at 0x7f3567b89ac8>"
      ]
     },
     "metadata": {},
     "output_type": "display_data"
    }
   ],
   "source": [
    "plot_circular_data(100);"
   ]
  },
  {
   "cell_type": "markdown",
   "metadata": {
    "slideshow": {
     "slide_type": "slide"
    }
   },
   "source": [
    "### Feature Mapping:  Example\n",
    "\n",
    "**Solution 1:**  Add squared-distance-to-origin $(x_1^2 + x_2^2)$ as third feature."
   ]
  },
  {
   "cell_type": "code",
   "execution_count": 6,
   "metadata": {
    "collapsed": false
   },
   "outputs": [
    {
     "data": {
      "image/png": "[encoded data removed]",
      "text/plain": [
       "<matplotlib.figure.Figure at 0x7f3564822f28>"
      ]
     },
     "metadata": {},
     "output_type": "display_data"
    }
   ],
   "source": [
    "plot_circular_3d(100);"
   ]
  },
  {
   "cell_type": "markdown",
   "metadata": {
    "slideshow": {
     "slide_type": "slide"
    }
   },
   "source": [
    "### Feature Mapping:  Example\n",
    "\n",
    "**Solution 2:**  Replace $(x_1, x_2)$ with $(x_1^2, x_2^2)$"
   ]
  },
  {
   "cell_type": "code",
   "execution_count": 7,
   "metadata": {
    "collapsed": false
   },
   "outputs": [
    {
     "data": {
      "image/png": "[encoded data removed]",
      "text/plain": [
       "<matplotlib.figure.Figure at 0x7f3538715a58>"
      ]
     },
     "metadata": {},
     "output_type": "display_data"
    }
   ],
   "source": [
    "plot_circular_squared(100);"
   ]
  },
  {
   "cell_type": "markdown",
   "metadata": {
    "slideshow": {
     "slide_type": "slide"
    }
   },
   "source": [
    "### Feature Mapping:  Linear Classifiers\n",
    "\n",
    "Data has been mapped via $\\phi$ to a new, higher-dimensional (possibly infinite!) space\n",
    "- Certain *representations* are better for certain problems\n",
    "\n",
    "Alternatively, the data still lives in original space, but the definition of **distance** or **inner product** has changed.\n",
    "- Certain *inner products* are better for certain problems"
   ]
  },
  {
   "cell_type": "markdown",
   "metadata": {
    "slideshow": {
     "slide_type": "slide"
    }
   },
   "source": [
    "### Feature Mapping:  Linear Classifiers\n",
    "\n",
    "Unfortunately, higher-dimensional features come at a price!\n",
    "- We can't possibly manage infinite-dimensional $\\phi(x)$!\n",
    "- Computational complexity blows up.\n",
    "\n",
    "Kernel methods to the rescue!"
   ]
  },
  {
   "cell_type": "markdown",
   "metadata": {
    "slideshow": {
     "slide_type": "slide"
    }
   },
   "source": [
    "# Kernel Functions\n",
    "\n",
    "> Uses content from **[PRML]** and [Wikipedia, \"Kernel Method\"](https://en.wikipedia.org/wiki/Kernel_method)"
   ]
  },
  {
   "cell_type": "markdown",
   "metadata": {
    "slideshow": {
     "slide_type": "slide"
    }
   },
   "source": [
    "### Kernel Methods:  Intro\n",
    "\n",
    "Many algorithms depend on the data only through pairwise **inner products** between data points,\n",
    "$$\n",
    "\\langle x_1, x_2 \\rangle = x_2^T x_1\n",
    "$$\n",
    "\n",
    "Inner products can be replaced by **Kernel Functions**, capturing more general notions of *similarity*.\n",
    "- No longer need coordinates!"
   ]
  },
  {
   "cell_type": "markdown",
   "metadata": {
    "slideshow": {
     "slide_type": "slide"
    }
   },
   "source": [
    "### Kernel Functions:  Definition\n",
    "\n",
    "A **kernel function** $\\kappa(x,x’)$ is intended to measure the similarity between $x$ and $x’$.\n",
    "- So far, we have used the standard inner product in the **transformed space**,\n",
    "    $$ \\kappa(x, x') = \\phi(x)^T \\phi(x')^T $$\n",
    "\n",
    "- In general, $\\kappa(x, x')$ is any symmetric positive-semidefinite function."
   ]
  },
  {
   "cell_type": "markdown",
   "metadata": {
    "slideshow": {
     "slide_type": "slide"
    }
   },
   "source": [
    "### Kernel Functions:  Implicit Feature Map\n",
    "\n",
    "For every valid kernel function $\\kappa(x, x')$,\n",
    "- there is an implicit feature mapping $\\phi(x)$\n",
    "- corresponding to an inner product $\\phi(x)^T \\phi(x')$ in some high-dimensional feature space\n",
    "\n",
    "This *incredible* result follows from **Mercer's Theorem**,\n",
    "- Generalizes the fact that *every positive-definite matrix corresponds to an inner product*\n",
    "- For more info, see Hsing & Eubank 2015, [\"Theoretical Foundations of Functional Data Analysis\"](http://www.wiley.com/WileyCDA/WileyTitle/productCd-0470016914.html)"
   ]
  },
  {
   "cell_type": "markdown",
   "metadata": {
    "slideshow": {
     "slide_type": "slide"
    }
   },
   "source": [
    "### Kernel Functions:  Simple Example\n",
    "\n",
    "**Kernel:** For $x = (x_1, x_2)$ and $z=(z_1, z_2)$, define\n",
    "$$\n",
    "\\begin{align}\n",
    "\\kappa(x, z)\n",
    "&= (x^Tz)^2 \\\\\n",
    "&= (x_1z_1 + x_2z_2)^2 \\\\\n",
    "&= x_1^2z_1^2 + 2x_1z_1x_2z_2 + x_2^2z_2^2 \n",
    "\\end{align}\n",
    "$$"
   ]
  },
  {
   "cell_type": "markdown",
   "metadata": {
    "slideshow": {
     "slide_type": "fragment"
    }
   },
   "source": [
    "**Mapping:**  Equivalent to the standard inner product when either\n",
    "$$\n",
    "\\begin{gather}\n",
    "\\phi(x) = (x_1^2, \\sqrt{2} x_1 x_2, x_2^2) \\\\\n",
    "\\phi(x) = (x_1^2, x_1 x_2, x_1 x_2, x_2^2)\n",
    "\\end{gather}\n",
    "$$\n",
    "\n",
    "> Implicit mapping is **not** unique!"
   ]
  },
  {
   "cell_type": "markdown",
   "metadata": {
    "slideshow": {
     "slide_type": "slide"
    }
   },
   "source": [
    "### Kernel Functions:  Polynomial Example\n",
    "\n",
    "**Kernel:** Higher-order polynomial of degree $p$,\n",
    "$$\n",
    "\\kappa(x,z)\n",
    "= (x^T z)^p\n",
    "= \\left( \\sum_{k=1}^M x_k z_k \\right)^p\n",
    "$$\n",
    "\n",
    "**Mapping:** Implicit feature vector $\\phi(x)$ contains all monomials of degree $p$"
   ]
  },
  {
   "cell_type": "markdown",
   "metadata": {
    "slideshow": {
     "slide_type": "slide"
    }
   },
   "source": [
    "### Kernel Functions:  Polynomial Example\n",
    "\n",
    "**Kernel:** Inhomogeneous polynomial up to degree $p$, for $c > 0$,\n",
    "$$\n",
    "\\kappa(x,z)\n",
    "= (x^T z + c)^p\n",
    "= \\left(c + \\sum_{k=1}^M x_k z_k \\right)^p\n",
    "$$\n",
    "\n",
    "**Mapping:** Implicit feature vector $\\phi(x)$ contains all monomials of degree $\\leq p$"
   ]
  },
  {
   "cell_type": "markdown",
   "metadata": {
    "slideshow": {
     "slide_type": "slide"
    }
   },
   "source": [
    "### Example: Handwritten Digits\n",
    "\n",
    "Take the pixel values and compute $\\kappa(x,z) = (x^Tz + 1)^p $\n",
    "- here, $x$ = $28 \\times 28 = 784$ pixels  \n",
    "\n",
    "<img src=\"images/hand_writ_example.png\" width=200px, align=\"middle\">\n",
    "\n",
    "You can compute the inner product in the space of all monomials up to degree $p$\n",
    "- (for $dim(x)=784$ and $p=4$ a $16G$ dimensional space!)"
   ]
  },
  {
   "cell_type": "markdown",
   "metadata": {
    "slideshow": {
     "slide_type": "slide"
    }
   },
   "source": [
    "### The Kernel Trick\n",
    "\n",
    "- By using different definitions for inner product, we can compute inner products in a high dimensional space, with only the computational complexity of a low dimensional space.\n",
    "- Many algorithms can be expressed completely in terms of kernels $\\kappa(x,x’)$, rather than other operations on $x$.\n",
    "- In this case, you can replace one kernel with another, and get a new algorithm that works over a different domain."
   ]
  },
  {
   "cell_type": "markdown",
   "metadata": {
    "slideshow": {
     "slide_type": "slide"
    }
   },
   "source": [
    "### Dual Representation and Kernel Trick\n",
    "\n",
    "* The dual representation, and its solutions, are entirely written in terms of kernels.\n",
    "\n",
    "* The elements of the Gram matrix  $ K =\\Phi \\Phi^T $\n",
    "$$ K_{ij} = \\kappa(x_i, x_j) = \\phi(x_i)^T \\phi(x_j) $$\n",
    "\n",
    "* These represent the pairwise similarities among all the observed feature vectors.\n",
    "    - We may be able to compute the kernels more efficiently than the feature vectors."
   ]
  },
  {
   "cell_type": "markdown",
   "metadata": {
    "slideshow": {
     "slide_type": "slide"
    }
   },
   "source": [
    "### Kernel Substitution\n",
    "\n",
    "* To use the kernel trick, we must formulate (training and test) algorithms purely in terms of inner products between data points\n",
    "\n",
    "* We can *not* access the coordinates of points in the high-dimensional feature space\n",
    "\n",
    "* This seems a huge limitation, but it turns out that quite a lot can be done"
   ]
  },
  {
   "cell_type": "markdown",
   "metadata": {
    "slideshow": {
     "slide_type": "slide"
    }
   },
   "source": [
    "### Example: Distance\n",
    "\n",
    "Distance between samples can be expressed in inner products:\n",
    "$$\n",
    "\\begin{align}\n",
    "||\\phi(x) - \\phi(z) ||^2\n",
    "&= \\langle\\phi(x)- \\phi(z), \\phi(x)- \\phi(z) \\rangle\\\\\n",
    "&= \\langle \\phi(x), \\phi(x)\\rangle - 2\\langle\\phi(x), \\phi(z)\\rangle + \\langle\\phi(z), \\phi(z) \\rangle \\\\\n",
    "&= \\kappa(x,x) - 2\\kappa(x,z) + \\kappa(z,z)\n",
    "\\end{align}\n",
    "$$\n",
    "\n",
    "Nothing stops you from doing **k-nearest neighbor searches** in high dimensional spaces\n",
    "> (Phew!!)"
   ]
  },
  {
   "cell_type": "markdown",
   "metadata": {
    "slideshow": {
     "slide_type": "slide"
    }
   },
   "source": [
    "### Example:  Mean\n",
    "\n",
    "**Question:**  Can you determine the mean of data in the mapped feature space through kernel operations only?"
   ]
  },
  {
   "cell_type": "markdown",
   "metadata": {
    "slideshow": {
     "slide_type": "fragment"
    }
   },
   "source": [
    "**Answer:** No, you cannot compute any point explicitly."
   ]
  },
  {
   "cell_type": "markdown",
   "metadata": {
    "slideshow": {
     "slide_type": "slide"
    }
   },
   "source": [
    "### Example:  Distance to the Mean\n",
    "\n",
    "* Mean of data points given by: $\\phi(s) = \\frac{1}{N}\\sum_{i=1}^{N}\\phi(x_i)$\n",
    "\n",
    "* Distance to the mean:\n",
    "$$\n",
    "\\begin{align}\n",
    "||\\phi(x) - \\phi_s ||^2\n",
    "&= \\langle\\phi(x)- \\phi_s, \\phi(x)- \\phi_s \\rangle\\\\\n",
    "&= \\langle \\phi(x), \\phi(x)\\rangle - 2\\langle\\phi(x), \\phi_s\\rangle + \\langle\\phi_s, \\phi_s \\rangle \\\\\n",
    "&= \\kappa(x,x) - \\frac{2}{N}\\sum_{i=1}^{N}\\kappa(x,x_i) + \\frac{1}{N^2}\\sum_{j=1}^{N}\\sum_{i=1}^{N}\\kappa(x_i,x_j)\n",
    "\\end{align}\n",
    "$$\n"
   ]
  },
  {
   "cell_type": "markdown",
   "metadata": {
    "slideshow": {
     "slide_type": "slide"
    }
   },
   "source": [
    "### Constructing Kernels\n",
    "\n",
    "**Method 1:** Explicitly define a feature space mapping $\\phi(x)$ and use **inner product kernel**\n",
    "$$\n",
    "\\kappa(x,x')\n",
    "= \\phi(x)^T \\phi(x')\n",
    "= \\sum_{i=1}^{M}\\phi_i(x) \\phi_i(x')\n",
    "$$"
   ]
  },
  {
   "cell_type": "markdown",
   "metadata": {
    "slideshow": {
     "slide_type": "slide"
    }
   },
   "source": [
    "### Constructing Kernels\n",
    "\n",
    "**Method 2:** Explicitly define a kernel $\\kappa(x,x')$ and identify the implicit feature map, e.g.\n",
    "$$\n",
    "\\kappa(x,z) = (x^Tz)^2\n",
    "\\quad \\implies \\quad\n",
    "\\phi(x) = (x_1^2, \\sqrt{2} x_1 x_2, x_2^2)\n",
    "$$\n",
    "\n",
    "> Kernels help us avoid the complexity of explicit feature mappings."
   ]
  },
  {
   "cell_type": "markdown",
   "metadata": {
    "slideshow": {
     "slide_type": "slide"
    }
   },
   "source": [
    "### Constructing Kernels\n",
    "\n",
    "**Method 3:** Define a similarity function $\\kappa(x, x')$ and use **Mercer's Condition** to verify that an implicit feature map *exists* without finding it.\n",
    "\n",
    "- Define the Gram matrix $K$ to have elements $K_{nm} = \\kappa(x_n,x_m)$\n",
    "- $K$ must **positive semidefinite** for all possible choices of the data set {$x_n$}\n",
    "$$\n",
    "a^TKa\n",
    "\\equiv \\sum_{i}\\sum_{j} a_i K_{ij} a_j \\geq 0 \\quad \\forall\\, a \\in \\R^n\n",
    "$$ "
   ]
  },
  {
   "cell_type": "markdown",
   "metadata": {
    "slideshow": {
     "slide_type": "slide"
    }
   },
   "source": [
    "### Constructing Kernels:  Building Blocks\n",
    "\n",
    "There are a number of axioms that help us construct new, more complex kernels, from simpler known kernels. \n",
    "- Check out **[PRML]** Chapter 6\n",
    "- Prove these as an exercise!\n",
    "\n",
    "For example, the following are kernels:\n",
    "$$\n",
    "\\begin{align}\n",
    "\\kappa(x, x') &= f(x) \\kappa_1(x,x') f(x') \\\\\n",
    "\\kappa(x, x') &= \\exp( \\kappa_1(x, x') ) \\\\\n",
    "\\kappa(x, x') &= \\exp\\left( - \\frac{|| x - x' ||^2 }{2\\sigma^2} \\right)\n",
    "\\end{align}\n",
    "$$"
   ]
  },
  {
   "cell_type": "markdown",
   "metadata": {
    "slideshow": {
     "slide_type": "slide"
    }
   },
   "source": [
    "### Popular Kernel Functions\n",
    "\n",
    "Simple Polynomial Kernel (terms of degree $2$)\n",
    "$$\\kappa(x,z) = (x^Tz)^2 $$\n",
    "\n",
    "Generalized Polynomial Kernel (degree $M$)\n",
    "$$\\kappa(x,z) = (x^Tz + c)^M, c > 0 $$\n",
    "\n",
    "Gaussian Kernels\n",
    "$$ \\kappa(x,z) = exp \\left\\{-\\frac{||x-z||^2}{2\\sigma^2} \\right\\} $$"
   ]
  },
  {
   "cell_type": "markdown",
   "metadata": {
    "slideshow": {
     "slide_type": "slide"
    }
   },
   "source": [
    "### Gaussian Kernel\n",
    "\n",
    "> **Not related to Gaussian pdf!**\n",
    "\n",
    "* Translation invariant (depends only on distance between points)\n",
    "\n",
    "* Corresponds to an infinitely dimensional space!\n",
    "    - **Important:** Do PRML Exercise 6.11"
   ]
  }
 ],
 "metadata": {
  "celltoolbar": "Slideshow",
  "kernelspec": {
   "display_name": "Python 3",
   "language": "python",
   "name": "python3"
  },
  "language_info": {
   "codemirror_mode": {
    "name": "ipython",
    "version": 3
   },
   "file_extension": ".py",
   "mimetype": "text/x-python",
   "name": "python",
   "nbconvert_exporter": "python",
   "pygments_lexer": "ipython3",
   "version": "3.5.1"
  },
  "toc": {
   "toc_cell": false,
   "toc_number_sections": true,
   "toc_threshold": 4,
   "toc_window_display": false
  }
 },
 "nbformat": 4,
 "nbformat_minor": 0
}
