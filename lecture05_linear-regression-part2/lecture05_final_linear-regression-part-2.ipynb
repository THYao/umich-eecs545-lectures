{
 "cells": [
  {
   "cell_type": "code",
   "execution_count": 1,
   "metadata": {
    "collapsed": false,
    "slideshow": {
     "slide_type": "skip"
    }
   },
   "outputs": [
    {
     "data": {
      "text/plain": [
       "{u'start_slideshow_at': 'selected', u'theme': 'simple', u'transition': u'none'}"
      ]
     },
     "execution_count": 1,
     "metadata": {},
     "output_type": "execute_result"
    }
   ],
   "source": [
    "# plotting\n",
    "%matplotlib inline\n",
    "from matplotlib import pyplot as plt;\n",
    "if \"bmh\" in plt.style.available: plt.style.use(\"bmh\");\n",
    "\n",
    "# scientific\n",
    "import numpy as np;\n",
    "import scipy as scp;\n",
    "import scipy.stats;\n",
    "\n",
    "# rise config\n",
    "from notebook.services.config import ConfigManager\n",
    "cm = ConfigManager()\n",
    "cm.update('livereveal', {\n",
    "              'theme': 'simple',\n",
    "              'start_slideshow_at': 'selected',\n",
    "})"
   ]
  },
  {
   "cell_type": "markdown",
   "metadata": {
    "slideshow": {
     "slide_type": "slide"
    }
   },
   "source": [
    "# EECS 545:  Machine Learning\n",
    "## Lecture 05:  Linear Regression II\n",
    "* Instructor:  **Jacob Abernethy**\n",
    "* Date:  January 25, 2015\n",
    "\n",
    "*Lecture Exposition Credit: Benjamin Bray*"
   ]
  },
  {
   "cell_type": "markdown",
   "metadata": {
    "slideshow": {
     "slide_type": "slide"
    }
   },
   "source": [
    "## Logistics\n",
    "* HW1 due today! HW2 released tonight.\n",
    "* HW2 requires submission to a *Kaggle* contest (more soon)\n",
    "* Coming up on Wed.:\n",
    "    * New method of serving lecture materials\n",
    "    * Opportunities for extra credit + improving course materials\n",
    "* No class on February 3!"
   ]
  },
  {
   "cell_type": "markdown",
   "metadata": {
    "slideshow": {
     "slide_type": "slide"
    }
   },
   "source": [
    "### Outline for today\n",
    "\n",
    "- Review of Least Squares and curve fitting\n",
    "- Overfitting + Regularization + Least Squares\n",
    "- Review of Maximum Likelihood estimation\n",
    "- Maximum Likelihood interpretation of linear regression\n",
    "- Locally-weighted linear regression\n",
    "- Logistic Regression"
   ]
  },
  {
   "cell_type": "markdown",
   "metadata": {
    "slideshow": {
     "slide_type": "slide"
    }
   },
   "source": [
    "## Least Squares:  Gradient via Matrix Calculus\n",
    "\n",
    "- Compute the gradient and set to zero\n",
    "\n",
    "$$\n",
    "\\begin{align}\n",
    "\\nabla_w E(w) &= \\nabla_w \\left[ \\frac{1}{2} w^T \\Phi^T \\Phi w - w^T \\Phi^T t + \\frac{1}{2} t^T t \\right] \\\\\n",
    "&= \\Phi^T \\Phi w - \\Phi^T t = 0\n",
    "\\end{align}\n",
    "$$\n",
    "\n",
    "- Solve the resulting **normal equation**:\n",
    "    $$\n",
    "    \\Phi^T \\Phi w = \\Phi^T t \\\\\n",
    "    w_{ML} = (\\Phi^T \\Phi)^{-1} \\Phi^T t\n",
    "    $$\n",
    "\n",
    "> This is the *Moore-Penrose pseudoinverse*, $\\Phi^\\dagger = (\\Phi^T \\Phi)^{-1} \\Phi^T$ applied to solve the linear system $\\Phi w \\approx t$."
   ]
  },
  {
   "cell_type": "markdown",
   "metadata": {
    "slideshow": {
     "slide_type": "slide"
    }
   },
   "source": [
    "## Back to curve-fitting examples..."
   ]
  },
  {
   "cell_type": "markdown",
   "metadata": {
    "slideshow": {
     "slide_type": "slide"
    }
   },
   "source": [
    "## Polynomial Curve Fitting"
   ]
  },
  {
   "cell_type": "code",
   "execution_count": 2,
   "metadata": {
    "collapsed": false
   },
   "outputs": [
    {
     "data": {
      "image/png": "[encoded data removed]",
      "text/plain": [
       "<matplotlib.figure.Figure at 0x1a84b080>"
      ]
     },
     "metadata": {},
     "output_type": "display_data"
    }
   ],
   "source": [
    "# plot sine wave\n",
    "xx = np.linspace(0, 2*np.pi, 100);\n",
    "plt.plot(xx, np.sin(xx), '-g');\n",
    "# plot data\n",
    "x = np.linspace(0, 2*np.pi, 13);\n",
    "y = np.sin(x) + np.random.randn(x.shape[0]) / 5;\n",
    "plt.plot(x,y, 'or');"
   ]
  },
  {
   "cell_type": "markdown",
   "metadata": {},
   "source": [
    "$$y(x, w) = w_0 + w_1x + w_2 x^2 + \\cdots + w_M x^M = \\sum_{j=0}^M w_j x^j$$"
   ]
  },
  {
   "cell_type": "markdown",
   "metadata": {
    "slideshow": {
     "slide_type": "slide"
    }
   },
   "source": [
    "## 0th Order Polynomial"
   ]
  },
  {
   "cell_type": "code",
   "execution_count": 3,
   "metadata": {
    "collapsed": false,
    "slideshow": {
     "slide_type": "-"
    }
   },
   "outputs": [
    {
     "data": {
      "image/png": "[encoded data removed]",
      "text/plain": [
       "<matplotlib.figure.Figure at 0x3e03be0>"
      ]
     },
     "metadata": {},
     "output_type": "display_data"
    }
   ],
   "source": [
    "coeffs = np.polyfit(x, y, 0);\n",
    "poly = np.poly1d(coeffs);\n",
    "plt.plot(xx, np.sin(xx), \"-g\", x, y, \"or\", xx, poly(xx), \"-b\");"
   ]
  },
  {
   "cell_type": "markdown",
   "metadata": {
    "slideshow": {
     "slide_type": "slide"
    }
   },
   "source": [
    "## 3rd Order Polynomial"
   ]
  },
  {
   "cell_type": "code",
   "execution_count": 4,
   "metadata": {
    "collapsed": false
   },
   "outputs": [
    {
     "data": {
      "image/png": "[encoded data removed]",
      "text/plain": [
       "<matplotlib.figure.Figure at 0x1ad1a3c8>"
      ]
     },
     "metadata": {},
     "output_type": "display_data"
    }
   ],
   "source": [
    "coeffs = np.polyfit(x, y, 3);\n",
    "poly = np.poly1d(coeffs);\n",
    "plt.plot(xx, np.sin(xx), \"-g\", x, y, \"or\", xx, poly(xx), \"-b\");"
   ]
  },
  {
   "cell_type": "markdown",
   "metadata": {
    "slideshow": {
     "slide_type": "slide"
    }
   },
   "source": [
    "## 12th Order Polynomial"
   ]
  },
  {
   "cell_type": "code",
   "execution_count": 5,
   "metadata": {
    "collapsed": false
   },
   "outputs": [
    {
     "data": {
      "image/png": "[encoded data removed]",
      "text/plain": [
       "<matplotlib.figure.Figure at 0x1ab640f0>"
      ]
     },
     "metadata": {},
     "output_type": "display_data"
    }
   ],
   "source": [
    "coeffs = np.polyfit(x, y, 12);\n",
    "poly = np.poly1d(coeffs);\n",
    "plt.plot(xx, np.sin(xx), \"-g\", x, y, \"or\", xx, poly(xx), \"-b\");"
   ]
  },
  {
   "cell_type": "markdown",
   "metadata": {
    "slideshow": {
     "slide_type": "slide"
    }
   },
   "source": [
    "## Overfitting\n",
    "\n",
    "![Overfitting](images/overfitting.png)\n",
    "\n",
    "Root-Mean-Square (RMS) Error:  $E_{RMS} = \\sqrt{2E(w^*) / N}$"
   ]
  },
  {
   "cell_type": "markdown",
   "metadata": {
    "slideshow": {
     "slide_type": "slide"
    }
   },
   "source": [
    "## Polynomial Coefficients\n",
    "\n",
    "![Polynomial Coefficients](images/polynomial-coefficients.png)"
   ]
  },
  {
   "cell_type": "markdown",
   "metadata": {
    "slideshow": {
     "slide_type": "slide"
    }
   },
   "source": [
    "## Data Set Size:  $N = 15$\n",
    "\n",
    "(12th order polynomial)"
   ]
  },
  {
   "cell_type": "code",
   "execution_count": 6,
   "metadata": {
    "collapsed": false
   },
   "outputs": [
    {
     "data": {
      "image/png": "[encoded data removed]",
      "text/plain": [
       "<matplotlib.figure.Figure at 0x1b11b550>"
      ]
     },
     "metadata": {},
     "output_type": "display_data"
    }
   ],
   "source": [
    "# sine wave\n",
    "xx = np.linspace(0, 2*np.pi, 100);\n",
    "# data\n",
    "N = 15;\n",
    "x = np.linspace(0, 2*np.pi, N);\n",
    "y = np.sin(x) + np.random.randn(x.shape[0]) / 5;\n",
    "# fit\n",
    "coeffs = np.polyfit(x, y, 12); poly = np.poly1d(coeffs);\n",
    "# plt.bar(range(13),coeffs);\n",
    "plt.plot(xx, np.sin(xx), \"-g\", x, y, \"or\", xx, poly(xx), \"-b\");"
   ]
  },
  {
   "cell_type": "markdown",
   "metadata": {
    "slideshow": {
     "slide_type": "slide"
    }
   },
   "source": [
    "## Data Set Size:  $N = 100$\n",
    "\n",
    "(12th order polynomial)"
   ]
  },
  {
   "cell_type": "code",
   "execution_count": 7,
   "metadata": {
    "collapsed": false,
    "scrolled": true
   },
   "outputs": [
    {
     "data": {
      "image/png": "[encoded data removed]",
      "text/plain": [
       "<matplotlib.figure.Figure at 0x1a82ccf8>"
      ]
     },
     "metadata": {},
     "output_type": "display_data"
    }
   ],
   "source": [
    "# sine wave\n",
    "xx = np.linspace(0, 2*np.pi, 100);\n",
    "# data\n",
    "N = 100;\n",
    "x = np.linspace(0, 2*np.pi, N);\n",
    "y = np.sin(x) + np.random.randn(x.shape[0]) / 5;\n",
    "# fit\n",
    "coeffs = np.polyfit(x, y, 12);\n",
    "poly = np.poly1d(coeffs);\n",
    "plt.plot(xx, np.sin(xx), \"-g\", x, y, \"or\", xx, poly(xx), \"-b\");"
   ]
  },
  {
   "cell_type": "markdown",
   "metadata": {
    "slideshow": {
     "slide_type": "slide"
    }
   },
   "source": [
    "# How do we choose the degree of our polynomial?"
   ]
  },
  {
   "cell_type": "markdown",
   "metadata": {
    "slideshow": {
     "slide_type": "slide"
    }
   },
   "source": [
    "## Rule of Thumb\n",
    "\n",
    "- For a small number of datapoints, use a low degree\n",
    "    - Otherwise, the model will overfit!\n",
    "- As you obtain more data, you can gradually increase the degree\n",
    "    - Add more features to represent more data\n",
    "    - **Warning:**  Your model is still limited by the finite amount of data available.  The optimal model for finite data cannot be an infinite-dimensional polynomial!)\n",
    "- Use **regularization** to control model complexity."
   ]
  },
  {
   "cell_type": "markdown",
   "metadata": {
    "slideshow": {
     "slide_type": "slide"
    }
   },
   "source": [
    "# Regularized Linear Regression"
   ]
  },
  {
   "cell_type": "markdown",
   "metadata": {
    "slideshow": {
     "slide_type": "slide"
    }
   },
   "source": [
    "## Regularized Least Squares\n",
    "\n",
    "- Consider the error function $E_D(w) + \\lambda E_W(w)$\n",
    "    - Data term $E_D(w)$\n",
    "    - Regularization term $E_W(w)$\n",
    "- With the sum-of-squares error function and quadratic regularizer,\n",
    "$$\n",
    "    \\widetilde{E}(w) = \\frac{1}{2} \\sum_{n=1}^N (y(x_n, w) - t_n)^2 +\n",
    "    \\boxed{\\frac{\\lambda}{2} || w ||^2}\n",
    "$$\n",
    "\n",
    "- This is minimized by\n",
    "\n",
    "    $$\n",
    "    w = (\\lambda I + \\Phi^T \\Phi)^{-1} \\Phi^T t\n",
    "    $$"
   ]
  },
  {
   "cell_type": "markdown",
   "metadata": {
    "slideshow": {
     "slide_type": "slide"
    }
   },
   "source": [
    "## Regularized Least Squares:  Derivation\n",
    "\n",
    "Recall that our objective function is\n",
    "\n",
    "$$\\begin{eqnarray}\n",
    "    E(w)\n",
    "    &=& \\frac{1}{2} \\sum_{n=1}^N (w^T \\phi(x^{(n)}) - t^{(n)})^2 + \\frac{\\lambda}{2} w^T w \\\\\n",
    "    &=& \\frac{1}{2} w^T \\Phi^T \\Phi w - w^T \\Phi^T t + \\frac{1}{2} t^T t + \\frac{\\lambda}{2} w^T w\n",
    "    \\end{eqnarray}$$"
   ]
  },
  {
   "cell_type": "markdown",
   "metadata": {
    "slideshow": {
     "slide_type": "slide"
    }
   },
   "source": [
    "## Regularized Least Squares:  Derivation\n",
    "\n",
    "Compute gradient and set to zero:\n",
    "\n",
    "$$\n",
    "\\begin{align}\n",
    "\\nabla_w E(w)\n",
    "&= \\nabla_w \\left[ \n",
    "       \\frac{1}{2} w^T \\Phi^T \\Phi w - w^T \\Phi^T t + \\frac{1}{2} t^T t \n",
    "       + \\frac{\\lambda}{2} w^T w\n",
    "   \\right] \\\\\n",
    "&= \\Phi^T \\Phi w - \\Phi^T t + \\lambda w \\\\\n",
    "&= (\\Phi^T \\Phi + \\lambda I) w - \\Phi^T t = 0\n",
    "\\end{align}\n",
    "$$\n",
    "\n",
    "Therefore, we get $\\boxed{w_{ML} = (\\Phi^T \\Phi + \\lambda I)^{-1} \\Phi^T t}$"
   ]
  },
  {
   "cell_type": "markdown",
   "metadata": {
    "slideshow": {
     "slide_type": "slide"
    }
   },
   "source": [
    "## Regularized Least Squares:  Norms\n",
    "\n",
    "We can make use of the various $L_p$ norms for different regularizers:\n",
    "\n",
    "$$\n",
    "\\widetilde{E}(w)\n",
    "= \\frac{1}{2} \\sum_{n=1}^N (t_n - w^T \\phi(x_n))^2\n",
    "+ \\frac{\\lambda}{2} \\sum_{j=1}^M |w_j|^q\n",
    "$$\n",
    "\n",
    "![Norms](images/p-norms.png)"
   ]
  },
  {
   "cell_type": "markdown",
   "metadata": {
    "slideshow": {
     "slide_type": "slide"
    }
   },
   "source": [
    "## Regularized Least Squares:  Comparison\n",
    "\n",
    "*Lasso* tends to generate sparser solutions than a quadratic regularizer (more on Lasso later)\n",
    "\n",
    "![Regularization](images/lasso-vs-ridge.png)"
   ]
  },
  {
   "cell_type": "markdown",
   "metadata": {
    "slideshow": {
     "slide_type": "slide"
    }
   },
   "source": [
    "## L2 Regularization:  $\\lambda = e^{-18}$\n",
    "\n",
    "![L2 Regularization](images/l2-reg-lambda-18.png)"
   ]
  },
  {
   "cell_type": "markdown",
   "metadata": {
    "slideshow": {
     "slide_type": "slide"
    }
   },
   "source": [
    "## L2 Regularization:  $\\lambda = 1$\n",
    "\n",
    "![L2 Regularization](images/l2-reg-lambda-0.png)"
   ]
  },
  {
   "cell_type": "markdown",
   "metadata": {
    "slideshow": {
     "slide_type": "slide"
    }
   },
   "source": [
    "## L2 Regularization:  $E_{RMS}$ vs $\\ln\\lambda$\n",
    "\n",
    "![E_RMS vs ln(lambda)](images/l2-reg-erms-vs-lambda.png)\n",
    "\n",
    "*NOTE: For simplicity of presentation, we divided the data into training set and test set. However, it’s not legitimate to find the optimal hyperparameter based on the test set. We will talk about legitimate ways of doing this when we cover model selection and cross-validation.*"
   ]
  },
  {
   "cell_type": "markdown",
   "metadata": {
    "slideshow": {
     "slide_type": "slide"
    }
   },
   "source": [
    "## L2 Regularization:  Polynomial Coefficients\n",
    "\n",
    "![Polynomial Coefficients](images/l2-reg-coeffs.png)"
   ]
  },
  {
   "cell_type": "markdown",
   "metadata": {
    "slideshow": {
     "slide_type": "slide"
    }
   },
   "source": [
    "## Regularized Least Squares:  Summary\n",
    "\n",
    "- Simple modification of linear regression\n",
    "- L2 Regularization controls the tradeoff between *fitting error* and *complexity*.\n",
    "    - Small L2 regularization results in complex models, but with risk of overfitting\n",
    "    - Large L2 regularization results in simple models, but with risk of underfitting\n",
    "- It is important to find an optimal regularization that *balances* between the two"
   ]
  },
  {
   "cell_type": "markdown",
   "metadata": {
    "slideshow": {
     "slide_type": "slide"
    }
   },
   "source": [
    "## Break time!\n",
    "\n",
    "<img src=\"http://a3.files.blazepress.com/image/upload/MTMzODU0OTIwNTY5ODQzNjgy.gif\"/>"
   ]
  },
  {
   "cell_type": "markdown",
   "metadata": {
    "slideshow": {
     "slide_type": "slide"
    }
   },
   "source": [
    "### Maximum Likelihood & MAP\n",
    "\n",
    "**Maximum Likelihood:** Pick the parameters under which the data is most probable under our model.\n",
    "\n",
    "$$\n",
    "w_{ML} = \\arg\\max_w P(\\mathcal{X} | w)\n",
    "$$\n",
    "\n",
    "**Maximum a Posteriori:** Pick the parameters under which the data is most probable, weighted by our prior beliefs.\n",
    "\n",
    "$$\n",
    "w_{MAP} = \\arg\\max_w P(\\mathcal{X} | w) P(w)\n",
    "$$\n"
   ]
  },
  {
   "cell_type": "markdown",
   "metadata": {
    "slideshow": {
     "slide_type": "slide"
    }
   },
   "source": [
    "# Maximum Likelihood Interpretation of Least Squares Regression"
   ]
  },
  {
   "cell_type": "markdown",
   "metadata": {
    "collapsed": true,
    "slideshow": {
     "slide_type": "slide"
    }
   },
   "source": [
    "### Gaussian Distribution\n",
    "\n",
    "$$ \n",
    "\\mathcal{N}(x, \\mu, \\sigma^2) = \\frac{1}{\\sqrt{2\\pi\\sigma^2}} \\exp\\left[ \\frac{(x-\\mu)^2}{2\\sigma^2} \\right]\n",
    "$$"
   ]
  },
  {
   "cell_type": "markdown",
   "metadata": {},
   "source": [
    "> **TIP:**  Scipy contains useful methods for dealing with common distributions in the [`scipy.stats` module](http://docs.scipy.org/doc/scipy/reference/tutorial/stats.html)!"
   ]
  },
  {
   "cell_type": "markdown",
   "metadata": {
    "slideshow": {
     "slide_type": "slide"
    }
   },
   "source": [
    "### Gaussian Distribution"
   ]
  },
  {
   "cell_type": "code",
   "execution_count": 8,
   "metadata": {
    "collapsed": false,
    "scrolled": true
   },
   "outputs": [
    {
     "data": {
      "text/plain": [
       "[<matplotlib.lines.Line2D at 0x1ade7048>]"
      ]
     },
     "execution_count": 8,
     "metadata": {},
     "output_type": "execute_result"
    },
    {
     "data": {
      "image/png": "[encoded data removed]",
      "text/plain": [
       "<matplotlib.figure.Figure at 0x1b85aac8>"
      ]
     },
     "metadata": {},
     "output_type": "display_data"
    }
   ],
   "source": [
    "# parameters\n",
    "mean, variance = 0, 5;\n",
    "xvals = np.linspace(mean-5, mean+5, 100);\n",
    "# get pdf from scipy.stats\n",
    "plt.plot(xvals, scp.stats.norm.pdf(xvals))"
   ]
  },
  {
   "cell_type": "markdown",
   "metadata": {
    "slideshow": {
     "slide_type": "slide"
    }
   },
   "source": [
    "### Maximum Likelihood $w$\n",
    "\n",
    "- Assume a stochastic model \n",
    "$$\n",
    "\\begin{gather}\n",
    "t = y(x,w) + \\epsilon =w^T\\phi(x) + \\epsilon \\\\ \\epsilon \\sim \\mathcal{N}(0, \\beta^{-1})\n",
    "\\end{gather}\n",
    "$$\n",
    "\n",
    "- This gives the following **likelihood function**:\n",
    "$$\n",
    "p(t|x,w,\\beta) = \\mathcal{N}(t|y(x,w),\\beta^{-1})=\\mathcal{N}(t|w^T\\phi(x),\\beta^{-1})\n",
    "$$"
   ]
  },
  {
   "cell_type": "markdown",
   "metadata": {
    "slideshow": {
     "slide_type": "slide"
    }
   },
   "source": [
    "### Maximum Likelihood $w$\n",
    "\n",
    "- With inputs $X=(x_1, \\dots, x_n)$ and target values $t=(t_1,\\dots,t_n)$, the data likelihood is\n",
    "$$\n",
    "p(t|X,w,\\beta) \n",
    "= \\prod_{n=1}^N \\mathcal{N}(t_n|w^T\\phi(x_n),\\beta^{-1})\n",
    "= \\prod_{n=1}^N \\left[ \\sqrt{\\frac{\\beta}{2\\pi}}e^{-\\frac{\\beta}{2}(t_n-w^T\\phi(x_n))^2}  \\right]\n",
    "=(\\frac{\\beta}{2\\pi})^{\\frac{N}{2}}exp({-\\frac{\\beta}{2}\\sum_{n=1}^N(t_n-w^T\\phi(x_n))^2})\n",
    "$$"
   ]
  },
  {
   "cell_type": "markdown",
   "metadata": {
    "slideshow": {
     "slide_type": "slide"
    }
   },
   "source": [
    "### Log Likelihood\n",
    "\n",
    "- We will now show that the log likelihood is\n",
    "$$\n",
    "\\ln p(t|X,w,\\beta) = \\frac{N}{2} \\ln\\beta - \\frac{N}{2} \\ln{2\\pi}- \\beta E_D(w)\n",
    "$$\n",
    "    - where $E_D(w) = \\frac{1}{2} \\sum_{n=1}^N \\left[ t_n-w^T\\phi(x_n) \\right]^2$\n",
    "    \n",
    "> **Note:**  Bishop book drops $X$ from the notation"
   ]
  },
  {
   "cell_type": "markdown",
   "metadata": {
    "slideshow": {
     "slide_type": "slide"
    }
   },
   "source": [
    "### Details of Derivation\n",
    "\n",
    "From $P(t| x,w) = \\sqrt\\frac{\\beta}{2\\pi} \\exp(-\\beta || t-w^T \\phi(x) ||^2)$ we have\n",
    "$$\n",
    "\\begin{align}\n",
    "&\\;  \\log P(t_1, \\dots, t_N | x,w) \\\\\n",
    "=&\\; \\log \\prod_{k=1}^N \\mathcal{N}(t_k| w^T \\phi(x^{(k)}), \\beta^{-1}) \\\\\n",
    "=& \\sum_{k=1}^N \\log \\left[ \\sqrt\\frac{\\beta}{2\\pi} \\exp(-\\beta\\cdot || t_k-w^T \\phi(x^{(k)}) ||^2) \\right]\n",
    "\\end{align}\n",
    "$$"
   ]
  },
  {
   "cell_type": "markdown",
   "metadata": {
    "slideshow": {
     "slide_type": "slide"
    }
   },
   "source": [
    "### Details of Derivation\n",
    "\n",
    "$$\n",
    "\\begin{align}\n",
    "=&\\; \\sum_{k=1}^N \\log \\left[ \\sqrt\\frac{\\beta}{2\\pi} \\exp(-\\beta\\cdot ( t_k-w^T \\phi(x^{(k)}) )^2) \\right] \\\\\n",
    "=&\\; \\sum_{k=1}^N \\left[ \\frac{1}{2} \\log\\beta - \\frac{1}{2}\\log{2\\pi} - \\frac{\\beta}{2}( t_k - w^T\\phi(x_k) )^2 \\right] \\\\\n",
    "=&\\; \\frac{N}{2} \\log\\beta - \\frac{N}{2} \\log{2\\pi} - \\sum_{k=1}^N \\frac{\\beta}{2}( t_k - w^T\\phi(x_k) )^2 \\\\\n",
    "\\end{align}\n",
    "$$"
   ]
  },
  {
   "cell_type": "markdown",
   "metadata": {
    "slideshow": {
     "slide_type": "slide"
    }
   },
   "source": [
    "### Maximize the Likelihood\n",
    "\n",
    "- Maximizing the likelihood is equivalent to **minimizing the sum of squared errors**\n",
    "\n",
    "- Set gradient log-likelihood to zero,\n",
    "$$\n",
    "\\begin{align}\n",
    "\\nabla_w \\ln p(t | w, \\beta)\n",
    "&= \\nabla_w \\left[ \\frac{N}{2}\\log\\beta - \\frac{N}{2}\\log{2\\pi} - \\sum_{n=1}^N \\frac{\\beta}{2} \\left( t_n - w^T \\phi(x_n) \\right)^2 \\right] = 0 \\\\\n",
    "&\\Rightarrow \\nabla_w \\left[ -\\sum_{n=1}^N  \\frac{\\beta}{2} \\left( t_n - w^T \\phi(x_n) \\right)^2 \\right] \\\\\n",
    "&= \\sum_{n=1}^N \\nabla_w \\left[ -\\frac{\\beta}{2} \\left( t_n - w^T \\phi(x_n) \\right)^2 \\right] \\\\\n",
    "&= \\sum_{n=1}^N -\\beta \\left[ t_n - w^T \\phi(x_n) \\right] (-\\phi(x_n)^T) \\\\\n",
    "&= \\beta \\sum_{n=1}^N \\left[ t_n - w^T \\phi(x_n) \\right] \\phi(x_n)^T = 0 \\\\\n",
    "&\\Rightarrow \\sum_{n=1}^N \\left[ t_n - w^T \\phi(x_n) \\right] \\phi(x_n)^T = 0\n",
    "\\end{align}\n",
    "$$"
   ]
  },
  {
   "cell_type": "markdown",
   "metadata": {
    "slideshow": {
     "slide_type": "fragment"
    }
   },
   "source": [
    "$$\n",
    "0 = \\sum_{n=1}^N t_n \\phi(x_n)^T - w^T \\left[ \\sum_{n=1}^N \\phi(x_n) \\phi(x_n)^T \\right]\n",
    "$$\n",
    "\n",
    "This is summarized by the relation $\\boxed{ (\\Phi^T t)^T = w^T (\\Phi^T \\Phi)}$"
   ]
  },
  {
   "cell_type": "markdown",
   "metadata": {
    "slideshow": {
     "slide_type": "slide"
    }
   },
   "source": [
    "### Regularized Least Squares\n",
    "\n",
    "- Consider the regularized error function $$E_D(w) + \\lambda E_W(w)$$\n",
    "- With squared error and $L_2$ regularization, we get\n",
    "    $$\n",
    "    \\widetilde{E}(w) = \\frac{1}{2} \\sum_{n=1}^N ( y(x_n, w) - t_n )^2 + \\frac{\\lambda}{2} || w ||^2\n",
    "    $$\n",
    "- Solving regularized least squares can be viewed as a MAP estimate of $w$ with a **Gaussian prior** on $w$,\n",
    "    $$\n",
    "    p(w)\n",
    "    = \\mathcal{N}(0, \\lambda^{-1}I) \n",
    "    \\propto \\exp(-\\frac{\\lambda}{2} ||w||^2 )\n",
    "    $$"
   ]
  },
  {
   "cell_type": "markdown",
   "metadata": {
    "slideshow": {
     "slide_type": "slide"
    }
   },
   "source": [
    "# Locally-Weighted Linear Regression"
   ]
  },
  {
   "cell_type": "markdown",
   "metadata": {
    "slideshow": {
     "slide_type": "slide"
    }
   },
   "source": [
    "### Locally-Weighted Linear Regression\n",
    "\n",
    "**Main Idea:**  When predicting $f(x)$, give high weights for *neighbors* of $x$.\n",
    "\n",
    "<img src=\"images/locally-weighted-regression.png\">"
   ]
  },
  {
   "cell_type": "markdown",
   "metadata": {
    "slideshow": {
     "slide_type": "slide"
    }
   },
   "source": [
    "### Regular vs. Locally-Weighted Linear Regression\n",
    "\n",
    "<img src=\"images/lwlr-comparison.png\">\n",
    "\n",
    "The point around query x has higher weight. "
   ]
  },
  {
   "cell_type": "markdown",
   "metadata": {
    "slideshow": {
     "slide_type": "slide"
    }
   },
   "source": [
    "### Regular vs. Locally-Weighted Linear Regression\n",
    "\n",
    "**Linear Regression**\n",
    "<div style=\"border: 1px solid black; display: block; padding: 15px; margin: 10px 0\">\n",
    "1. Fit $w$ to minimize $\\sum_{k} (t_k - w^T \\phi(x_k) )^2$\n",
    "<br>\n",
    "2. Output $w^T \\phi(x_k)$\n",
    "</div>\n",
    "\n",
    "**Locally-weighted Linear Regression**\n",
    "<div style=\"border: 1px solid black; display: block; padding: 15px; margin: 10px 0\">\n",
    "1. Fit $w$ to minimize $\\sum_{k} r_k (t_k - w^T \\phi(x_k) )^2$ for some weights $r_k$\n",
    "<br>\n",
    "2. Output $w^T \\phi(x_k)$\n",
    "</div>"
   ]
  },
  {
   "cell_type": "markdown",
   "metadata": {
    "slideshow": {
     "slide_type": "slide"
    }
   },
   "source": [
    "### Locally-Weighted Linear Regression\n",
    "\n",
    "- The standard choice for weights $r$ uses the **Gaussian Kernel**, with **kernel width** $\\tau$\n",
    "    $$\n",
    "    r_k = \\exp\\left( -\\frac{|| x_k - x ||^2}{2\\tau^2} \\right)\n",
    "    $$\n",
    "- $\\tau$: decide the decaying speed of $|| x_k - x ||^2$. The value of $\\tau$ goes up, the decaying speed of $|| x_k - x ||^2$ goes down. (See the picture next slide)\n",
    "- Note $r_k$ depends on both $x$ (query point); must solve linear regression for each query point $x$.\n",
    "- Therefore, we can have $r_k$ for each point $x_k$ with respect to query point $x$\n",
    "- Can be reformulated as a modified version of least squares problem."
   ]
  },
  {
   "cell_type": "markdown",
   "metadata": {
    "slideshow": {
     "slide_type": "slide"
    }
   },
   "source": [
    "### Locally-Weighted Linear Regression\n",
    "\n",
    "- Choice of kernel width matters.\n",
    "    - (requires hyperparameter tuning!)\n",
    "\n",
    "<img src=\"images/lwlr-kernel-width.png\">\n",
    "\n",
    "> The widest curve has largest $\\tau$  \n",
    "> The estimator is minimized when kernel includes as many training points as can be accomodated by the model.  Too large a kernel includes points that degrade the fit; too small a kernel neglects points that increase confidence in the fit."
   ]
  },
  {
   "cell_type": "markdown",
   "metadata": {
    "slideshow": {
     "slide_type": "slide"
    }
   },
   "source": [
    "# Supervised Learning\n",
    "## Classification"
   ]
  },
  {
   "cell_type": "markdown",
   "metadata": {
    "slideshow": {
     "slide_type": "slide"
    }
   },
   "source": [
    "### Supervised Learning\n",
    "\n",
    "- Goal:\n",
    "    - Given data $X$ in feature space with labels $Y$\n",
    "    - Learn to predict $Y$ from $X$\n",
    "- Labels could be discrete or continuous\n",
    "    - **Discrete:**  Classification\n",
    "    - **Continuous:**  Regression\n",
    "\n",
    "<img src=\"images/classification-regression.png\">"
   ]
  },
  {
   "cell_type": "markdown",
   "metadata": {
    "slideshow": {
     "slide_type": "slide"
    }
   },
   "source": [
    "### Classification Problem:  Representation\n",
    "\n",
    "- Given an input vector $x$, assign it to one of $K$ distinct classes $C_k$, where $k = 1,\\dots,K$.\n",
    "- The case $K=2$ is **Binary Classification**\n",
    "    - $t=1$ means $x \\in C_1$\n",
    "    - $t=0$ means $x \\in C_2$ (or sometimes $t=-1$\n",
    "- For the case $K > 2$, use **one-hot encoding**,\n",
    "    $$\n",
    "    t = (0,1,0,\\dots,0,0)^T \\implies x \\in C_2\n",
    "    $$"
   ]
  },
  {
   "cell_type": "markdown",
   "metadata": {
    "slideshow": {
     "slide_type": "slide"
    }
   },
   "source": [
    "### Classification Problem:  Data\n",
    "\n",
    "- **Training:**  Learn a classifier $h(x)$ from data,\n",
    "    $$ \\text{Training} \\quad \\{ (x_1, t_1), \\dots, (x_N, t_N) \\} \\implies \\text{Hypothesis} \\quad h $$\n",
    "- **Testing:** Evaluate learned classifier on test data,\n",
    "    $$ \\text{Testing} \\quad \\{ (x^{test}_1, t^{test}_1), \\dots, (x^{test}_m, t^{test}_m) \\} \\stackrel{h}{\\implies} \\text{Error Estimate} $$"
   ]
  },
  {
   "cell_type": "markdown",
   "metadata": {
    "slideshow": {
     "slide_type": "slide"
    }
   },
   "source": [
    "### Classification Problem:  Testing\n",
    "\n",
    "- Testing data $$\\{ (x^{test}_1, t^{test}_1), \\dots, (x^{test}_m, t^{test}_m) \\}$$\n",
    "- The learning algorithm **h** produces **predictions**\n",
    "    $$ \\{ h(x^{test}_1), \\dots, h(x^{test}_m) \\} $$\n",
    "- To estimate **classification error**, use e.g. *zero-one loss*:\n",
    "    $$\n",
    "    E = \\frac{1}{m} \\sum_{j=1}^m \\mathbb{1} [ h(x^{test}_j) \\neq t^{test}_j) ]\n",
    "    $$"
   ]
  },
  {
   "cell_type": "markdown",
   "metadata": {
    "slideshow": {
     "slide_type": "slide"
    }
   },
   "source": [
    "### Classification Problems:  Strategies\n",
    "\n",
    "- **Nearest-Neighbors:**  Given query data $x$, find closest training points and do a majority vote.\n",
    "- **Discriminant Functions:**  Learn a function $y(x)$ mapping $x$ to some class $C_k$.\n",
    "- **Probabilistic Model:**  Learn the distributions $P(C_k | x)$\n",
    "    - *Discriminative Models* directly model $P(C_k | x)$ and learn parameters from the training set.\n",
    "    - *Generative Models* learn class-conditional densities $P(x | C_k)$ and priors $P(C_k)$"
   ]
  },
  {
   "cell_type": "markdown",
   "metadata": {
    "slideshow": {
     "slide_type": "slide"
    }
   },
   "source": [
    "# Logistic Regression"
   ]
  },
  {
   "cell_type": "markdown",
   "metadata": {
    "slideshow": {
     "slide_type": "slide"
    }
   },
   "source": [
    "### Probabilistic Discriminative Models\n",
    "\n",
    "- Model decision boundary as a function of input $x$\n",
    "    - Learn $P(C_k | x)$ over data (e.g maximum likelihood)\n",
    "    - Directly predict class labels from inputs\n",
    "- Later:  Probabilistic Generative Models\n",
    "    - Learn $P(C_k, x)$ over data, then use Bayes' rule to predict $P(C_k | x)$"
   ]
  },
  {
   "cell_type": "markdown",
   "metadata": {
    "slideshow": {
     "slide_type": "slide"
    }
   },
   "source": [
    "### Logistic Regression\n",
    "\n",
    "- Models the **class posterior** using a sigmoid applied to a linear function of the feature vector:\n",
    "    $$\n",
    "    P(C_1 | \\phi) = y(\\phi) = \\sigma(w^T \\phi(x))\n",
    "    $$\n",
    "    where $\\sigma(a)=\\frac{1}{1+exp(-a)}$\n",
    "- We can solve the paramter $w$ by maximizing the likelihood of the training data."
   ]
  },
  {
   "cell_type": "markdown",
   "metadata": {
    "slideshow": {
     "slide_type": "slide"
    }
   },
   "source": [
    "### Sigmoid and Logit Functions\n",
    "\n",
    "The **logistic sigmoid function** is $$ \\sigma(a) = \\frac{1}{1 + \\exp(-a)}$$"
   ]
  },
  {
   "cell_type": "code",
   "execution_count": 9,
   "metadata": {
    "collapsed": false
   },
   "outputs": [
    {
     "data": {
      "image/png": "[encoded data removed]",
      "text/plain": [
       "<matplotlib.figure.Figure at 0x3e03ac8>"
      ]
     },
     "metadata": {},
     "output_type": "display_data"
    }
   ],
   "source": [
    "def sigmoid(a):  return 1 / (1 + np.exp(-a));\n",
    "\n",
    "xvals = np.linspace(-10,10,100);\n",
    "plt.plot(xvals, sigmoid(xvals));"
   ]
  },
  {
   "cell_type": "markdown",
   "metadata": {
    "slideshow": {
     "slide_type": "slide"
    }
   },
   "source": [
    "### Sigmoid and Logit Functions\n",
    "\n",
    "Its inverse is the **logit function** or the log-odds ratio,\n",
    "    $$\n",
    "    a = \\ln \\left( \\frac{\\sigma}{1-\\sigma} \\right)\n",
    "    $$"
   ]
  },
  {
   "cell_type": "code",
   "execution_count": 10,
   "metadata": {
    "collapsed": false
   },
   "outputs": [
    {
     "data": {
      "image/png": "[encoded data removed]",
      "text/plain": [
       "<matplotlib.figure.Figure at 0x1b33b8d0>"
      ]
     },
     "metadata": {},
     "output_type": "display_data"
    }
   ],
   "source": [
    "def logit(sigma): return np.log(sigma / (1-sigma));\n",
    "\n",
    "xvals = np.linspace(0.001, 0.999, 100);\n",
    "plt.plot(xvals, logit(xvals));"
   ]
  },
  {
   "cell_type": "markdown",
   "metadata": {
    "slideshow": {
     "slide_type": "slide"
    }
   },
   "source": [
    "### Sigmoid and Logit Functions\n",
    "\n",
    "The sigmoid function generalizes to the **normalized exponential** or **softmax** function:\n",
    "\n",
    "$$\n",
    "p_k = \\frac{\\exp(q_k)}{\\sum_j \\exp(q_j)}\n",
    "$$"
   ]
  },
  {
   "cell_type": "markdown",
   "metadata": {
    "slideshow": {
     "slide_type": "slide"
    }
   },
   "source": [
    "### Likelihood Function\n",
    "\n",
    "- Depending on the label $y$, the likelihood $x$ is defined as\n",
    "    $$\n",
    "    \\begin{align}\n",
    "    P(t = 1 | x,w) &= \\sigma(w^T \\phi(x)) \\\\\n",
    "    P(t = 0 | x,w) &= 1 - \\sigma(w^T \\phi(x))\n",
    "    \\end{align}\n",
    "    $$\n",
    "- With a clever trick, the likelihood becomes\n",
    "    $$\n",
    "    P(t | x,w) = \\sigma(w^T \\phi(x))^t \\cdot (1 - \\sigma(w^T \\phi(x)))^{1-t}\n",
    "    $$"
   ]
  },
  {
   "cell_type": "markdown",
   "metadata": {
    "slideshow": {
     "slide_type": "slide"
    }
   },
   "source": [
    "### Logistic Regression\n",
    "\n",
    "- For a data set $\\{ (\\phi(x_n), t_n) \\}$ where $t_n \\in \\{ 0,1 \\}$, the **likelihood function** is\n",
    "    $$\n",
    "    P(t | w) = \\prod_{n=1}^N y_n^{t_n} (1-y_n) ^{1-t_n}\n",
    "    $$\n",
    "    - where $y_n = P(C_1 | \\phi(x_n)) = \\sigma(w^T \\phi(x_n))$\n",
    "- Minimize the **loss function** $E(w) = -\\ln P(t|w)$ to maximize the likelihood"
   ]
  },
  {
   "cell_type": "markdown",
   "metadata": {
    "slideshow": {
     "slide_type": "slide"
    }
   },
   "source": [
    "### Derivation:  $\\nabla_w \\ln P(t | w)$"
   ]
  },
  {
   "cell_type": "markdown",
   "metadata": {
    "slideshow": {
     "slide_type": "fragment"
    }
   },
   "source": [
    "$ = \\sum_{n=1} \\nabla_w \\left[ \n",
    "        t_n \\ln \\sigma(w^T \\phi(x_n)) + (1-t_n) \\ln(1 - \\sigma(w^T \\phi(x_n))\n",
    "  \\right]\n",
    "$"
   ]
  },
  {
   "cell_type": "markdown",
   "metadata": {
    "slideshow": {
     "slide_type": "fragment"
    }
   },
   "source": [
    "$ = \\sum_{n=1}^N \\left( \n",
    "        t_n       \\frac{y_n (1-y_n )}{y_n} - (1-t_n) \\frac{y_n (1-y_n )}{1-y_n }\n",
    "    \\right) \\nabla_w\\left[ w^T \\phi(x_n) \\right]\n",
    "$"
   ]
  },
  {
   "cell_type": "markdown",
   "metadata": {
    "slideshow": {
     "slide_type": "fragment"
    }
   },
   "source": [
    "$\n",
    "= \\sum_{n=1}^N \\left( \n",
    "    t_n(1-y_n ) - (1-t_n) y_n \n",
    "    \\right) \\nabla_w\\left[ w^T \\phi(x_n) \\right]\n",
    "$"
   ]
  },
  {
   "cell_type": "markdown",
   "metadata": {
    "slideshow": {
     "slide_type": "fragment"
    }
   },
   "source": [
    "$\n",
    "= \\sum_{n=1}^N (t_n - y_n ) \\phi(x_n)\n",
    "= \\sum_{n=1}^N \\left[ t_n - \\sigma(w^T \\phi(x_n)) \\right] \\phi(x_n)\n",
    "$"
   ]
  },
  {
   "cell_type": "markdown",
   "metadata": {
    "slideshow": {
     "slide_type": "slide"
    }
   },
   "source": [
    "### Logistic Regression:  Gradient Descent\n",
    "\n",
    "We have just shown that the gradient of the loss is\n",
    "    $$\n",
    "    \\begin{gather}\n",
    "    \\nabla_w E(w) = \\sum_{n=1}^N (y_n - t_n) \\phi(x_n) \\\\\n",
    "    y_n = P(C_1 | \\phi(x_n)) = \\sigma(w^T \\phi(x_n))\n",
    "    \\end{gather}\n",
    "    $$\n",
    "\n",
    "- This resembles the gradient expression from linear regression with least squares!\n",
    "    $$\n",
    "    \\begin{align}\n",
    "    \\text{Linear} \\quad & y_n - t_n = \\sigma(w^T \\phi(x_n)) - t_n \\\\\n",
    "    \\text{Logistic} \\quad & y_n - t_n = w^T \\phi(x_n) - t_n\n",
    "    \\end{align}\n",
    "    $$"
   ]
  },
  {
   "cell_type": "markdown",
   "metadata": {
    "slideshow": {
     "slide_type": "slide"
    }
   },
   "source": [
    "### Newton's Method:  Overview\n",
    "\n",
    "- **Goal:**  Minimize a general function $F(w)$ in one dimension by solving for\n",
    "    $$\n",
    "    f(w) = \\frac{\\partial F}{\\partial w} = 0\n",
    "    $$\n",
    "- **Newton's Method:** To find roots of $f$, Repeat until convergence:\n",
    "    $$\n",
    "    w \\leftarrow w - \\frac{f(w)}{f'(w)}\n",
    "    $$"
   ]
  },
  {
   "cell_type": "markdown",
   "metadata": {
    "slideshow": {
     "slide_type": "slide"
    }
   },
   "source": [
    "### Newton's Method:  Geometric Intuition\n",
    "\n",
    "- Find the roots of $f(w)$ by following its **tangent lines**.  The tangent line to $f$ at $w_{k-1}$ has equation\n",
    "    $$\n",
    "    \\ell(w) = f(w_{k-1}) + (w-w_{k-1}) f'(w_{k-1})\n",
    "    $$\n",
    "- Set next iterate $w_{k+1}$ to be **root** of tangent line:\n",
    "    $$\n",
    "    \\begin{gather}\n",
    "    f(w_{k-1}) + (w-w_{k-1}) f'(w_{k-1}) = 0 \\\\\n",
    "    \\implies \\boxed{ w = w_{k-1} - \\frac{f(w_{k-1})}{f'(w_{k-1})} }\n",
    "    \\end{gather}\n",
    "    $$"
   ]
  },
  {
   "cell_type": "markdown",
   "metadata": {
    "slideshow": {
     "slide_type": "slide"
    }
   },
   "source": [
    "### Newton's Method:  Geometric Intuition\n",
    "\n",
    "<img src=\"images/newton.jpg\">"
   ]
  },
  {
   "cell_type": "code",
   "execution_count": 11,
   "metadata": {
    "collapsed": false,
    "slideshow": {
     "slide_type": "slide"
    }
   },
   "outputs": [
    {
     "name": "stdout",
     "output_type": "stream",
     "text": [
      "Newton's Method did not converge.\n",
      "(\"Newton's Method:\", 6.018373602193873)\n"
     ]
    },
    {
     "data": {
      "image/png": "[encoded data removed]",
      "text/plain": [
       "<matplotlib.figure.Figure at 0x107223a90>"
      ]
     },
     "metadata": {},
     "output_type": "display_data"
    }
   ],
   "source": [
    "# custom newton's method -- see Canvas\n",
    "from newton_plot import *;\n",
    "\n",
    "def fn(x): return np.exp(x) - x**2;\n",
    "def d1(x): return np.exp(x) - 2*x;\n",
    "def d2(x): return np.exp(x) - 2;\n",
    "\n",
    "lst = [];\n",
    "print(\"Newton's Method:\", newton_exact(d1, d2, 10, lst=lst, maxn=4));\n",
    "plot_optimization(plt.gca(), fn, d1, lst, xlim=(6,12), ylim=(-4000, 30000), tangents=True);"
   ]
  },
  {
   "cell_type": "code",
   "execution_count": 12,
   "metadata": {
    "collapsed": false,
    "slideshow": {
     "slide_type": "slide"
    }
   },
   "outputs": [
    {
     "name": "stdout",
     "output_type": "stream",
     "text": [
      "Newton's Method did not converge.\n",
      "(\"Newton's Method:\", -0.0625)\n"
     ]
    },
    {
     "data": {
      "image/png": "[encoded data removed]",
      "text/plain": [
       "<matplotlib.figure.Figure at 0x107223190>"
      ]
     },
     "metadata": {},
     "output_type": "display_data"
    }
   ],
   "source": [
    "# custom newton's method -- see Canvas\n",
    "from newton_plot import *;\n",
    "\n",
    "def fn(x): return x**3;\n",
    "def d1(x): return 3 * x**2;\n",
    "def d2(x): return 6 * x;\n",
    "\n",
    "lst = [];\n",
    "print(\"Newton's Method:\", newton_exact(d1, d2, -1, lst=lst, maxn=4));\n",
    "plot_optimization(plt.gca(), fn, d1, lst, xlim=(-1.5,1.5), ylim=(-2,2), tangents=True);"
   ]
  },
  {
   "cell_type": "markdown",
   "metadata": {
    "slideshow": {
     "slide_type": "slide"
    }
   },
   "source": [
    "### Newton's Method:  Recap\n",
    "\n",
    "To minimize $F(w)$, find roots of $F'(w)$ via Newton's Method.\n",
    "\n",
    "**Repeat until convergence**:\n",
    "$$\n",
    "\\boxed{w \\leftarrow w - \\frac{F'(w)}{F''(w)}}\n",
    "$$"
   ]
  },
  {
   "cell_type": "markdown",
   "metadata": {
    "slideshow": {
     "slide_type": "slide"
    }
   },
   "source": [
    "### Newton's Method:  Multivariate Case\n",
    "\n",
    "Replace second derivative with the **Hessian Matrix**,\n",
    "    $$\n",
    "    H_{ij}(w) = \\frac{\\partial^2 F}{\\partial w_i \\partial w_j}\n",
    "    $$\n",
    "\n",
    "Newton update becomes:\n",
    "$$\n",
    "\\boxed{ w \\leftarrow w - H^{-1} \\nabla_w F}\n",
    "$$"
   ]
  },
  {
   "cell_type": "markdown",
   "metadata": {
    "slideshow": {
     "slide_type": "slide"
    }
   },
   "source": [
    "### Recall:  Linear Regression\n",
    "\n",
    "- For linear regression, least squares has a **closed-form solution**:\n",
    "    $$\n",
    "    w_{ML} = (\\Phi^T \\Phi)^{-1} \\Phi^T t\n",
    "    $$\n",
    "- This generalizes to weighted least squares, with diagonal weight matrix $R$,\n",
    "    $$\n",
    "    w_{WLS} = (\\Phi^T R \\Phi)^{-1} \\Phi^T R t\n",
    "    $$"
   ]
  },
  {
   "cell_type": "markdown",
   "metadata": {
    "slideshow": {
     "slide_type": "slide"
    }
   },
   "source": [
    "### Logistic Regression:  Newton's Method\n",
    "\n",
    "- For logistic regression, however, $\\nabla_w E(w) = 0$ is **nonlinear**, and no closed-form solution exists.  \n",
    "\n",
    "### We must iterate!\n",
    "\n",
    "- Newton's method is a good choice in many cases."
   ]
  },
  {
   "cell_type": "markdown",
   "metadata": {
    "slideshow": {
     "slide_type": "slide"
    }
   },
   "source": [
    "### Iterative Solution\n",
    "\n",
    "- Apply Newton's method to solve $\\nabla_w E(w) = 0$\n",
    "- This involves least squares with weights $R_{nn} = y_n (1-y_n) $\n",
    "- Since $R$ depends on $w$, and vice-versa, we get...\n",
    "\n",
    "**Iteratively-Reweighted Least Squares (IRLS)**\n",
    "<div style=\"border: 1px solid black; display: block; padding: 15px; margin: 10px 0\">\n",
    "Repeat Until Convergence:\n",
    "<br>\n",
    "1. $w^{(new)} = w_{WLS} = (\\Phi^T R \\Phi)^{-1} \\Phi^T R z$\n",
    "<br>\n",
    "2. $z = \\Phi w^{(old)} - R^{-1} (y - t)$\n",
    "</div>\n",
    "    "
   ]
  }
 ],
 "metadata": {
  "celltoolbar": "Slideshow",
  "kernelspec": {
   "display_name": "Python 2",
   "language": "python",
   "name": "python2"
  },
  "language_info": {
   "codemirror_mode": {
    "name": "ipython",
    "version": 2
   },
   "file_extension": ".py",
   "mimetype": "text/x-python",
   "name": "python",
   "nbconvert_exporter": "python",
   "pygments_lexer": "ipython2",
   "version": "2.7.11"
  }
 },
 "nbformat": 4,
 "nbformat_minor": 0
}
